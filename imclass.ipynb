{
  "nbformat": 4,
  "nbformat_minor": 0,
  "metadata": {
    "colab": {
      "provenance": [],
      "gpuType": "T4",
      "mount_file_id": "1wVwbTgsBzAe4RRgMhcHHBO9oKIEzhe7N",
      "authorship_tag": "ABX9TyOfyWBRvtN0uPc/SPLixQ9i",
      "include_colab_link": true
    },
    "kernelspec": {
      "name": "python3",
      "display_name": "Python 3"
    },
    "language_info": {
      "name": "python"
    },
    "accelerator": "GPU"
  },
  "cells": [
    {
      "cell_type": "markdown",
      "metadata": {
        "id": "view-in-github",
        "colab_type": "text"
      },
      "source": [
        "<a href=\"https://colab.research.google.com/github/joselyne20/Advanced-computer-vision/blob/main/imclass.ipynb\" target=\"_parent\"><img src=\"https://colab.research.google.com/assets/colab-badge.svg\" alt=\"Open In Colab\"/></a>"
      ]
    },
    {
      "cell_type": "code",
      "execution_count": null,
      "metadata": {
        "id": "BAy2ZRWgRP32"
      },
      "outputs": [],
      "source": []
    },
    {
      "cell_type": "code",
      "source": [
        "from google.colab import drive\n",
        "drive.mount('/content/drive')"
      ],
      "metadata": {
        "colab": {
          "base_uri": "https://localhost:8080/"
        },
        "id": "pCk0yx7GRXTO",
        "outputId": "6fc2a9b4-2fd6-497a-f057-1fd51e805167"
      },
      "execution_count": 1,
      "outputs": [
        {
          "output_type": "stream",
          "name": "stdout",
          "text": [
            "Drive already mounted at /content/drive; to attempt to forcibly remount, call drive.mount(\"/content/drive\", force_remount=True).\n"
          ]
        }
      ]
    },
    {
      "cell_type": "code",
      "source": [
        "import os\n",
        "import numpy as np\n",
        "import cv2\n",
        "\n",
        "class Process_data:\n",
        "  def __init__(self,shape = (224, 224), train_size = 5000, valSize = 1000,\n",
        "               data_path = '/content/drive/MyDrive/sem 2/advanced cv/FashionDataset/img'):\n",
        "    self.shape = shape\n",
        "    self.tSize = train_size\n",
        "    self.val_size = valSize\n",
        "    self.data_path = data_path\n",
        "    self.train_data = []\n",
        "    self.val_data = []\n",
        "    images = os.listdir(self.data_path)\n",
        "    for index, image in enumerate(images[:self.tSize]):\n",
        "      t_im = cv2.imread(os.path.join(self.data_path, image))\n",
        "      t_im.resize(224, 224, 3)\n",
        "      self.train_data.append(t_im)\n",
        "      if index < 1000:\n",
        "        val_im = cv2.imread(os.path.join(self.data_path, images[self.tSize+index]))\n",
        "        val_im.resize(224, 224, 3)\n",
        "        self.val_data.append(val_im)\n",
        "\n",
        "    # SAVE DATA FOR FUTURE USE\n",
        "    train_array = np.array(self.train_data)\n",
        "    val_array = np.array(self.val_data)\n",
        "\n",
        "    self.DATASET_PATH = os.path.join(self.data_path, 'dataset')\n",
        "    if not os.path.isfile(os.path.join(self.DATASET_PATH, 'train.npy')):\n",
        "      os.makedirs(self.DATASET_PATH, exist_ok=True)\n",
        "      np.save(os.path.join(self.DATASET_PATH, 'train.npy'), train_array)\n",
        "      print(\"TRAIN SAVED ....\")\n",
        "      np.save(os.path.join(self.DATASET_PATH, 'val.npy'), val_array)\n",
        "      print(\"IMAGE DATASETS FOR TRAIN AND VALIDATION WERE SAVED SUCCESSFULLY\")\n",
        "    else:\n",
        "      print(\"DATASETS ALREADY EXISTS\")\n",
        "\n",
        "  def load_data(self):\n",
        "    train = np.load(os.path.join(self.DATASET_PATH, 'train.npy'), allow_pickle=True)\n",
        "    val = np.load(os.path.join(self.DATASET_PATH, 'val.npy'), allow_pickle=True)\n",
        "    return train.astype('float32') / 255.0, val.astype('float32') / 255.0\n"
      ],
      "metadata": {
        "id": "d1UXWRNqRZdu"
      },
      "execution_count": 19,
      "outputs": []
    },
    {
      "cell_type": "code",
      "source": [
        "processor = Process_data()"
      ],
      "metadata": {
        "colab": {
          "base_uri": "https://localhost:8080/"
        },
        "id": "peF23D_yvrh2",
        "outputId": "b15de86d-c231-424f-8ceb-e3f49f16b21b"
      },
      "execution_count": 20,
      "outputs": [
        {
          "output_type": "stream",
          "name": "stdout",
          "text": [
            "TRAIN SAVED ....\n",
            "IMAGE DATASETS FOR TRAIN AND VALIDATION WERE SAVED SUCCESSFULLY\n"
          ]
        }
      ]
    },
    {
      "cell_type": "code",
      "source": [
        "train, val = processor.load_data()"
      ],
      "metadata": {
        "id": "anN-zPtO3Fjs"
      },
      "execution_count": 21,
      "outputs": []
    },
    {
      "cell_type": "code",
      "source": [
        "train.shape"
      ],
      "metadata": {
        "colab": {
          "base_uri": "https://localhost:8080/"
        },
        "id": "WmDTVvmxv8Yl",
        "outputId": "a69f5e9a-7307-40af-afff-2e967dac854f"
      },
      "execution_count": 23,
      "outputs": [
        {
          "output_type": "execute_result",
          "data": {
            "text/plain": [
              "(5000, 224, 224, 3)"
            ]
          },
          "metadata": {},
          "execution_count": 23
        }
      ]
    },
    {
      "cell_type": "code",
      "source": [
        "val.shape"
      ],
      "metadata": {
        "colab": {
          "base_uri": "https://localhost:8080/"
        },
        "id": "H3Ds7Sutv-FY",
        "outputId": "bbfd8ecd-a39c-401c-a909-8fb6f7e419a9"
      },
      "execution_count": 24,
      "outputs": [
        {
          "output_type": "execute_result",
          "data": {
            "text/plain": [
              "(1000, 224, 224, 3)"
            ]
          },
          "metadata": {},
          "execution_count": 24
        }
      ]
    },
    {
      "cell_type": "code",
      "source": [
        "data_arr = np.array(data)"
      ],
      "metadata": {
        "id": "dL9LwGG8wA79"
      },
      "execution_count": 7,
      "outputs": []
    },
    {
      "cell_type": "code",
      "source": [
        "data_arr.shape"
      ],
      "metadata": {
        "colab": {
          "base_uri": "https://localhost:8080/"
        },
        "id": "dYwxbsyQwFKA",
        "outputId": "f47cf390-26e1-46f4-c78e-af616d7634bc"
      },
      "execution_count": 8,
      "outputs": [
        {
          "output_type": "execute_result",
          "data": {
            "text/plain": [
              "(10, 224, 224, 3)"
            ]
          },
          "metadata": {},
          "execution_count": 8
        }
      ]
    },
    {
      "cell_type": "code",
      "source": [
        "# Import libraries\n",
        "import tensorflow as tf\n",
        "from tensorflow.keras.preprocessing.image import ImageDataGenerator\n",
        "from tensorflow.keras.models import Sequential\n",
        "from tensorflow.keras.layers import Conv2D, MaxPooling2D, Flatten, Dense\n",
        "\n",
        "# Load the CIFAR-10 dataset\n",
        "(x_train, y_train), (x_test, y_test) = cifar10.load_data()\n",
        "\n",
        "# Normalize pixel values (optional but recommended)\n",
        "x_train = x_train.astype('float32') / 255.0\n",
        "x_test = x_test.astype('float32') / 255.0\n",
        "\n",
        "# Data augmentation (optional but helpful)\n",
        "datagen = ImageDataGenerator(\n",
        "    width_shift_range=0.1,  # Randomly shift images horizontally\n",
        "    height_shift_range=0.1,  # Randomly shift images vertically\n",
        "    horizontal_flip=True  # Randomly flip images horizontally\n",
        ")\n",
        "datagen.fit(x_train)\n",
        "\n",
        "# Define the CNN model\n",
        "model = Sequential()\n",
        "model.add(Conv2D(32, (3, 3), activation='relu', kernel_initializer='he_uniform', input_shape=x_train.shape[1:]))\n",
        "model.add(MaxPooling2D((2, 2)))\n",
        "model.add(Conv2D(64, (3, 3), activation='relu', kernel_initializer='he_uniform'))\n",
        "model.add(MaxPooling2D((2, 2)))\n",
        "model.add(Flatten())\n",
        "model.add(Dense(64, activation='relu', kernel_initializer='he_uniform'))\n",
        "model.add(Dense(10, activation='softmax'))  # 10 units for 10 classes\n",
        "\n",
        "# Compile the model\n",
        "model.compile(loss='sparse_categorical_crossentropy', optimizer='adam', metrics=['accuracy'])\n",
        "\n",
        "# Train the model\n",
        "model.fit(datagen.flow(x_train, y_train, batch_size=32), epochs=10, validation_data=(x_test, y_test))\n",
        "\n",
        "# Evaluate the model\n",
        "loss, accuracy = model.evaluate(x_test, y_test)\n",
        "print('Test accuracy:', accuracy)\n",
        "\n",
        "# Save the model (optional)\n",
        "model.save('image_classifier.h5')\n"
      ],
      "metadata": {
        "id": "CWzaHeB2whXd"
      },
      "execution_count": null,
      "outputs": []
    },
    {
      "cell_type": "code",
      "source": [
        "import numpy as np\n",
        "\n",
        "# Assuming 'images' is your flat array containing 100 images\n",
        "# Each image has shape (height, width, channels)\n",
        "images = np.random.rand(100, 784)  # Example with 100 images of size 28x28 (flattened)\n",
        "\n",
        "# Reshape the array to have shape (number_of_images, height, width, channels)\n",
        "reshaped_images = images.reshape(100, 28, 28, 1)"
      ],
      "metadata": {
        "id": "ku_LKS1U17iM"
      },
      "execution_count": 9,
      "outputs": []
    },
    {
      "cell_type": "code",
      "source": [
        "reshaped_images[0]"
      ],
      "metadata": {
        "id": "sCZLSTvw19p1"
      },
      "execution_count": null,
      "outputs": []
    }
  ]
}