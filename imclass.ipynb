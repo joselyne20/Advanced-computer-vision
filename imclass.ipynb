{
  "cells": [
    {
      "cell_type": "markdown",
      "metadata": {
        "id": "view-in-github",
        "colab_type": "text"
      },
      "source": [
        "<a href=\"https://colab.research.google.com/github/joselyne20/Advanced-computer-vision/blob/main/imclass.ipynb\" target=\"_parent\"><img src=\"https://colab.research.google.com/assets/colab-badge.svg\" alt=\"Open In Colab\"/></a>"
      ]
    },
    {
      "cell_type": "code",
      "execution_count": null,
      "metadata": {
        "id": "BAy2ZRWgRP32"
      },
      "outputs": [],
      "source": []
    },
    {
      "cell_type": "code",
      "execution_count": null,
      "metadata": {
        "colab": {
          "base_uri": "https://localhost:8080/"
        },
        "id": "pCk0yx7GRXTO",
        "outputId": "bf90f97e-e4fa-4db9-fa10-ed767e7d33a2"
      },
      "outputs": [
        {
          "name": "stdout",
          "output_type": "stream",
          "text": [
            "Drive already mounted at /content/drive; to attempt to forcibly remount, call drive.mount(\"/content/drive\", force_remount=True).\n"
          ]
        }
      ],
      "source": [
        "from google.colab import drive\n",
        "drive.mount('/content/drive')"
      ]
    },
    {
      "cell_type": "code",
      "execution_count": 19,
      "metadata": {
        "id": "d1UXWRNqRZdu"
      },
      "outputs": [],
      "source": [
        "import os\n",
        "import numpy as np\n",
        "import cv2\n",
        "import pickle as pick\n",
        "\n",
        "class Process_data:\n",
        "  images_saved = 1\n",
        "  def __init__(self,shape = (224, 224),\n",
        "               images_data_path = '/content/drive/MyDrive/sem 2/advanced cv/FashionDataset'):\n",
        "    self.annotation_extension = 'train_attr.txt'\n",
        "    self.images_extension = 'train.txt'\n",
        "    self.shape = shape\n",
        "    self.data_path = images_data_path\n",
        "    self.train_data = []\n",
        "    self.val_data = []\n",
        "    self.images_path = os.path.join(self.data_path,'split', self.images_extension)\n",
        "    self.annotations_path = os.path.join(self.data_path,'split', self.annotation_extension)\n",
        "    self.DATASET_PATH = os.path.join(self.data_path, 'dataset')\n",
        "    images = os.listdir(self.data_path)\n",
        "    self.all_labels = []\n",
        "    with open(self.images_path, 'r') as f_images, open(self.annotations_path, 'r') as f_labels:\n",
        "      image_paths = [line.strip() for line in f_images]\n",
        "      labels = [line.strip() for line in f_labels]\n",
        "\n",
        "    # Check if number of image paths and labels match\n",
        "    if len(image_paths) != len(labels):\n",
        "      print(f\"Error: Number of image paths ({len(image_paths)}) doesn't match number of labels ({len(labels)}).\")\n",
        "\n",
        "    valStart = 5000\n",
        "    # Print the first 'num_images' image-label pairs\n",
        "    file_path_to_create = os.path.join(self.DATASET_PATH, 'train_data.npy')\n",
        "    if not os.path.isfile(file_path_to_create):\n",
        "      for i in range(len(image_paths)):\n",
        "        image_path = image_paths[i]\n",
        "        label = labels[i]\n",
        "        self.all_labels.append(label)\n",
        "        # Construct the complete image path\n",
        "        complete_image_path = os.path.join(self.data_path,'img', os.path.basename(image_path))\n",
        "\n",
        "        t_im = cv2.imread(complete_image_path)\n",
        "        t_im.resize(224, 224, 3)\n",
        "        self.train_data.append(t_im)\n",
        "        # print(f'READ [{i+1}]')\n",
        "        if i == 4999:\n",
        "          # SAVE LABELS\n",
        "          self.saveDataset(filename = 'train_labels.pickle', data = self.all_labels)\n",
        "          self.saveDataset(filename = 'train_data.npy', data = np.array(self.train_data))\n",
        "          self.all_labels = []\n",
        "          self.annotation_extension = 'val_attr.txt'\n",
        "          self.images_extension = 'val.txt'\n",
        "          print(\"TRAIN SAVED\")\n",
        "          self.images_path = os.path.join(self.data_path,'split', self.images_extension)\n",
        "          self.annotations_path = os.path.join(self.data_path,'split', self.annotation_extension)\n",
        "          break\n",
        "\n",
        "    self.annotation_extension = 'val_attr.txt'\n",
        "    self.images_extension = 'val.txt'\n",
        "    self.images_path = os.path.join(self.data_path,'split', self.images_extension)\n",
        "    self.annotations_path = os.path.join(self.data_path,'split', self.annotation_extension)\n",
        "    with open(self.images_path, 'r') as f_images, open(self.annotations_path, 'r') as f_labels:\n",
        "      image_paths = [line.strip() for line in f_images]\n",
        "      print(\"IMAGE PATHS SIZE : \", len(image_paths))\n",
        "      labels = [line.strip() for line in f_labels]\n",
        "      images = [os.path.join(self.data_path,'img', image) for image in os.listdir(os.path.join(self.data_path,'img'))[5000:]]\n",
        "\n",
        "    for i in list(range(1000)):\n",
        "      print(i, len(image_paths), len(labels))\n",
        "      label = labels[i]\n",
        "      self.all_labels.append(label)\n",
        "      # Construct the complete image path\n",
        "      complete_image_path = images[i]\n",
        "      t_im = cv2.imread(complete_image_path)\n",
        "      t_im.resize(224, 224, 3)\n",
        "      self.val_data.append(t_im)\n",
        "    # SAVE VALID LABELS\n",
        "    self.saveDataset(filename = 'val_labels.pickle', data = self.all_labels)\n",
        "    self.saveDataset(filename = 'val_data.npy', data = np.array(self.val_data))\n",
        "\n",
        "\n",
        "  def saveDataset(self, filename, data):\n",
        "    file_path = os.path.join(self.DATASET_PATH, filename)\n",
        "    if not os.path.isfile(file_path):\n",
        "      os.makedirs(self.DATASET_PATH, exist_ok=True)\n",
        "      if '.pickle' in filename:\n",
        "        with open(file_path, 'wb') as f:\n",
        "          pick.dump(data, f)\n",
        "      elif '.npy' in filename:\n",
        "        np.save(file_path, data)\n",
        "    else:\n",
        "      pass\n",
        "    Process_data.images_saved += 1\n",
        "    print(f'PROCESSED IMAGES: [{Process_data.images_saved}/6000]')\n",
        "\n",
        "  def load_data(self):\n",
        "    train = np.load(os.path.join(self.DATASET_PATH, 'train.npy'), allow_pickle=True)\n",
        "    val = np.load(os.path.join(self.DATASET_PATH, 'val.npy'), allow_pickle=True)\n",
        "    return train.astype('float32') / 255.0, val.astype('float32') / 255.0\n",
        "\n",
        "# Define base directory for your dataset (replace with your actual path)\n",
        "BASE_DIR = '/content/drive/MyDrive/sem 2/advanced cv/FashionDataset'  # Assuming your data is mounted on Colab\n",
        "\n",
        "# Define subdirectories containing data (adjust as needed)\n",
        "IMAGES_DIR = os.path.join(BASE_DIR, 'img')  # Assuming images are in a subdirectory 'images'\n",
        "ANNOTATIONS_DIR = os.path.join(BASE_DIR, 'split')\n",
        "TRAIN_IMAGES_FILE = os.path.join(ANNOTATIONS_DIR, 'train.txt')\n",
        "TRAIN_LABELS_FILE = os.path.join(ANNOTATIONS_DIR, 'train_attr.txt')  # Assuming label file name"
      ]
    },
    {
      "cell_type": "code",
      "execution_count": null,
      "metadata": {
        "id": "peF23D_yvrh2"
      },
      "outputs": [],
      "source": [
        "processor = Process_data()"
      ]
    },
    {
      "cell_type": "code",
      "execution_count": null,
      "metadata": {
        "id": "anN-zPtO3Fjs"
      },
      "outputs": [],
      "source": [
        "train, val = processor.load_data()"
      ]
    },
    {
      "cell_type": "code",
      "execution_count": null,
      "metadata": {
        "colab": {
          "base_uri": "https://localhost:8080/"
        },
        "id": "WmDTVvmxv8Yl",
        "outputId": "a69f5e9a-7307-40af-afff-2e967dac854f"
      },
      "outputs": [
        {
          "data": {
            "text/plain": [
              "(5000, 224, 224, 3)"
            ]
          },
          "execution_count": 23,
          "metadata": {},
          "output_type": "execute_result"
        }
      ],
      "source": [
        "train.shape"
      ]
    },
    {
      "cell_type": "code",
      "execution_count": null,
      "metadata": {
        "colab": {
          "base_uri": "https://localhost:8080/"
        },
        "id": "H3Ds7Sutv-FY",
        "outputId": "bbfd8ecd-a39c-401c-a909-8fb6f7e419a9"
      },
      "outputs": [
        {
          "data": {
            "text/plain": [
              "(1000, 224, 224, 3)"
            ]
          },
          "execution_count": 24,
          "metadata": {},
          "output_type": "execute_result"
        }
      ],
      "source": [
        "val.shape"
      ]
    },
    {
      "cell_type": "code",
      "execution_count": null,
      "metadata": {
        "id": "dL9LwGG8wA79"
      },
      "outputs": [],
      "source": [
        "data_arr = np.array(data)"
      ]
    },
    {
      "cell_type": "code",
      "execution_count": null,
      "metadata": {
        "colab": {
          "base_uri": "https://localhost:8080/"
        },
        "id": "dYwxbsyQwFKA",
        "outputId": "f47cf390-26e1-46f4-c78e-af616d7634bc"
      },
      "outputs": [
        {
          "data": {
            "text/plain": [
              "(10, 224, 224, 3)"
            ]
          },
          "execution_count": 8,
          "metadata": {},
          "output_type": "execute_result"
        }
      ],
      "source": [
        "data_arr.shape"
      ]
    },
    {
      "cell_type": "markdown",
      "metadata": {
        "id": "s5akki2gChXR"
      },
      "source": [
        "##details"
      ]
    },
    {
      "cell_type": "code",
      "execution_count": null,
      "metadata": {
        "id": "rUgW0SPNCgn0"
      },
      "outputs": [],
      "source": [
        "import os\n",
        "\n",
        "# Define base directory for your dataset (replace with your actual path)\n",
        "BASE_DIR = '/path/to/your/dataset'\n",
        "\n",
        "# Define subdirectories containing data (adjust as needed)\n",
        "# TRAIN_DIR = os.path.join(BASE_DIR, 'train')\n",
        "# VAL_DIR = os.path.join(BASE_DIR, 'val')\n",
        "# TEST_DIR = os.path.join(BASE_DIR, 'test')\n",
        "\n",
        "# Define subdirectories containing annotations (adjust as needed)\n",
        "ANNOTATIONS_DIR = os.path.join(BASE_DIR, 'annotations')\n",
        "TRAIN_ANNOTATIONS = os.path.join(ANNOTATIONS_DIR, 'train.txt')\n",
        "VAL_ANNOTATIONS = os.path.join(ANNOTATIONS_DIR, 'val.txt')\n",
        "TEST_ANNOTATIONS = os.path.join(ANNOTATIONS_DIR, 'test.txt')\n",
        "\n",
        "# Define subdirectory containing image attributes (adjust as needed)\n",
        "ATTRIBUTES_DIR = os.path.join(BASE_DIR, 'attributes')\n",
        "TRAIN_ATTRIBUTES = os.path.join(ATTRIBUTES_DIR, 'train_attributes.txt')\n",
        "VAL_ATTRIBUTES = os.path.join(ATTRIBUTES_DIR, 'val_attributes.txt')\n",
        "TEST_ATTRIBUTES = os.path.join(ATTRIBUTES_DIR, 'test_attributes.txt')\n",
        "\n",
        "\n",
        "def split_data():\n",
        "  \"\"\"\n",
        "  Splits image data and attribute labels into training, validation, and test sets.\n",
        "  \"\"\"\n",
        "\n",
        "  # Open annotation files for train, validation, and test data (replace with your format)\n",
        "  with open(TRAIN_ANNOTATIONS, 'r') as f_train, open(VAL_ANNOTATIONS, 'r') as f_val, open(TEST_ANNOTATIONS, 'r') as f_test:\n",
        "    train_lines = f_train.readlines()\n",
        "    val_lines = f_val.readlines()\n",
        "    test_lines = f_test.readlines()\n",
        "split_data()\n",
        "  # # Open files for writing train, validation, and test data paths\n",
        "  # with open(os.path.join(BASE_DIR, 'train.txt'), 'w') as f_train_out, open(os.path.join(BASE_DIR, 'val.txt'), 'w') as f_val_out, open(os.path.join(BASE_DIR, 'test.txt'), 'w') as f_test_out:\n",
        "  #   for line in train_lines:\n",
        "  #     # Extract image path from the annotation line (replace with your format)\n",
        "  #     image_path = os.path.join(TRAIN_DIR, line.strip().split()[0])  # Assuming image path is the first element\n",
        "  #     f_train_out.write(f'{image_path}\\n')\n",
        "\n",
        "  #   for line in val_lines:\n",
        "  #     # Extract image path from the annotation line (replace with your format)\n",
        "  #     image_path = os.path.join(VAL_DIR, line.strip().split()[0])  # Assuming image path is the first element\n",
        "  #     f_val_out.write(f'{image_path}\\n')\n",
        "\n",
        "  #   for line in test_lines:\n",
        "  #     # Extract image path from the annotation line (replace with your format)\n",
        "  #     image_path = os.path.join(TEST_DIR, line.strip().split()[0])  # Assuming image path is the first element\n",
        "  #     f_test_out.write(f'{image_path}\\n')\n",
        "\n",
        "  # # Split attribute labels (replace with your logic to read and write attribute files)\n",
        "  # # Assuming you have separate files for train, validation, and test attributes\n",
        "  # with open(TRAIN_ATTRIBUTES, 'r') as f_train_attr, open(VAL_ATTRIBUTES, 'r') as f_val_attr, open(TEST_ATTRIBUTES, 'r') as f_test_attr:\n",
        "  #   train_attr_lines = f_train_attr.readlines()\n",
        "  #   val_attr_lines = f_val_attr.readlines()\n",
        "  #   test_attr_lines = f_test_attr.readlines()\n",
        "\n",
        "  # with open(TRAIN_ATTRIBUTES, 'w') as f_train_out_attr, open(VAL_ATTRIBUTES, 'w') as f_val_out_attr, open(TEST_ATTRIBUTES, 'w') as f_test_out_attr:\n",
        "  #   f_train_out_attr.writelines(train_attr_lines)\n",
        "  #   f_val_out_attr.writelines(val_attr_lines"
      ]
    },
    {
      "cell_type": "code",
      "execution_count": null,
      "metadata": {
        "id": "CWzaHeB2whXd"
      },
      "outputs": [],
      "source": [
        "# Import libraries\n",
        "import tensorflow as tf\n",
        "from tensorflow.keras.preprocessing.image import ImageDataGenerator\n",
        "from tensorflow.keras.models import Sequential\n",
        "from tensorflow.keras.layers import Conv2D, MaxPooling2D, Flatten, Dense\n",
        "\n",
        "# Load the CIFAR-10 dataset\n",
        "(x_train, y_train), (x_test, y_test) = cifar10.load_data()\n",
        "\n",
        "# Normalize pixel values (optional but recommended)\n",
        "x_train = x_train.astype('float32') / 255.0\n",
        "x_test = x_test.astype('float32') / 255.0\n",
        "\n",
        "# Data augmentation (optional but helpful)\n",
        "datagen = ImageDataGenerator(\n",
        "    width_shift_range=0.1,  # Randomly shift images horizontally\n",
        "    height_shift_range=0.1,  # Randomly shift images vertically\n",
        "    horizontal_flip=True  # Randomly flip images horizontally\n",
        ")\n",
        "datagen.fit(x_train)\n",
        "\n",
        "# Define the CNN model\n",
        "model = Sequential()\n",
        "model.add(Conv2D(32, (3, 3), activation='relu', kernel_initializer='he_uniform', input_shape=x_train.shape[1:]))\n",
        "model.add(MaxPooling2D((2, 2)))\n",
        "model.add(Conv2D(64, (3, 3), activation='relu', kernel_initializer='he_uniform'))\n",
        "model.add(MaxPooling2D((2, 2)))\n",
        "model.add(Flatten())\n",
        "model.add(Dense(64, activation='relu', kernel_initializer='he_uniform'))\n",
        "model.add(Dense(10, activation='softmax'))  # 10 units for 10 classes\n",
        "\n",
        "# Compile the model\n",
        "model.compile(loss='sparse_categorical_crossentropy', optimizer='adam', metrics=['accuracy'])\n",
        "\n",
        "# Train the model\n",
        "model.fit(datagen.flow(x_train, y_train, batch_size=32), epochs=10, validation_data=(x_test, y_test))\n",
        "\n",
        "# Evaluate the model\n",
        "loss, accuracy = model.evaluate(x_test, y_test)\n",
        "print('Test accuracy:', accuracy)\n",
        "\n",
        "# Save the model (optional)\n",
        "model.save('image_classifier.h5')\n"
      ]
    },
    {
      "cell_type": "code",
      "execution_count": null,
      "metadata": {
        "id": "ku_LKS1U17iM"
      },
      "outputs": [],
      "source": [
        "import numpy as np\n",
        "\n",
        "# Assuming 'images' is your flat array containing 100 images\n",
        "# Each image has shape (height, width, channels)\n",
        "images = np.random.rand(100, 784)  # Example with 100 images of size 28x28 (flattened)\n",
        "\n",
        "# Reshape the array to have shape (number_of_images, height, width, channels)\n",
        "reshaped_images = images.reshape(100, 28, 28, 1)"
      ]
    },
    {
      "cell_type": "code",
      "execution_count": null,
      "metadata": {
        "id": "sCZLSTvw19p1"
      },
      "outputs": [],
      "source": [
        "reshaped_images[0]"
      ]
    },
    {
      "cell_type": "code",
      "execution_count": null,
      "metadata": {
        "colab": {
          "base_uri": "https://localhost:8080/"
        },
        "id": "kP-mxDe0-Fmg",
        "outputId": "3e0f9893-43cd-4637-aee8-b7b2d84344a0"
      },
      "outputs": [
        {
          "data": {
            "text/plain": [
              "[[0], [0], [0], [0], [0], [0]]"
            ]
          },
          "execution_count": 5,
          "metadata": {},
          "output_type": "execute_result"
        }
      ],
      "source": [
        "with open('/content/drive/MyDrive/sem 2/advanced cv/FashionDataset/split/train.txt') as f:\n",
        "  for line in f:\n",
        "    # print(line.split()[0])\n",
        "    pass\n",
        "\n",
        "labels = []\n",
        "att = 6\n",
        "\n",
        "for k in range(att):\n",
        "  labels.append([])\n",
        "\n",
        "for i in range(att):\n",
        "  labels[i].append(0)\n",
        "labels\n",
        "\n",
        "# # data loader\n",
        "# NUM_ATTR = 6\n",
        "# class FashionNet_Dataset:\n",
        "#     def _init_(self, root = '/content/drive/MyDrive/sem 2/advanced cv/FashionDataset', txt, dataset):\n",
        "#         self.img_path = []\n",
        "#         self.labels = [[] for _ in range(NUM_ATTR)]\n",
        "\n",
        "#         with open(txt) as f:\n",
        "#             for line in f:\n",
        "#                 self.img_path.append(os.path.join(root, line.split()[0]))\n",
        "#                 # make dummy label for test set\n",
        "#                 if 'test' in txt:\n",
        "#                     for i in range(NUM_ATTR):\n",
        "#                         self.labels[i].append(0)\n",
        "#         if 'test' not in txt:\n",
        "#             with open(txt.replace('.txt', '_attr.txt')) as f:\n",
        "#                 for line in f:\n",
        "#                     attrs = line.split()\n",
        "#                     for i in range(NUM_ATTR):\n",
        "#                         self.labels[i].append(int(attrs[i]))\n",
        "\n",
        "#     def _len_(self):\n",
        "#         return len(self.labels[0])\n",
        "\n",
        "#     def _getitem_(self, index):\n",
        "\n",
        "#         path = self.img_path[index]\n",
        "#         label = np.array([self.labels[i][index] for i in range(NUM_ATTR)])\n",
        "\n",
        "#         with open(path, 'rb') as f:\n",
        "#             sample = Image.open(f).convert('RGB')\n",
        "\n",
        "#         ...\n",
        "\n",
        "#         return sample, label, index\n",
        "\n",
        "\n",
        "# # evaluation\n",
        "# def compute_avg_class_acc(gt_labels, pred_labels):\n",
        "#     num_attr = 6\n",
        "#     num_classes = [7, 3, 3, 4, 6, 3]  # number of classes in each attribute\n",
        "\n",
        "#     per_class_acc = []\n",
        "#     for attr_idx in range(num_attr):\n",
        "#         for idx in range(num_classes[attr_idx]):\n",
        "#             target = gt_labels[:, attr_idx]\n",
        "#             pred = pred_labels[:, attr_idx]\n",
        "#             correct = np.sum((target == pred) * (target == idx))\n",
        "#             total = np.sum(target == idx)\n",
        "#             per_class_acc.append(float(correct) / float(total))\n",
        "\n",
        "#     return sum(per_class_acc) / len(per_class_acc)"
      ]
    },
    {
      "cell_type": "code",
      "execution_count": null,
      "metadata": {
        "id": "Cr9fBIdUPgZ2"
      },
      "outputs": [],
      "source": []
    },
    {
      "cell_type": "code",
      "execution_count": null,
      "metadata": {
        "colab": {
          "base_uri": "https://localhost:8080/"
        },
        "id": "Fz-WuBo1Pg4E",
        "outputId": "04107448-7c36-4909-882b-1167ba9527db"
      },
      "outputs": [
        {
          "name": "stdout",
          "output_type": "stream",
          "text": [
            "size:  5000 650\n"
          ]
        }
      ],
      "source": [
        "with open('/content/drive/MyDrive/sem 2/advanced cv/FashionDataset/split/train_attr.txt') as f:\n",
        "  lines = [int(label.replace('\\n', '').replace(' ', '')) for label in f.readlines()]\n",
        "  set_lines = set(lines)\n",
        "  print('size: ', len(lines), len(set_lines))\n"
      ]
    }
  ],
  "metadata": {
    "accelerator": "GPU",
    "colab": {
      "gpuType": "T4",
      "provenance": [],
      "mount_file_id": "1wVwbTgsBzAe4RRgMhcHHBO9oKIEzhe7N",
      "authorship_tag": "ABX9TyN0cKf0OCoytgRYk2rmbLDA",
      "include_colab_link": true
    },
    "kernelspec": {
      "display_name": "Python 3",
      "name": "python3"
    },
    "language_info": {
      "name": "python"
    }
  },
  "nbformat": 4,
  "nbformat_minor": 0
}