{
  "cells": [
    {
      "cell_type": "markdown",
      "metadata": {
        "id": "view-in-github",
        "colab_type": "text"
      },
      "source": [
        "<a href=\"https://colab.research.google.com/github/joselyne20/Advanced-computer-vision/blob/main/acv.ipynb\" target=\"_parent\"><img src=\"https://colab.research.google.com/assets/colab-badge.svg\" alt=\"Open In Colab\"/></a>"
      ]
    },
    {
      "cell_type": "markdown",
      "metadata": {
        "id": "aKUovJxw9f2U"
      },
      "source": [
        "# Setup"
      ]
    },
    {
      "cell_type": "code",
      "source": [
        "from google.colab import drive\n",
        "drive.mount('/content/drive')"
      ],
      "metadata": {
        "colab": {
          "base_uri": "https://localhost:8080/"
        },
        "id": "8mnQiGURIxcz",
        "outputId": "0d8ee140-c35d-42f1-9c56-b1db91976832"
      },
      "execution_count": null,
      "outputs": [
        {
          "output_type": "stream",
          "name": "stdout",
          "text": [
            "Mounted at /content/drive\n"
          ]
        }
      ]
    },
    {
      "cell_type": "code",
      "execution_count": 1,
      "metadata": {
        "id": "RLlEw9i4lD_7"
      },
      "outputs": [],
      "source": [
        "import pandas as pd\n",
        "import numpy as np\n",
        "import matplotlib.pyplot as plt\n",
        "import os\n",
        "from zipfile import ZipFile\n",
        "from sklearn.metrics import classification_report\n",
        "\n",
        "import tensorflow as tf\n",
        "from tensorflow.keras.layers import Input, Conv2D, MaxPooling2D, \\\n",
        "                               Flatten, Dense, GlobalAveragePooling2D, \\\n",
        "                                  Dropout, BatchNormalization, ReLU\n",
        "\n",
        "from tensorflow.keras.models import Model\n",
        "from tensorflow.keras.preprocessing.image import load_img, img_to_array\n",
        "from tensorflow.keras.applications.resnet50 import preprocess_input, ResNet50\n",
        "from tensorflow.keras.applications.resnet import ResNet101\n",
        "from tensorflow.keras.preprocessing.image import ImageDataGenerator\n",
        "\n",
        "from sklearn.metrics import precision_score, recall_score, f1_score, accuracy_score, \\\n",
        "                    classification_report\n",
        "\n",
        "from imblearn.over_sampling import SMOTE\n",
        "from imblearn.under_sampling import RandomUnderSampler\n",
        "from collections import Counter\n",
        "\n",
        "from tqdm.auto import tqdm\n",
        "\n",
        "plt.style.use('ggplot')"
      ]
    },
    {
      "cell_type": "code",
      "execution_count": null,
      "metadata": {
        "id": "QdWgxLHFlUEW"
      },
      "outputs": [],
      "source": [
        "# Current working directory according to project\n",
        "\n",
        "# os.chdir('os.chdir('/content/drive/MyDrive/working_directory'))"
      ]
    },
    {
      "cell_type": "code",
      "source": [
        "os.chdir('/content/drive/MyDrive/sem 2/advanced cv/FashionDataset')"
      ],
      "metadata": {
        "id": "Bctgb21tMvdu"
      },
      "execution_count": 2,
      "outputs": []
    },
    {
      "cell_type": "markdown",
      "source": [
        "# Utilities"
      ],
      "metadata": {
        "id": "3JYnvWskeLtL"
      }
    },
    {
      "cell_type": "markdown",
      "source": [
        "In our project we seperating cnn block from six softmax blocks. Thereby we need a feature extractor, which utilizes the base model such as pretrained Resnet or else. It starts a loop, taking all image paths into account, one by one it loads an image, passes it Base models CNN layer extract features, flatten them and returns the flatten features."
      ],
      "metadata": {
        "id": "YXniy-NHEDdV"
      }
    },
    {
      "cell_type": "code",
      "source": [
        "def feature_extractor(data, image_size, base_model):\n",
        "\n",
        "    input_shape = (image_size, image_size, 3)\n",
        "    inputs = Input(shape=input_shape,name = 'image_input')\n",
        "    x = base_model(inputs)\n",
        "    x = Flatten()(x)\n",
        "    model = Model(inputs=inputs, outputs=x)\n",
        "\n",
        "    features_retrieved = []\n",
        "\n",
        "    for img_path in tqdm(data, total=len(data), desc=\"Retrieving features\"):\n",
        "        img = load_img(img_path, target_size=(image_size, image_size))\n",
        "        x = img_to_array(img)\n",
        "        x = np.expand_dims(x, axis=0)\n",
        "        x = preprocess_input(x)\n",
        "\n",
        "        features = model.predict(x, verbose=0)\n",
        "\n",
        "        features_reduce =  features.squeeze()\n",
        "\n",
        "        features_retrieved.append(features_reduce)\n",
        "\n",
        "    return features_retrieved"
      ],
      "metadata": {
        "id": "ot5fu8JWeLd_"
      },
      "execution_count": 3,
      "outputs": []
    },
    {
      "cell_type": "markdown",
      "metadata": {
        "id": "QVBb26fDwcEM"
      },
      "source": [
        "# Hyperparameters"
      ]
    },
    {
      "cell_type": "code",
      "execution_count": 4,
      "metadata": {
        "id": "e_Zm2JyEFmkL"
      },
      "outputs": [],
      "source": [
        "IMAGE_SIZE=150\n",
        "SHUFFLE_BUFFER_SIZE = 1000\n",
        "BATCH_SIZE=32\n",
        "NUM_SUBCATEGORIES = [7, 3, 3, 4, 6, 3]\n",
        "BASE_MODEL = ResNet101(weights='imagenet', include_top=False, input_shape=(IMAGE_SIZE, IMAGE_SIZE, 3))"
      ]
    },
    {
      "cell_type": "markdown",
      "metadata": {
        "id": "QU5zjiD5nmpr"
      },
      "source": [
        "# Data"
      ]
    },
    {
      "cell_type": "markdown",
      "metadata": {
        "id": "NX-yJCIEwnXq"
      },
      "source": [
        "## Data Reading"
      ]
    },
    {
      "cell_type": "code",
      "execution_count": 5,
      "metadata": {
        "id": "7qvV4tQF-AIu"
      },
      "outputs": [],
      "source": [
        "attributes = pd.read_csv('data/raw/split/list_attr_cloth.txt', delim_whitespace=True, skiprows=1)"
      ]
    },
    {
      "cell_type": "code",
      "execution_count": 6,
      "metadata": {
        "id": "FJyn0YKC-Nei"
      },
      "outputs": [],
      "source": [
        "attribute_mapping  = {i: attr for i, attr in enumerate(attributes.attribute_name, start=0)}"
      ]
    },
    {
      "cell_type": "code",
      "execution_count": 7,
      "metadata": {
        "id": "pUWmGlO1wlM5"
      },
      "outputs": [],
      "source": [
        "# Define paths\n",
        "image_dir = 'data/raw'\n",
        "train_image_path = 'data/raw/split/train.txt'\n",
        "train_attr_path = 'data/raw/split/train_attr.txt'\n",
        "val_image_path = 'data/raw/split/val.txt'\n",
        "val_attr_path = 'data/raw/split/val_attr.txt'\n",
        "test_image_path = 'data/raw/split/test.txt'\n",
        "\n",
        "# Load the training image paths\n",
        "with open(train_image_path, 'r') as f:\n",
        "    train_image_paths = [line.strip() for line in f.readlines()]\n",
        "\n",
        "# Load the training labels\n",
        "with open(train_attr_path, 'r') as f:\n",
        "    train_labels = [list(map(int, line.strip().split())) for line in f.readlines()]\n",
        "\n",
        "# Load the validation image paths\n",
        "with open(val_image_path, 'r') as f:\n",
        "    val_image_paths = [line.strip() for line in f.readlines()]\n",
        "\n",
        "# Load the validation labels\n",
        "with open(val_attr_path, 'r') as f:\n",
        "    val_labels = [list(map(int, line.strip().split())) for line in f.readlines()]\n",
        "\n",
        "# Load the testing image paths\n",
        "with open(test_image_path, 'r') as f:\n",
        "    test_image_paths = [line.strip() for line in f.readlines()]"
      ]
    },
    {
      "cell_type": "code",
      "source": [
        "np.save('data/processed/train/train_labels.npy', train_labels)\n",
        "np.save('data/processed/val/val_labels.npy', val_labels)\n",
        "#np.save('data/processed/test/test_labels.npy', test_labels)"
      ],
      "metadata": {
        "id": "lnXLg3bSnpk2"
      },
      "execution_count": 8,
      "outputs": []
    },
    {
      "cell_type": "code",
      "source": [
        "# Arranging the paths\n",
        "\n",
        "train_image_paths = [os.path.join(image_dir, image_path) for image_path in train_image_paths]\n",
        "val_image_paths = [os.path.join(image_dir, image_path) for image_path in val_image_paths]\n",
        "test_image_paths = [os.path.join(image_dir, image_path) for image_path in test_image_paths]"
      ],
      "metadata": {
        "id": "tqcVZlyuiBlc"
      },
      "execution_count": 9,
      "outputs": []
    },
    {
      "cell_type": "markdown",
      "source": [
        "## Feature Extraction"
      ],
      "metadata": {
        "id": "0FqrTUiKeHVJ"
      }
    },
    {
      "cell_type": "code",
      "source": [
        "# Extracting training data features and saving it at data/processed/train\n",
        "\n",
        "train_data_features = feature_extractor(\n",
        "    data=train_image_paths,\n",
        "    image_size=IMAGE_SIZE,\n",
        "    base_model=BASE_MODEL)\n",
        "\n",
        "train_data_features = np.array(train_data_features)\n",
        "\n",
        "print(\"Train data features features\", train_data_features.shape)\n",
        "np.save('data/processed/train/train_data_features.npy', train_data_features)\n",
        "print('Training data features saved at data/processed/train/train_data_features.npy')"
      ],
      "metadata": {
        "colab": {
          "base_uri": "https://localhost:8080/",
          "height": 84,
          "referenced_widgets": [
            "3b3a90e01428420da3d93f927343fc3e",
            "2cda61b69187440d826369883ab564a0",
            "1de529d626a048f4b746e9976c87c677",
            "7bb41d76633742f19b1e079259914410",
            "855378fa86c04c7497d1b5712d2a68a0",
            "f5b41be2181a4a94a0c072d06e54ef04",
            "246b676e39e14c2a9928a83e2e50d653",
            "ab37b94fd16043488a05c4c71dd323a1",
            "587a9d700a2c4b7ab369b175a33f05fb",
            "7ba3750ca600475b88410df786184960",
            "c0d6265d31ed4016b4e3d46c23430b85"
          ]
        },
        "id": "sxJShXi6eHI5",
        "outputId": "61d77e30-0187-426b-d5b3-77489123a930"
      },
      "execution_count": 10,
      "outputs": [
        {
          "output_type": "display_data",
          "data": {
            "text/plain": [
              "Retrieving features:   0%|          | 0/5000 [00:00<?, ?it/s]"
            ],
            "application/vnd.jupyter.widget-view+json": {
              "version_major": 2,
              "version_minor": 0,
              "model_id": "3b3a90e01428420da3d93f927343fc3e"
            }
          },
          "metadata": {}
        },
        {
          "output_type": "stream",
          "name": "stdout",
          "text": [
            "Train data features features (5000, 51200)\n",
            "Training data features saved at data/processed/train/train_data_features.npy\n"
          ]
        }
      ]
    },
    {
      "cell_type": "code",
      "source": [
        "# Extracting validation data features and saving it at data/processed/val\n",
        "\n",
        "val_data_features = feature_extractor(\n",
        "    data=val_image_paths,\n",
        "    image_size=IMAGE_SIZE,\n",
        "    base_model=BASE_MODEL)\n",
        "\n",
        "val_data_features = np.array(val_data_features)\n",
        "\n",
        "print(\"Train data features features\", val_data_features.shape)\n",
        "np.save('data/processed/val/val_data_features.npy', val_data_features)\n",
        "print('Training data features saved at data/processed/val/val_data_features.npy')"
      ],
      "metadata": {
        "colab": {
          "base_uri": "https://localhost:8080/",
          "height": 84,
          "referenced_widgets": [
            "4633445320bf44b4aa890311c161a9cc",
            "cbe8e41be5e24ad99f544251e42599eb",
            "3d5a59059f504ebabde1ce0377a448ca",
            "d56f892de862458d89a8644db45617f7",
            "84312e8462f841d98eb8936493268f94",
            "20fbd15a7957486fb1728028de329aee",
            "90f25d93438f45ec9267c83669a14055",
            "c2e61918d0ba41e9b2e1d0c037267a19",
            "eec859a764cc4a42a64d3e2a99110f56",
            "be41c35a324040359a3a0204ed206c55",
            "d7e2e248c97641e0a15dabd2ae8bd623"
          ]
        },
        "id": "V05z45fYiuGv",
        "outputId": "554a8d71-54ac-4c25-a61d-15668cb5b4ef"
      },
      "execution_count": 11,
      "outputs": [
        {
          "output_type": "display_data",
          "data": {
            "text/plain": [
              "Retrieving features:   0%|          | 0/1000 [00:00<?, ?it/s]"
            ],
            "application/vnd.jupyter.widget-view+json": {
              "version_major": 2,
              "version_minor": 0,
              "model_id": "4633445320bf44b4aa890311c161a9cc"
            }
          },
          "metadata": {}
        },
        {
          "output_type": "stream",
          "name": "stdout",
          "text": [
            "Train data features features (1000, 51200)\n",
            "Training data features saved at data/processed/val/val_data_features.npy\n"
          ]
        }
      ]
    },
    {
      "cell_type": "code",
      "source": [
        "# Extracting testing data features and saving it at data/processed/val\n",
        "\n",
        "test_data_features = feature_extractor(\n",
        "    data=test_image_paths,\n",
        "    image_size=IMAGE_SIZE,\n",
        "    base_model=BASE_MODEL)\n",
        "\n",
        "test_data_features = np.array(test_data_features)\n",
        "\n",
        "print(\"Train data features features\", test_data_features.shape)\n",
        "np.save('data/processed/test/test_data_features.npy', test_data_features)\n",
        "print('Training data features saved at data/processed/test/test_data_features.npy')"
      ],
      "metadata": {
        "colab": {
          "base_uri": "https://localhost:8080/",
          "height": 84,
          "referenced_widgets": [
            "a64b5bf4684747a5b618b8acbab62cd6",
            "51deada61e174ff7bb868be8287a9485",
            "fdd9e1e551f94ab0b2d3cfed6146a287",
            "70030d03b4994116a728d8580edad841",
            "e78dedb39ded4a91aa2643944cd97a8d",
            "5a727373a3524706a21c8cc20b44370f",
            "16c06459f6914ec88033ae9986a77c88",
            "5fe6b5bd86ac4a5db1c039f8291fe87b",
            "6b8ed8cef10543bb8735c8a1cd6c7c43",
            "a3dbe3f13405482a873bc931c125d1cf",
            "48198c1a0215477ebc9ca1fc6190d507"
          ]
        },
        "id": "P5_xnKNl7TAH",
        "outputId": "7abaa5d2-ca6f-43fe-e47f-931152d204bf"
      },
      "execution_count": 12,
      "outputs": [
        {
          "output_type": "display_data",
          "data": {
            "text/plain": [
              "Retrieving features:   0%|          | 0/1000 [00:00<?, ?it/s]"
            ],
            "application/vnd.jupyter.widget-view+json": {
              "version_major": 2,
              "version_minor": 0,
              "model_id": "a64b5bf4684747a5b618b8acbab62cd6"
            }
          },
          "metadata": {}
        },
        {
          "output_type": "stream",
          "name": "stdout",
          "text": [
            "Train data features features (1000, 51200)\n",
            "Training data features saved at data/processed/test/test_data_features.npy\n"
          ]
        }
      ]
    },
    {
      "cell_type": "code",
      "source": [],
      "metadata": {
        "id": "s-O7mKuvnLJR"
      },
      "execution_count": null,
      "outputs": []
    },
    {
      "cell_type": "markdown",
      "source": [
        "# Output 0"
      ],
      "metadata": {
        "id": "4hs8vjeaDFJd"
      }
    },
    {
      "cell_type": "markdown",
      "source": [
        "## Loading Features and Labels"
      ],
      "metadata": {
        "id": "uMGzS3HJDFJo"
      }
    },
    {
      "cell_type": "code",
      "source": [
        "train_data_features = np.load('data/processed/train/train_data_features.npy')\n",
        "train_data_labels = np.load('data/processed/train/train_labels.npy')\n",
        "\n",
        "val_data_features = np.load('data/processed/val/val_data_features.npy')\n",
        "val_data_labels = np.load('data/processed/val/val_labels.npy')"
      ],
      "metadata": {
        "id": "En9HEXL8DFJo"
      },
      "execution_count": null,
      "outputs": []
    },
    {
      "cell_type": "code",
      "source": [
        "N = 0 # Choosing which label to work with\n",
        "\n",
        "train_data_labels_n = train_data_labels[:, N]\n",
        "print(\"Training distribution:\", Counter(train_data_labels_n))\n",
        "\n",
        "val_data_labels_n = val_data_labels[:, N]\n",
        "print(\"Validation distribution:\", Counter(val_data_labels_n))"
      ],
      "metadata": {
        "colab": {
          "base_uri": "https://localhost:8080/"
        },
        "outputId": "80d10964-9c31-4d20-baf1-a65f964f788f",
        "id": "dt3Lk8V1DFJp"
      },
      "execution_count": null,
      "outputs": [
        {
          "output_type": "stream",
          "name": "stdout",
          "text": [
            "Training distribution: Counter({5: 2408, 1: 853, 0: 768, 3: 422, 2: 334, 4: 109, 6: 106})\n",
            "Validation distribution: Counter({5: 458, 0: 192, 1: 175, 3: 77, 2: 65, 6: 20, 4: 13})\n"
          ]
        }
      ]
    },
    {
      "cell_type": "markdown",
      "source": [
        "## Balancing training dataset"
      ],
      "metadata": {
        "id": "wibm1jalDFJp"
      }
    },
    {
      "cell_type": "code",
      "source": [
        "# Set the target number of samples for each class\n",
        "target_samples = 1000\n",
        "\n",
        "# Upsampling Minority classes using SMOTE\n",
        "smote = SMOTE(sampling_strategy={\n",
        "    0: 1000,\n",
        "    1: 2000,\n",
        "    2: 1000,\n",
        "    3: 1000,\n",
        "    4: 1000,\n",
        "    6: 1000\n",
        "})\n",
        "\n",
        "oversampled_features, oversampled_labels = smote.fit_resample(train_data_features, train_data_labels_n)\n",
        "\n",
        "# Downsample the majority class using RandomUnderSampler\n",
        "undersampler = RandomUnderSampler(sampling_strategy={\n",
        "    5: 2400\n",
        "})\n",
        "\n",
        "undersampled_features, undersampled_labels = undersampler.fit_resample(oversampled_features, oversampled_labels)\n",
        "\n",
        "print(\"Class distribution after balancing:\", Counter(undersampled_labels))\n",
        "print(\"Shape of oversampled features:\", undersampled_labels.shape)\n",
        "print(\"Shape of oversampled labels:\", undersampled_labels.shape)"
      ],
      "metadata": {
        "colab": {
          "base_uri": "https://localhost:8080/"
        },
        "outputId": "2b5b3cb9-b87b-4f84-e414-0027020f4efd",
        "id": "7E2aufw2DFJp"
      },
      "execution_count": null,
      "outputs": [
        {
          "output_type": "stream",
          "name": "stdout",
          "text": [
            "Class distribution after balancing: Counter({5: 2400, 1: 2000, 0: 1000, 2: 1000, 3: 1000, 4: 1000, 6: 1000})\n",
            "Shape of oversampled features: (9400,)\n",
            "Shape of oversampled labels: (9400,)\n"
          ]
        }
      ]
    },
    {
      "cell_type": "markdown",
      "source": [
        "## Training"
      ],
      "metadata": {
        "id": "chRswTwxDFJq"
      }
    },
    {
      "cell_type": "code",
      "source": [
        "input = Input(shape=(val_data_features.shape[1],))\n",
        "x = Dense(512)(input)\n",
        "x = BatchNormalization()(x)\n",
        "x = Dropout(0.2)(x)\n",
        "x = ReLU()(x)\n",
        "\n",
        "x = Dense(256)(x)\n",
        "x = BatchNormalization()(x)\n",
        "x = Dropout(0.2)(x)\n",
        "x = ReLU()(x)\n",
        "\n",
        "x = Dense(128)(x)\n",
        "x = BatchNormalization()(x)\n",
        "x = Dropout(0.2)(x)\n",
        "x = ReLU()(x)\n",
        "\n",
        "output = Dense(len(np.unique(train_data_labels_n)), activation='softmax', name=f'category_{1}_output')(x)\n",
        "\n",
        "model = Model(inputs=[input], outputs=[output])\n",
        "\n",
        "# Compile the model\n",
        "model.compile(optimizer='adam',\n",
        "              loss='sparse_categorical_crossentropy',\n",
        "              metrics=['accuracy'])"
      ],
      "metadata": {
        "id": "p8K1uvRDDFJq"
      },
      "execution_count": null,
      "outputs": []
    },
    {
      "cell_type": "code",
      "source": [
        "history = model.fit(\n",
        "    undersampled_features, undersampled_labels,\n",
        "    epochs=20,\n",
        "    batch_size=32,\n",
        "    validation_data = (val_data_features, val_data_labels_n)\n",
        ")"
      ],
      "metadata": {
        "colab": {
          "base_uri": "https://localhost:8080/"
        },
        "outputId": "901ba965-b03f-4852-e919-e9551a11568a",
        "id": "zP0GwuDhDFJq"
      },
      "execution_count": null,
      "outputs": [
        {
          "output_type": "stream",
          "name": "stdout",
          "text": [
            "Epoch 1/20\n",
            "294/294 [==============================] - 13s 19ms/step - loss: 0.8320 - accuracy: 0.7064 - val_loss: 1.0200 - val_accuracy: 0.6350\n",
            "Epoch 2/20\n",
            "294/294 [==============================] - 5s 17ms/step - loss: 0.3381 - accuracy: 0.8891 - val_loss: 1.0388 - val_accuracy: 0.6750\n",
            "Epoch 3/20\n",
            "294/294 [==============================] - 5s 16ms/step - loss: 0.1834 - accuracy: 0.9404 - val_loss: 1.1863 - val_accuracy: 0.6670\n",
            "Epoch 4/20\n",
            "294/294 [==============================] - 5s 18ms/step - loss: 0.1231 - accuracy: 0.9586 - val_loss: 1.3551 - val_accuracy: 0.6600\n",
            "Epoch 5/20\n",
            "294/294 [==============================] - 5s 16ms/step - loss: 0.0827 - accuracy: 0.9722 - val_loss: 1.4614 - val_accuracy: 0.6990\n",
            "Epoch 6/20\n",
            "294/294 [==============================] - 5s 16ms/step - loss: 0.0797 - accuracy: 0.9741 - val_loss: 1.7083 - val_accuracy: 0.6870\n",
            "Epoch 7/20\n",
            "294/294 [==============================] - 5s 18ms/step - loss: 0.0828 - accuracy: 0.9718 - val_loss: 1.5940 - val_accuracy: 0.6670\n",
            "Epoch 8/20\n",
            "294/294 [==============================] - 5s 16ms/step - loss: 0.0632 - accuracy: 0.9802 - val_loss: 1.7267 - val_accuracy: 0.6560\n",
            "Epoch 9/20\n",
            "294/294 [==============================] - 5s 16ms/step - loss: 0.0607 - accuracy: 0.9806 - val_loss: 1.6149 - val_accuracy: 0.6890\n",
            "Epoch 10/20\n",
            "294/294 [==============================] - 5s 18ms/step - loss: 0.0467 - accuracy: 0.9846 - val_loss: 1.7221 - val_accuracy: 0.6900\n",
            "Epoch 11/20\n",
            "294/294 [==============================] - 5s 16ms/step - loss: 0.0461 - accuracy: 0.9850 - val_loss: 1.7284 - val_accuracy: 0.6700\n",
            "Epoch 12/20\n",
            "294/294 [==============================] - 5s 17ms/step - loss: 0.0365 - accuracy: 0.9883 - val_loss: 2.0643 - val_accuracy: 0.6690\n",
            "Epoch 13/20\n",
            "294/294 [==============================] - 5s 17ms/step - loss: 0.0452 - accuracy: 0.9846 - val_loss: 1.8609 - val_accuracy: 0.6730\n",
            "Epoch 14/20\n",
            "294/294 [==============================] - 5s 17ms/step - loss: 0.0366 - accuracy: 0.9870 - val_loss: 1.8653 - val_accuracy: 0.6720\n",
            "Epoch 15/20\n",
            "294/294 [==============================] - 5s 19ms/step - loss: 0.0436 - accuracy: 0.9857 - val_loss: 1.8604 - val_accuracy: 0.6770\n",
            "Epoch 16/20\n",
            "294/294 [==============================] - 5s 16ms/step - loss: 0.0403 - accuracy: 0.9863 - val_loss: 1.8006 - val_accuracy: 0.6970\n",
            "Epoch 17/20\n",
            "294/294 [==============================] - 4s 15ms/step - loss: 0.0310 - accuracy: 0.9897 - val_loss: 2.0393 - val_accuracy: 0.6720\n",
            "Epoch 18/20\n",
            "294/294 [==============================] - 5s 18ms/step - loss: 0.0417 - accuracy: 0.9851 - val_loss: 1.9485 - val_accuracy: 0.6840\n",
            "Epoch 19/20\n",
            "294/294 [==============================] - 4s 15ms/step - loss: 0.0311 - accuracy: 0.9906 - val_loss: 1.9156 - val_accuracy: 0.6790\n",
            "Epoch 20/20\n",
            "294/294 [==============================] - 5s 17ms/step - loss: 0.0224 - accuracy: 0.9918 - val_loss: 1.9067 - val_accuracy: 0.6950\n"
          ]
        }
      ]
    },
    {
      "cell_type": "code",
      "source": [
        "r = pd.DataFrame(history.history)\n",
        "fig, ax = plt.subplots(1, 2, figsize=(15, 5))\n",
        "ax[0].plot(r.index, r['loss'], label='Train loss')\n",
        "ax[0].plot(r.index, r['val_loss'], label='Validation loss')\n",
        "ax[1].plot(r.index, r['accuracy'], label='Train accuracy')\n",
        "ax[1].plot(r.index, r['val_accuracy'], label='Validation accuracy')\n",
        "ax[0].legend()\n",
        "ax[1].legend()\n",
        "plt.show()"
      ],
      "metadata": {
        "colab": {
          "base_uri": "https://localhost:8080/",
          "height": 261
        },
        "outputId": "ab5de9f7-aa0a-497a-d1a0-4a6381e83912",
        "id": "ljuG9UffDFJq"
      },
      "execution_count": null,
      "outputs": [
        {
          "output_type": "display_data",
          "data": {
            "text/plain": [
              "<Figure size 1500x500 with 2 Axes>"
            ],
            "image/png": "[encoded data removed]"
          },
          "metadata": {}
        }
      ]
    },
    {
      "cell_type": "markdown",
      "source": [
        "## Evaluation"
      ],
      "metadata": {
        "id": "4kjhcXFlDFJr"
      }
    },
    {
      "cell_type": "code",
      "source": [
        "y_pred = model.predict(val_data_features)\n",
        "y_pred = np.argmax(y_pred, axis=1)"
      ],
      "metadata": {
        "colab": {
          "base_uri": "https://localhost:8080/"
        },
        "outputId": "d0903d21-1f1a-4e7d-cdc3-4d872e0132ba",
        "id": "JFXMQdovDFJr"
      },
      "execution_count": null,
      "outputs": [
        {
          "output_type": "stream",
          "name": "stdout",
          "text": [
            "32/32 [==============================] - 0s 5ms/step\n"
          ]
        }
      ]
    },
    {
      "cell_type": "code",
      "source": [
        "# Calculate precision, recall, and F1 score\n",
        "accuracy = accuracy_score(val_data_labels_n, y_pred)\n",
        "precision = precision_score(val_data_labels_n, y_pred, average='weighted')\n",
        "recall = recall_score(val_data_labels_n, y_pred, average='weighted')\n",
        "f1 = f1_score(val_data_labels_n, y_pred, average='weighted')\n",
        "\n",
        "# Print the results\n",
        "print('Accuracy:', accuracy)\n",
        "print('Precision:', precision)\n",
        "print('Recall:', recall)\n",
        "print('F1 score:', f1)"
      ],
      "metadata": {
        "colab": {
          "base_uri": "https://localhost:8080/"
        },
        "outputId": "5d002aad-30ed-41f3-e60b-1a99ff20d3b1",
        "id": "Qo57SZXKDFJr"
      },
      "execution_count": null,
      "outputs": [
        {
          "output_type": "stream",
          "name": "stdout",
          "text": [
            "Accuracy: 0.695\n",
            "Precision: 0.6881285750942202\n",
            "Recall: 0.695\n",
            "F1 score: 0.6863971030522126\n"
          ]
        }
      ]
    },
    {
      "cell_type": "code",
      "source": [
        "print(classification_report(val_data_labels_n, y_pred))"
      ],
      "metadata": {
        "colab": {
          "base_uri": "https://localhost:8080/"
        },
        "outputId": "f14cc1f1-bc51-43bb-9354-1aea126e3722",
        "id": "hSIX0sl2DFJr"
      },
      "execution_count": null,
      "outputs": [
        {
          "output_type": "stream",
          "name": "stdout",
          "text": [
            "              precision    recall  f1-score   support\n",
            "\n",
            "           0       0.63      0.62      0.63       192\n",
            "           1       0.62      0.44      0.52       175\n",
            "           2       0.63      0.68      0.65        65\n",
            "           3       0.50      0.49      0.50        77\n",
            "           4       0.18      0.23      0.20        13\n",
            "           5       0.79      0.89      0.84       458\n",
            "           6       0.70      0.35      0.47        20\n",
            "\n",
            "    accuracy                           0.69      1000\n",
            "   macro avg       0.58      0.53      0.54      1000\n",
            "weighted avg       0.69      0.69      0.69      1000\n",
            "\n"
          ]
        }
      ]
    },
    {
      "cell_type": "markdown",
      "source": [
        "## Retrieving"
      ],
      "metadata": {
        "id": "NjcG4q_gVaie"
      }
    },
    {
      "cell_type": "code",
      "source": [
        "test_data_features = np.load('data/processed/test/test_data_features.npy')\n",
        "\n",
        "predictions = model.predict(test_data_features)\n",
        "\n",
        "np.save('data/processed/test/output_0.npy', predictions)"
      ],
      "metadata": {
        "colab": {
          "base_uri": "https://localhost:8080/"
        },
        "id": "GxCIW0CzVaIx",
        "outputId": "bfbff65b-1a90-499b-9548-2e2a33b1d4d5"
      },
      "execution_count": null,
      "outputs": [
        {
          "output_type": "stream",
          "name": "stdout",
          "text": [
            "32/32 [==============================] - 0s 5ms/step\n"
          ]
        }
      ]
    },
    {
      "cell_type": "markdown",
      "source": [
        "# Output 1"
      ],
      "metadata": {
        "id": "LCsi7cFgwn5v"
      }
    },
    {
      "cell_type": "markdown",
      "source": [
        "## Loading Features and Labels"
      ],
      "metadata": {
        "id": "7rUU5L52wn5w"
      }
    },
    {
      "cell_type": "code",
      "source": [
        "train_data_features = np.load('data/processed/train/train_data_features.npy')\n",
        "train_data_labels = np.load('data/processed/train/train_labels.npy')\n",
        "\n",
        "val_data_features = np.load('data/processed/val/val_data_features.npy')\n",
        "val_data_labels = np.load('data/processed/val/val_labels.npy')"
      ],
      "metadata": {
        "id": "4S4-6zlAwn5w"
      },
      "execution_count": 13,
      "outputs": []
    },
    {
      "cell_type": "code",
      "source": [
        "N = 1 # Choosing which label to work with\n",
        "\n",
        "train_data_labels_n = train_data_labels[:, N]\n",
        "print(\"Training distribution:\", Counter(train_data_labels_n))\n",
        "\n",
        "val_data_labels_n = val_data_labels[:, N]\n",
        "print(\"Validation distribution:\", Counter(val_data_labels_n))"
      ],
      "metadata": {
        "colab": {
          "base_uri": "https://localhost:8080/"
        },
        "outputId": "b0fc3b0b-9794-430a-ecf2-a11a7cfe79a1",
        "id": "r8lNNr0Dwn5w"
      },
      "execution_count": 14,
      "outputs": [
        {
          "output_type": "stream",
          "name": "stdout",
          "text": [
            "Training distribution: Counter({2: 2615, 0: 1523, 1: 862})\n",
            "Validation distribution: Counter({2: 531, 0: 301, 1: 168})\n"
          ]
        }
      ]
    },
    {
      "cell_type": "markdown",
      "source": [
        "## Balancing training dataset"
      ],
      "metadata": {
        "id": "GUmYK073wn5x"
      }
    },
    {
      "cell_type": "code",
      "source": [
        "# Set the target number of samples for each class\n",
        "target_samples = 1000\n",
        "\n",
        "# Upsampling Minority classes using SMOTE\n",
        "smote = SMOTE(sampling_strategy={\n",
        "    1: 4000,\n",
        "})\n",
        "\n",
        "oversampled_features, oversampled_labels = smote.fit_resample(train_data_features, train_data_labels_n)\n",
        "\n",
        "# Downsample the majority class using RandomUnderSampler\n",
        "undersampler = RandomUnderSampler(sampling_strategy={\n",
        "    2: 2600\n",
        "})\n",
        "\n",
        "undersampled_features, undersampled_labels = undersampler.fit_resample(oversampled_features, oversampled_labels)\n",
        "\n",
        "print(\"Class distribution after balancing:\", Counter(undersampled_labels))\n",
        "print(\"Shape of oversampled features:\", undersampled_labels.shape)\n",
        "print(\"Shape of oversampled labels:\", undersampled_labels.shape)"
      ],
      "metadata": {
        "colab": {
          "base_uri": "https://localhost:8080/"
        },
        "outputId": "a69a4369-9a37-4d12-d477-04b9a3cbfff9",
        "id": "VYzfILokwn5x"
      },
      "execution_count": 15,
      "outputs": [
        {
          "output_type": "stream",
          "name": "stderr",
          "text": [
            "/usr/local/lib/python3.10/dist-packages/imblearn/utils/_validation.py:313: UserWarning: After over-sampling, the number of samples (4000) in class 1 will be larger than the number of samples in the majority class (class #2 -> 2615)\n",
            "  warnings.warn(\n"
          ]
        },
        {
          "output_type": "stream",
          "name": "stdout",
          "text": [
            "Class distribution after balancing: Counter({1: 4000, 2: 2600, 0: 1523})\n",
            "Shape of oversampled features: (8123,)\n",
            "Shape of oversampled labels: (8123,)\n"
          ]
        }
      ]
    },
    {
      "cell_type": "markdown",
      "source": [
        "## Training"
      ],
      "metadata": {
        "id": "spc7RAaewn5x"
      }
    },
    {
      "cell_type": "code",
      "source": [
        "input = Input(shape=(val_data_features.shape[1],))\n",
        "x = Dense(512)(input)\n",
        "x = BatchNormalization()(x)\n",
        "x = Dropout(0.2)(x)\n",
        "x = ReLU()(x)\n",
        "\n",
        "x = Dense(256)(x)\n",
        "x = BatchNormalization()(x)\n",
        "x = Dropout(0.2)(x)\n",
        "x = ReLU()(x)\n",
        "\n",
        "x = Dense(128)(x)\n",
        "x = BatchNormalization()(x)\n",
        "x = Dropout(0.2)(x)\n",
        "x = ReLU()(x)\n",
        "\n",
        "output = Dense(len(np.unique(train_data_labels_n)), activation='softmax', name=f'category_{1}_output')(x)\n",
        "\n",
        "model = Model(inputs=[input], outputs=[output])\n",
        "\n",
        "# Compile the model\n",
        "model.compile(optimizer='adam',\n",
        "              loss='sparse_categorical_crossentropy',\n",
        "              metrics=['accuracy'])"
      ],
      "metadata": {
        "id": "NvD5yOfvwn5y"
      },
      "execution_count": 16,
      "outputs": []
    },
    {
      "cell_type": "code",
      "source": [
        "history = model.fit(\n",
        "    undersampled_features, undersampled_labels,\n",
        "    epochs=20,\n",
        "    batch_size=32,\n",
        "    validation_data = (val_data_features, val_data_labels_n)\n",
        ")"
      ],
      "metadata": {
        "colab": {
          "base_uri": "https://localhost:8080/"
        },
        "outputId": "8b6529ba-c5ee-4ca5-fc54-ed88937afa30",
        "id": "plusNSQBwn5y"
      },
      "execution_count": 17,
      "outputs": [
        {
          "output_type": "stream",
          "name": "stdout",
          "text": [
            "Epoch 1/20\n",
            "254/254 [==============================] - 11s 22ms/step - loss: 0.4968 - accuracy: 0.7979 - val_loss: 0.5137 - val_accuracy: 0.8090\n",
            "Epoch 2/20\n",
            "254/254 [==============================] - 4s 17ms/step - loss: 0.2210 - accuracy: 0.9221 - val_loss: 0.5929 - val_accuracy: 0.7940\n",
            "Epoch 3/20\n",
            "254/254 [==============================] - 4s 16ms/step - loss: 0.1172 - accuracy: 0.9593 - val_loss: 0.7437 - val_accuracy: 0.7880\n",
            "Epoch 4/20\n",
            "254/254 [==============================] - 5s 19ms/step - loss: 0.0823 - accuracy: 0.9723 - val_loss: 0.6779 - val_accuracy: 0.8030\n",
            "Epoch 5/20\n",
            "254/254 [==============================] - 4s 16ms/step - loss: 0.0688 - accuracy: 0.9760 - val_loss: 0.7396 - val_accuracy: 0.7860\n",
            "Epoch 6/20\n",
            "254/254 [==============================] - 4s 17ms/step - loss: 0.0573 - accuracy: 0.9794 - val_loss: 0.7239 - val_accuracy: 0.8190\n",
            "Epoch 7/20\n",
            "254/254 [==============================] - 5s 19ms/step - loss: 0.0493 - accuracy: 0.9820 - val_loss: 0.7810 - val_accuracy: 0.8070\n",
            "Epoch 8/20\n",
            "254/254 [==============================] - 4s 17ms/step - loss: 0.0391 - accuracy: 0.9866 - val_loss: 0.8308 - val_accuracy: 0.8040\n",
            "Epoch 9/20\n",
            "254/254 [==============================] - 4s 17ms/step - loss: 0.0350 - accuracy: 0.9881 - val_loss: 0.7880 - val_accuracy: 0.7970\n",
            "Epoch 10/20\n",
            "254/254 [==============================] - 5s 19ms/step - loss: 0.0302 - accuracy: 0.9899 - val_loss: 0.7802 - val_accuracy: 0.8120\n",
            "Epoch 11/20\n",
            "254/254 [==============================] - 4s 17ms/step - loss: 0.0351 - accuracy: 0.9884 - val_loss: 0.8839 - val_accuracy: 0.8120\n",
            "Epoch 12/20\n",
            "254/254 [==============================] - 4s 16ms/step - loss: 0.0244 - accuracy: 0.9926 - val_loss: 0.9049 - val_accuracy: 0.8100\n",
            "Epoch 13/20\n",
            "254/254 [==============================] - 5s 18ms/step - loss: 0.0322 - accuracy: 0.9882 - val_loss: 0.8913 - val_accuracy: 0.7970\n",
            "Epoch 14/20\n",
            "254/254 [==============================] - 4s 16ms/step - loss: 0.0382 - accuracy: 0.9877 - val_loss: 0.8867 - val_accuracy: 0.8110\n",
            "Epoch 15/20\n",
            "254/254 [==============================] - 4s 16ms/step - loss: 0.0158 - accuracy: 0.9951 - val_loss: 0.9821 - val_accuracy: 0.8090\n",
            "Epoch 16/20\n",
            "254/254 [==============================] - 5s 18ms/step - loss: 0.0302 - accuracy: 0.9909 - val_loss: 0.9003 - val_accuracy: 0.8160\n",
            "Epoch 17/20\n",
            "254/254 [==============================] - 4s 16ms/step - loss: 0.0172 - accuracy: 0.9942 - val_loss: 0.9887 - val_accuracy: 0.8070\n",
            "Epoch 18/20\n",
            "254/254 [==============================] - 4s 16ms/step - loss: 0.0168 - accuracy: 0.9950 - val_loss: 0.9153 - val_accuracy: 0.8050\n",
            "Epoch 19/20\n",
            "254/254 [==============================] - 4s 17ms/step - loss: 0.0240 - accuracy: 0.9915 - val_loss: 1.0205 - val_accuracy: 0.8090\n",
            "Epoch 20/20\n",
            "254/254 [==============================] - 5s 18ms/step - loss: 0.0241 - accuracy: 0.9918 - val_loss: 1.0861 - val_accuracy: 0.7930\n"
          ]
        }
      ]
    },
    {
      "cell_type": "code",
      "source": [
        "r = pd.DataFrame(history.history)\n",
        "fig, ax = plt.subplots(1, 2, figsize=(15, 5))\n",
        "ax[0].plot(r.index, r['loss'], label='Train loss')\n",
        "ax[0].plot(r.index, r['val_loss'], label='Validation loss')\n",
        "ax[1].plot(r.index, r['accuracy'], label='Train accuracy')\n",
        "ax[1].plot(r.index, r['val_accuracy'], label='Validation accuracy')\n",
        "ax[0].legend()\n",
        "ax[1].legend()\n",
        "plt.show()"
      ],
      "metadata": {
        "colab": {
          "base_uri": "https://localhost:8080/",
          "height": 425
        },
        "outputId": "71bfb72a-cec6-40d2-8459-36206f438be0",
        "id": "VB-aswUCwn5y"
      },
      "execution_count": 18,
      "outputs": [
        {
          "output_type": "display_data",
          "data": {
            "text/plain": [
              "<Figure size 1500x500 with 2 Axes>"
            ],
            "image/png": "[encoded data removed]"
          },
          "metadata": {}
        }
      ]
    },
    {
      "cell_type": "markdown",
      "source": [
        "## Evaluation"
      ],
      "metadata": {
        "id": "M_oR8kr0wn5y"
      }
    },
    {
      "cell_type": "code",
      "source": [
        "y_pred = model.predict(val_data_features)\n",
        "y_pred = np.argmax(y_pred, axis=1)"
      ],
      "metadata": {
        "colab": {
          "base_uri": "https://localhost:8080/"
        },
        "outputId": "61b4772a-c1a7-46f1-80be-1c680a57c4e3",
        "id": "66OZUVhSwn5z"
      },
      "execution_count": 19,
      "outputs": [
        {
          "output_type": "stream",
          "name": "stdout",
          "text": [
            "32/32 [==============================] - 0s 5ms/step\n"
          ]
        }
      ]
    },
    {
      "cell_type": "code",
      "source": [
        "# Calculate precision, recall, and F1 score\n",
        "accuracy = accuracy_score(val_data_labels_n, y_pred)\n",
        "precision = precision_score(val_data_labels_n, y_pred, average='weighted')\n",
        "recall = recall_score(val_data_labels_n, y_pred, average='weighted')\n",
        "f1 = f1_score(val_data_labels_n, y_pred, average='weighted')\n",
        "\n",
        "# Print the results\n",
        "print('Accuracy:', accuracy)\n",
        "print('Precision:', precision)\n",
        "print('Recall:', recall)\n",
        "print('F1 score:', f1)"
      ],
      "metadata": {
        "colab": {
          "base_uri": "https://localhost:8080/"
        },
        "outputId": "154be01f-8171-4de1-e1c9-6b53aacc6f99",
        "id": "_tjm8s8hwn5z"
      },
      "execution_count": 20,
      "outputs": [
        {
          "output_type": "stream",
          "name": "stdout",
          "text": [
            "Accuracy: 0.793\n",
            "Precision: 0.7893502899827238\n",
            "Recall: 0.793\n",
            "F1 score: 0.7877060216427463\n"
          ]
        }
      ]
    },
    {
      "cell_type": "code",
      "source": [
        "print(classification_report(val_data_labels_n, y_pred))"
      ],
      "metadata": {
        "colab": {
          "base_uri": "https://localhost:8080/"
        },
        "outputId": "6ffb29a4-957f-4ccf-8161-602a3a5c2fdd",
        "id": "9p5_Bh26wn5z"
      },
      "execution_count": 21,
      "outputs": [
        {
          "output_type": "stream",
          "name": "stdout",
          "text": [
            "              precision    recall  f1-score   support\n",
            "\n",
            "           0       0.83      0.72      0.77       301\n",
            "           1       0.66      0.55      0.60       168\n",
            "           2       0.81      0.91      0.86       531\n",
            "\n",
            "    accuracy                           0.79      1000\n",
            "   macro avg       0.77      0.73      0.74      1000\n",
            "weighted avg       0.79      0.79      0.79      1000\n",
            "\n"
          ]
        }
      ]
    },
    {
      "cell_type": "markdown",
      "source": [
        "## Retrieving"
      ],
      "metadata": {
        "id": "FSW-sz7IWrGa"
      }
    },
    {
      "cell_type": "code",
      "source": [
        "test_data_features = np.load('data/processed/test/test_data_features.npy')\n",
        "\n",
        "predictions = model.predict(test_data_features)\n",
        "\n",
        "np.save('data/processed/test/output_1.npy', predictions)"
      ],
      "metadata": {
        "id": "1UBoUMmlGfm_",
        "colab": {
          "base_uri": "https://localhost:8080/"
        },
        "outputId": "2ef6872c-ad3b-4f27-9c90-37a4a6fa5f86"
      },
      "execution_count": 22,
      "outputs": [
        {
          "output_type": "stream",
          "name": "stdout",
          "text": [
            "32/32 [==============================] - 0s 5ms/step\n"
          ]
        }
      ]
    },
    {
      "cell_type": "markdown",
      "source": [
        "# Output 2"
      ],
      "metadata": {
        "id": "mjfZNRFwpV6a"
      }
    },
    {
      "cell_type": "markdown",
      "source": [
        "## Loading Features and Labels"
      ],
      "metadata": {
        "id": "WYFd4IyupV6z"
      }
    },
    {
      "cell_type": "code",
      "source": [
        "train_data_features = np.load('data/processed/train/train_data_features.npy')\n",
        "train_data_labels = np.load('data/processed/train/train_labels.npy')\n",
        "\n",
        "val_data_features = np.load('data/processed/val/val_data_features.npy')\n",
        "val_data_labels = np.load('data/processed/val/val_labels.npy')"
      ],
      "metadata": {
        "id": "dARuBxrLpV60"
      },
      "execution_count": null,
      "outputs": []
    },
    {
      "cell_type": "code",
      "source": [
        "N = 2 # Choosing which label to work with\n",
        "\n",
        "train_data_labels_n = train_data_labels[:, N]\n",
        "print(\"Training distribution:\", Counter(train_data_labels_n))\n",
        "\n",
        "val_data_labels_n = val_data_labels[:, N]\n",
        "print(\"Validation distribution:\", Counter(val_data_labels_n))"
      ],
      "metadata": {
        "colab": {
          "base_uri": "https://localhost:8080/"
        },
        "outputId": "c66494db-37db-4cb7-ce59-d02d113b2931",
        "id": "R3OlbienpV60"
      },
      "execution_count": null,
      "outputs": [
        {
          "output_type": "stream",
          "name": "stdout",
          "text": [
            "Training distribution: Counter({2: 3561, 1: 951, 0: 488})\n",
            "Validation distribution: Counter({2: 727, 1: 173, 0: 100})\n"
          ]
        }
      ]
    },
    {
      "cell_type": "markdown",
      "source": [
        "## Balancing training dataset"
      ],
      "metadata": {
        "id": "11Aq71I8pV61"
      }
    },
    {
      "cell_type": "code",
      "source": [
        "# Set the target number of samples for each class\n",
        "target_samples = 1000\n",
        "\n",
        "# Upsampling Minority classes using SMOTE\n",
        "smote = SMOTE(sampling_strategy={\n",
        "    0: 5500,\n",
        "    1: 3500,\n",
        "})\n",
        "\n",
        "oversampled_features, oversampled_labels = smote.fit_resample(train_data_features, train_data_labels_n)\n",
        "\n",
        "# Downsample the majority class using RandomUnderSampler\n",
        "undersampler = RandomUnderSampler(sampling_strategy={\n",
        "    2: 3000\n",
        "})\n",
        "\n",
        "undersampled_features, undersampled_labels = undersampler.fit_resample(oversampled_features, oversampled_labels)\n",
        "\n",
        "print(\"Class distribution after balancing:\", Counter(undersampled_labels))\n",
        "print(\"Shape of oversampled features:\", undersampled_labels.shape)\n",
        "print(\"Shape of oversampled labels:\", undersampled_labels.shape)"
      ],
      "metadata": {
        "colab": {
          "base_uri": "https://localhost:8080/"
        },
        "outputId": "6857c82b-e18d-4da1-bb0a-b4021974fde8",
        "id": "iuwX69M8pV62"
      },
      "execution_count": null,
      "outputs": [
        {
          "output_type": "stream",
          "name": "stderr",
          "text": [
            "/usr/local/lib/python3.10/dist-packages/imblearn/utils/_validation.py:313: UserWarning: After over-sampling, the number of samples (5500) in class 0 will be larger than the number of samples in the majority class (class #2 -> 3561)\n",
            "  warnings.warn(\n"
          ]
        },
        {
          "output_type": "stream",
          "name": "stdout",
          "text": [
            "Class distribution after balancing: Counter({0: 5500, 1: 3500, 2: 3000})\n",
            "Shape of oversampled features: (12000,)\n",
            "Shape of oversampled labels: (12000,)\n"
          ]
        }
      ]
    },
    {
      "cell_type": "markdown",
      "source": [
        "## Training"
      ],
      "metadata": {
        "id": "CZQKLsrRpV62"
      }
    },
    {
      "cell_type": "code",
      "source": [
        "input = Input(shape=(val_data_features.shape[1],))\n",
        "x = Dense(512)(input)\n",
        "x = BatchNormalization()(x)\n",
        "x = Dropout(0.2)(x)\n",
        "x = ReLU()(x)\n",
        "\n",
        "x = Dense(256)(x)\n",
        "x = BatchNormalization()(x)\n",
        "x = Dropout(0.2)(x)\n",
        "x = ReLU()(x)\n",
        "\n",
        "x = Dense(128)(x)\n",
        "x = BatchNormalization()(x)\n",
        "x = Dropout(0.2)(x)\n",
        "x = ReLU()(x)\n",
        "\n",
        "output = Dense(len(np.unique(train_data_labels_n)), activation='softmax', name=f'category_{1}_output')(x)\n",
        "\n",
        "model = Model(inputs=[input], outputs=[output])\n",
        "\n",
        "# Compile the model\n",
        "model.compile(optimizer='adam',\n",
        "              loss='sparse_categorical_crossentropy',\n",
        "              metrics=['accuracy'])"
      ],
      "metadata": {
        "id": "0lffuVqQpV62"
      },
      "execution_count": null,
      "outputs": []
    },
    {
      "cell_type": "code",
      "source": [
        "history = model.fit(\n",
        "    undersampled_features, undersampled_labels,\n",
        "    epochs=20,\n",
        "    batch_size=32,\n",
        "    validation_data = (val_data_features, val_data_labels_n)\n",
        ")"
      ],
      "metadata": {
        "colab": {
          "base_uri": "https://localhost:8080/"
        },
        "outputId": "7cc72495-d8f4-4b40-a18e-db2967b6701b",
        "id": "1mfCYG0VpV63"
      },
      "execution_count": null,
      "outputs": [
        {
          "output_type": "stream",
          "name": "stdout",
          "text": [
            "Epoch 1/20\n",
            "375/375 [==============================] - 13s 18ms/step - loss: 0.2471 - accuracy: 0.9105 - val_loss: 0.4429 - val_accuracy: 0.8620\n",
            "Epoch 2/20\n",
            "375/375 [==============================] - 6s 15ms/step - loss: 0.0813 - accuracy: 0.9729 - val_loss: 0.4742 - val_accuracy: 0.8690\n",
            "Epoch 3/20\n",
            "375/375 [==============================] - 6s 16ms/step - loss: 0.0595 - accuracy: 0.9807 - val_loss: 0.5653 - val_accuracy: 0.8640\n",
            "Epoch 4/20\n",
            "375/375 [==============================] - 6s 15ms/step - loss: 0.0330 - accuracy: 0.9893 - val_loss: 0.6469 - val_accuracy: 0.8560\n",
            "Epoch 5/20\n",
            "375/375 [==============================] - 5s 14ms/step - loss: 0.0331 - accuracy: 0.9902 - val_loss: 0.5703 - val_accuracy: 0.8680\n",
            "Epoch 6/20\n",
            "375/375 [==============================] - 6s 16ms/step - loss: 0.0301 - accuracy: 0.9898 - val_loss: 0.5883 - val_accuracy: 0.8800\n",
            "Epoch 7/20\n",
            "375/375 [==============================] - 5s 14ms/step - loss: 0.0214 - accuracy: 0.9936 - val_loss: 0.6709 - val_accuracy: 0.8770\n",
            "Epoch 8/20\n",
            "375/375 [==============================] - 6s 17ms/step - loss: 0.0202 - accuracy: 0.9926 - val_loss: 0.6978 - val_accuracy: 0.8590\n",
            "Epoch 9/20\n",
            "375/375 [==============================] - 5s 14ms/step - loss: 0.0142 - accuracy: 0.9954 - val_loss: 0.7060 - val_accuracy: 0.8680\n",
            "Epoch 10/20\n",
            "375/375 [==============================] - 6s 15ms/step - loss: 0.0176 - accuracy: 0.9934 - val_loss: 0.6460 - val_accuracy: 0.8750\n",
            "Epoch 11/20\n",
            "375/375 [==============================] - 6s 16ms/step - loss: 0.0161 - accuracy: 0.9948 - val_loss: 0.6390 - val_accuracy: 0.8760\n",
            "Epoch 12/20\n",
            "375/375 [==============================] - 5s 14ms/step - loss: 0.0140 - accuracy: 0.9952 - val_loss: 0.7825 - val_accuracy: 0.8620\n",
            "Epoch 13/20\n",
            "375/375 [==============================] - 6s 17ms/step - loss: 0.0127 - accuracy: 0.9962 - val_loss: 0.7930 - val_accuracy: 0.8700\n",
            "Epoch 14/20\n",
            "375/375 [==============================] - 6s 15ms/step - loss: 0.0200 - accuracy: 0.9937 - val_loss: 0.7261 - val_accuracy: 0.8700\n",
            "Epoch 15/20\n",
            "375/375 [==============================] - 6s 17ms/step - loss: 0.0100 - accuracy: 0.9957 - val_loss: 0.6593 - val_accuracy: 0.8740\n",
            "Epoch 16/20\n",
            "375/375 [==============================] - 5s 14ms/step - loss: 0.0092 - accuracy: 0.9970 - val_loss: 0.7971 - val_accuracy: 0.8810\n",
            "Epoch 17/20\n",
            "375/375 [==============================] - 6s 15ms/step - loss: 0.0107 - accuracy: 0.9964 - val_loss: 0.7432 - val_accuracy: 0.8790\n",
            "Epoch 18/20\n",
            "375/375 [==============================] - 6s 16ms/step - loss: 0.0098 - accuracy: 0.9967 - val_loss: 0.8681 - val_accuracy: 0.8610\n",
            "Epoch 19/20\n",
            "375/375 [==============================] - 5s 15ms/step - loss: 0.0133 - accuracy: 0.9958 - val_loss: 0.8488 - val_accuracy: 0.8680\n",
            "Epoch 20/20\n",
            "375/375 [==============================] - 6s 17ms/step - loss: 0.0113 - accuracy: 0.9970 - val_loss: 0.8433 - val_accuracy: 0.8640\n"
          ]
        }
      ]
    },
    {
      "cell_type": "code",
      "source": [
        "r = pd.DataFrame(history.history)\n",
        "fig, ax = plt.subplots(1, 2, figsize=(15, 5))\n",
        "ax[0].plot(r.index, r['loss'], label='Train loss')\n",
        "ax[0].plot(r.index, r['val_loss'], label='Validation loss')\n",
        "ax[1].plot(r.index, r['accuracy'], label='Train accuracy')\n",
        "ax[1].plot(r.index, r['val_accuracy'], label='Validation accuracy')\n",
        "ax[0].legend()\n",
        "ax[1].legend()\n",
        "plt.show()"
      ],
      "metadata": {
        "colab": {
          "base_uri": "https://localhost:8080/",
          "height": 320
        },
        "outputId": "2716eba8-e6c8-4aee-d699-337da4515c30",
        "id": "9IEcWhpZpV63"
      },
      "execution_count": null,
      "outputs": [
        {
          "output_type": "display_data",
          "data": {
            "text/plain": [
              "<Figure size 1500x500 with 2 Axes>"
            ],
            "image/png": "[encoded data removed]"
          },
          "metadata": {}
        }
      ]
    },
    {
      "cell_type": "markdown",
      "source": [
        "## Evaluation"
      ],
      "metadata": {
        "id": "1DYZRf5KpV64"
      }
    },
    {
      "cell_type": "code",
      "source": [
        "y_pred = model.predict(val_data_features)\n",
        "y_pred = np.argmax(y_pred, axis=1)"
      ],
      "metadata": {
        "colab": {
          "base_uri": "https://localhost:8080/"
        },
        "outputId": "8e92d8f6-3315-4da0-d7e0-c47a8cb020ad",
        "id": "QBY1OEYKpV64"
      },
      "execution_count": null,
      "outputs": [
        {
          "output_type": "stream",
          "name": "stdout",
          "text": [
            "32/32 [==============================] - 0s 5ms/step\n"
          ]
        }
      ]
    },
    {
      "cell_type": "code",
      "source": [
        "# Calculate precision, recall, and F1 score\n",
        "accuracy = accuracy_score(val_data_labels_n, y_pred)\n",
        "precision = precision_score(val_data_labels_n, y_pred, average='weighted')\n",
        "recall = recall_score(val_data_labels_n, y_pred, average='weighted')\n",
        "f1 = f1_score(val_data_labels_n, y_pred, average='weighted')\n",
        "\n",
        "# Print the results\n",
        "print('Accuracy:', accuracy)\n",
        "print('Precision:', precision)\n",
        "print('Recall:', recall)\n",
        "print('F1 score:', f1)"
      ],
      "metadata": {
        "colab": {
          "base_uri": "https://localhost:8080/"
        },
        "outputId": "97e21a78-9454-4b5b-d71e-a57b67feec3f",
        "id": "2iHw3rEGpV64"
      },
      "execution_count": null,
      "outputs": [
        {
          "output_type": "stream",
          "name": "stdout",
          "text": [
            "Accuracy: 0.864\n",
            "Precision: 0.8753670662184696\n",
            "Recall: 0.864\n",
            "F1 score: 0.8674978816317676\n"
          ]
        }
      ]
    },
    {
      "cell_type": "code",
      "source": [
        "print(classification_report(val_data_labels_n, y_pred))"
      ],
      "metadata": {
        "colab": {
          "base_uri": "https://localhost:8080/"
        },
        "outputId": "ab1a52a7-2e95-42a9-ef51-70ee6d852d2e",
        "id": "uEXbt9nZpV65"
      },
      "execution_count": null,
      "outputs": [
        {
          "output_type": "stream",
          "name": "stdout",
          "text": [
            "              precision    recall  f1-score   support\n",
            "\n",
            "           0       0.79      0.73      0.76       100\n",
            "           1       0.65      0.82      0.73       173\n",
            "           2       0.94      0.89      0.92       727\n",
            "\n",
            "    accuracy                           0.86      1000\n",
            "   macro avg       0.80      0.81      0.80      1000\n",
            "weighted avg       0.88      0.86      0.87      1000\n",
            "\n"
          ]
        }
      ]
    },
    {
      "cell_type": "markdown",
      "source": [
        "## Retrieving"
      ],
      "metadata": {
        "id": "nznWwno8XzlL"
      }
    },
    {
      "cell_type": "code",
      "source": [
        "test_data_features = np.load('data/processed/test/test_data_features.npy')\n",
        "\n",
        "predictions = model.predict(test_data_features)\n",
        "\n",
        "np.save('data/processed/test/output_2.npy', predictions)"
      ],
      "metadata": {
        "id": "s4r18aTTHAN9",
        "colab": {
          "base_uri": "https://localhost:8080/"
        },
        "outputId": "aadeacd6-d694-4f23-a3ff-8640acbc5060"
      },
      "execution_count": null,
      "outputs": [
        {
          "output_type": "stream",
          "name": "stdout",
          "text": [
            "32/32 [==============================] - 0s 5ms/step\n"
          ]
        }
      ]
    },
    {
      "cell_type": "markdown",
      "source": [
        "# Output 3"
      ],
      "metadata": {
        "id": "VQlFx-mf3Qmz"
      }
    },
    {
      "cell_type": "markdown",
      "source": [
        "## Loading Features and Labels"
      ],
      "metadata": {
        "id": "Bi9Puyf_3QnI"
      }
    },
    {
      "cell_type": "code",
      "source": [
        "train_data_features = np.load('data/processed/train/train_data_features.npy')\n",
        "train_data_labels = np.load('data/processed/train/train_labels.npy')\n",
        "\n",
        "val_data_features = np.load('data/processed/val/val_data_features.npy')\n",
        "val_data_labels = np.load('data/processed/val/val_labels.npy')"
      ],
      "metadata": {
        "id": "gQBtkpkQ3QnI"
      },
      "execution_count": null,
      "outputs": []
    },
    {
      "cell_type": "code",
      "source": [
        "N = 3 # Choosing which label to work with\n",
        "\n",
        "train_data_labels_n = train_data_labels[:, N]\n",
        "print(\"Training distribution:\", Counter(train_data_labels_n))\n",
        "\n",
        "val_data_labels_n = val_data_labels[:, N]\n",
        "print(\"Validation distribution:\", Counter(val_data_labels_n))"
      ],
      "metadata": {
        "colab": {
          "base_uri": "https://localhost:8080/"
        },
        "outputId": "32b24ec4-0e55-48a9-dd65-d971441f72be",
        "id": "HX9bVinn3QnJ"
      },
      "execution_count": null,
      "outputs": [
        {
          "output_type": "stream",
          "name": "stdout",
          "text": [
            "Training distribution: Counter({0: 2086, 3: 2069, 1: 826, 2: 19})\n",
            "Validation distribution: Counter({3: 438, 0: 387, 1: 173, 2: 2})\n"
          ]
        }
      ]
    },
    {
      "cell_type": "markdown",
      "source": [
        "## Balancing training dataset"
      ],
      "metadata": {
        "id": "Z22vEEd33QnK"
      }
    },
    {
      "cell_type": "code",
      "source": [
        "# Upsampling Minority classes using SMOTE\n",
        "smote = SMOTE(sampling_strategy={\n",
        "    2: 1000,\n",
        "    1: 3000,\n",
        "})\n",
        "\n",
        "oversampled_features, oversampled_labels = smote.fit_resample(train_data_features, train_data_labels_n)\n",
        "\n",
        "# Downsample the majority class using RandomUnderSampler\n",
        "undersampler = RandomUnderSampler(sampling_strategy={\n",
        "    0: 2000,\n",
        "    3: 2000\n",
        "})\n",
        "\n",
        "undersampled_features, undersampled_labels = undersampler.fit_resample(oversampled_features, oversampled_labels)\n",
        "\n",
        "print(\"Class distribution after balancing:\", Counter(undersampled_labels))\n",
        "print(\"Shape of oversampled features:\", undersampled_labels.shape)\n",
        "print(\"Shape of oversampled labels:\", undersampled_labels.shape)"
      ],
      "metadata": {
        "colab": {
          "base_uri": "https://localhost:8080/"
        },
        "outputId": "14df182b-ab7e-4c5e-cba8-39055d648910",
        "id": "2iU4AtZo3QnK"
      },
      "execution_count": null,
      "outputs": [
        {
          "output_type": "stream",
          "name": "stderr",
          "text": [
            "/usr/local/lib/python3.10/dist-packages/imblearn/utils/_validation.py:313: UserWarning: After over-sampling, the number of samples (3000) in class 1 will be larger than the number of samples in the majority class (class #0 -> 2086)\n",
            "  warnings.warn(\n"
          ]
        },
        {
          "output_type": "stream",
          "name": "stdout",
          "text": [
            "Class distribution after balancing: Counter({1: 3000, 0: 2000, 3: 2000, 2: 1000})\n",
            "Shape of oversampled features: (8000,)\n",
            "Shape of oversampled labels: (8000,)\n"
          ]
        }
      ]
    },
    {
      "cell_type": "markdown",
      "source": [
        "## Training"
      ],
      "metadata": {
        "id": "yTgoz1Qa3QnK"
      }
    },
    {
      "cell_type": "code",
      "source": [
        "input = Input(shape=(val_data_features.shape[1],))\n",
        "x = Dense(512)(input)\n",
        "x = BatchNormalization()(x)\n",
        "x = Dropout(0.2)(x)\n",
        "x = ReLU()(x)\n",
        "\n",
        "x = Dense(256)(x)\n",
        "x = BatchNormalization()(x)\n",
        "x = Dropout(0.2)(x)\n",
        "x = ReLU()(x)\n",
        "\n",
        "x = Dense(128)(x)\n",
        "x = BatchNormalization()(x)\n",
        "x = Dropout(0.2)(x)\n",
        "x = ReLU()(x)\n",
        "\n",
        "output = Dense(len(np.unique(train_data_labels_n)), activation='softmax', name=f'category_{1}_output')(x)\n",
        "\n",
        "model = Model(inputs=[input], outputs=[output])\n",
        "\n",
        "# Compile the model\n",
        "model.compile(optimizer='adam',\n",
        "              loss='sparse_categorical_crossentropy',\n",
        "              metrics=['accuracy'])"
      ],
      "metadata": {
        "id": "0j5QWHdV3QnL"
      },
      "execution_count": null,
      "outputs": []
    },
    {
      "cell_type": "code",
      "source": [
        "history = model.fit(\n",
        "    undersampled_features, undersampled_labels,\n",
        "    epochs=20,\n",
        "    batch_size=32,\n",
        "    validation_data = (val_data_features, val_data_labels_n)\n",
        ")"
      ],
      "metadata": {
        "colab": {
          "base_uri": "https://localhost:8080/"
        },
        "outputId": "fa08e692-9099-457d-863e-bd421c4ed36c",
        "id": "S-dO5Vww3QnL"
      },
      "execution_count": null,
      "outputs": [
        {
          "output_type": "stream",
          "name": "stdout",
          "text": [
            "Epoch 1/20\n",
            "250/250 [==============================] - 11s 18ms/step - loss: 0.7104 - accuracy: 0.7070 - val_loss: 0.8538 - val_accuracy: 0.6120\n",
            "Epoch 2/20\n",
            "250/250 [==============================] - 4s 15ms/step - loss: 0.3751 - accuracy: 0.8512 - val_loss: 0.9574 - val_accuracy: 0.6460\n",
            "Epoch 3/20\n",
            "250/250 [==============================] - 4s 17ms/step - loss: 0.2289 - accuracy: 0.9112 - val_loss: 1.2817 - val_accuracy: 0.6070\n",
            "Epoch 4/20\n",
            "250/250 [==============================] - 4s 15ms/step - loss: 0.1672 - accuracy: 0.9374 - val_loss: 1.2596 - val_accuracy: 0.6340\n",
            "Epoch 5/20\n",
            "250/250 [==============================] - 4s 15ms/step - loss: 0.1155 - accuracy: 0.9589 - val_loss: 1.3307 - val_accuracy: 0.6360\n",
            "Epoch 6/20\n",
            "250/250 [==============================] - 4s 15ms/step - loss: 0.0893 - accuracy: 0.9691 - val_loss: 1.5818 - val_accuracy: 0.6120\n",
            "Epoch 7/20\n",
            "250/250 [==============================] - 4s 18ms/step - loss: 0.0781 - accuracy: 0.9709 - val_loss: 1.7149 - val_accuracy: 0.6370\n",
            "Epoch 8/20\n",
            "250/250 [==============================] - 4s 15ms/step - loss: 0.0769 - accuracy: 0.9730 - val_loss: 1.7603 - val_accuracy: 0.6290\n",
            "Epoch 9/20\n",
            "250/250 [==============================] - 4s 14ms/step - loss: 0.0589 - accuracy: 0.9776 - val_loss: 1.6020 - val_accuracy: 0.6620\n",
            "Epoch 10/20\n",
            "250/250 [==============================] - 5s 19ms/step - loss: 0.0516 - accuracy: 0.9814 - val_loss: 1.7431 - val_accuracy: 0.6120\n",
            "Epoch 11/20\n",
            "250/250 [==============================] - 4s 15ms/step - loss: 0.0497 - accuracy: 0.9833 - val_loss: 1.7676 - val_accuracy: 0.6430\n",
            "Epoch 12/20\n",
            "250/250 [==============================] - 4s 15ms/step - loss: 0.0456 - accuracy: 0.9851 - val_loss: 1.7890 - val_accuracy: 0.6590\n",
            "Epoch 13/20\n",
            "250/250 [==============================] - 4s 16ms/step - loss: 0.0505 - accuracy: 0.9820 - val_loss: 2.0195 - val_accuracy: 0.6130\n",
            "Epoch 14/20\n",
            "250/250 [==============================] - 4s 17ms/step - loss: 0.0443 - accuracy: 0.9851 - val_loss: 1.6627 - val_accuracy: 0.6460\n",
            "Epoch 15/20\n",
            "250/250 [==============================] - 4s 15ms/step - loss: 0.0330 - accuracy: 0.9889 - val_loss: 1.7647 - val_accuracy: 0.6420\n",
            "Epoch 16/20\n",
            "250/250 [==============================] - 4s 15ms/step - loss: 0.0455 - accuracy: 0.9854 - val_loss: 1.9449 - val_accuracy: 0.6360\n",
            "Epoch 17/20\n",
            "250/250 [==============================] - 4s 18ms/step - loss: 0.0401 - accuracy: 0.9860 - val_loss: 2.0571 - val_accuracy: 0.6130\n",
            "Epoch 18/20\n",
            "250/250 [==============================] - 4s 14ms/step - loss: 0.0296 - accuracy: 0.9899 - val_loss: 2.1145 - val_accuracy: 0.6370\n",
            "Epoch 19/20\n",
            "250/250 [==============================] - 4s 15ms/step - loss: 0.0292 - accuracy: 0.9902 - val_loss: 2.0141 - val_accuracy: 0.6550\n",
            "Epoch 20/20\n",
            "250/250 [==============================] - 4s 16ms/step - loss: 0.0340 - accuracy: 0.9883 - val_loss: 1.8582 - val_accuracy: 0.6610\n"
          ]
        }
      ]
    },
    {
      "cell_type": "code",
      "source": [
        "r = pd.DataFrame(history.history)\n",
        "fig, ax = plt.subplots(1, 2, figsize=(15, 5))\n",
        "ax[0].plot(r.index, r['loss'], label='Train loss')\n",
        "ax[0].plot(r.index, r['val_loss'], label='Validation loss')\n",
        "ax[1].plot(r.index, r['accuracy'], label='Train accuracy')\n",
        "ax[1].plot(r.index, r['val_accuracy'], label='Validation accuracy')\n",
        "ax[0].legend()\n",
        "ax[1].legend()\n",
        "plt.show()"
      ],
      "metadata": {
        "colab": {
          "base_uri": "https://localhost:8080/",
          "height": 320
        },
        "outputId": "e022fa08-8fc3-4d3b-8771-715717eabbfa",
        "id": "9-CqixyI3QnL"
      },
      "execution_count": null,
      "outputs": [
        {
          "output_type": "display_data",
          "data": {
            "text/plain": [
              "<Figure size 1500x500 with 2 Axes>"
            ],
            "image/png": "[encoded data removed]"
          },
          "metadata": {}
        }
      ]
    },
    {
      "cell_type": "markdown",
      "source": [
        "## Evaluation"
      ],
      "metadata": {
        "id": "pDYPuDzr3QnM"
      }
    },
    {
      "cell_type": "code",
      "source": [
        "y_pred = model.predict(val_data_features)\n",
        "y_pred = np.argmax(y_pred, axis=1)"
      ],
      "metadata": {
        "colab": {
          "base_uri": "https://localhost:8080/"
        },
        "outputId": "dc8c4895-5266-4a2b-8077-e525a1b280a6",
        "id": "ArHB__nS3QnM"
      },
      "execution_count": null,
      "outputs": [
        {
          "output_type": "stream",
          "name": "stdout",
          "text": [
            "32/32 [==============================] - 0s 6ms/step\n"
          ]
        }
      ]
    },
    {
      "cell_type": "code",
      "source": [
        "# Calculate precision, recall, and F1 score\n",
        "accuracy = accuracy_score(val_data_labels_n, y_pred)\n",
        "precision = precision_score(val_data_labels_n, y_pred, average='weighted')\n",
        "recall = recall_score(val_data_labels_n, y_pred, average='weighted')\n",
        "f1 = f1_score(val_data_labels_n, y_pred, average='weighted')\n",
        "\n",
        "# Print the results\n",
        "print('Accuracy:', accuracy)\n",
        "print('Precision:', precision)\n",
        "print('Recall:', recall)\n",
        "print('F1 score:', f1)"
      ],
      "metadata": {
        "colab": {
          "base_uri": "https://localhost:8080/"
        },
        "outputId": "bfabb84f-036c-4282-ad4c-13f73bb0c538",
        "id": "fZG8kHyW3QnN"
      },
      "execution_count": null,
      "outputs": [
        {
          "output_type": "stream",
          "name": "stdout",
          "text": [
            "Accuracy: 0.661\n",
            "Precision: 0.656064421097781\n",
            "Recall: 0.661\n",
            "F1 score: 0.6492725410164065\n"
          ]
        }
      ]
    },
    {
      "cell_type": "code",
      "source": [
        "print(classification_report(val_data_labels_n, y_pred))"
      ],
      "metadata": {
        "colab": {
          "base_uri": "https://localhost:8080/"
        },
        "outputId": "a184edd5-00ad-4cdb-c149-15f62d9c31ac",
        "id": "tRT85kLU3QnN"
      },
      "execution_count": null,
      "outputs": [
        {
          "output_type": "stream",
          "name": "stdout",
          "text": [
            "              precision    recall  f1-score   support\n",
            "\n",
            "           0       0.62      0.74      0.68       387\n",
            "           1       0.58      0.31      0.40       173\n",
            "           2       0.00      0.00      0.00         2\n",
            "           3       0.72      0.73      0.73       438\n",
            "\n",
            "    accuracy                           0.66      1000\n",
            "   macro avg       0.48      0.45      0.45      1000\n",
            "weighted avg       0.66      0.66      0.65      1000\n",
            "\n"
          ]
        }
      ]
    },
    {
      "cell_type": "markdown",
      "source": [
        "## Retrieving"
      ],
      "metadata": {
        "id": "ut7SclJZY8CL"
      }
    },
    {
      "cell_type": "code",
      "source": [
        "test_data_features = np.load('data/processed/test/test_data_features.npy')\n",
        "\n",
        "predictions = model.predict(test_data_features)\n",
        "\n",
        "np.save('data/processed/test/output_3.npy', predictions)"
      ],
      "metadata": {
        "colab": {
          "base_uri": "https://localhost:8080/"
        },
        "outputId": "799ccfa9-e46f-472f-a6e1-bbef1ac86159",
        "id": "0eW1qV0HY8C1"
      },
      "execution_count": null,
      "outputs": [
        {
          "output_type": "stream",
          "name": "stdout",
          "text": [
            "32/32 [==============================] - 0s 7ms/step\n"
          ]
        }
      ]
    },
    {
      "cell_type": "markdown",
      "source": [
        "# Output 4"
      ],
      "metadata": {
        "id": "_6bVW0MF8nBb"
      }
    },
    {
      "cell_type": "markdown",
      "source": [
        "## Loading Features and Labels"
      ],
      "metadata": {
        "id": "jI34oLmn8nBz"
      }
    },
    {
      "cell_type": "code",
      "source": [
        "train_data_features = np.load('data/processed/train/train_data_features.npy')\n",
        "train_data_labels = np.load('data/processed/train/train_labels.npy')\n",
        "\n",
        "val_data_features = np.load('data/processed/val/val_data_features.npy')\n",
        "val_data_labels = np.load('data/processed/val/val_labels.npy')"
      ],
      "metadata": {
        "id": "ETP21t158nBz"
      },
      "execution_count": null,
      "outputs": []
    },
    {
      "cell_type": "code",
      "source": [
        "N = 4 # Choosing which label to work with\n",
        "\n",
        "train_data_labels_n = train_data_labels[:, N]\n",
        "print(\"Training distribution:\", Counter(train_data_labels_n))\n",
        "\n",
        "val_data_labels_n = val_data_labels[:, N]\n",
        "print(\"Validation distribution:\", Counter(val_data_labels_n))"
      ],
      "metadata": {
        "colab": {
          "base_uri": "https://localhost:8080/"
        },
        "outputId": "b13435d2-9539-4413-e9e2-82210e937e1e",
        "id": "NZcVxk0Z8nB0"
      },
      "execution_count": null,
      "outputs": [
        {
          "output_type": "stream",
          "name": "stdout",
          "text": [
            "Training distribution: Counter({2: 3399, 1: 702, 5: 436, 0: 310, 3: 105, 4: 48})\n",
            "Validation distribution: Counter({2: 680, 1: 146, 5: 92, 0: 56, 3: 16, 4: 10})\n"
          ]
        }
      ]
    },
    {
      "cell_type": "markdown",
      "source": [
        "## Balancing training dataset"
      ],
      "metadata": {
        "id": "IvzQMwQR8nB0"
      }
    },
    {
      "cell_type": "code",
      "source": [
        "# Upsampling Minority classes using SMOTE\n",
        "smote = SMOTE(sampling_strategy={\n",
        "    0: 2000,\n",
        "    1: 3000,\n",
        "    5: 2000,\n",
        "    3: 800,\n",
        "    4: 500\n",
        "})\n",
        "\n",
        "oversampled_features, oversampled_labels = smote.fit_resample(train_data_features, train_data_labels_n)\n",
        "\n",
        "# Downsample the majority class using RandomUnderSampler\n",
        "undersampler = RandomUnderSampler(sampling_strategy={\n",
        "    2: 3300\n",
        "})\n",
        "\n",
        "undersampled_features, undersampled_labels = undersampler.fit_resample(oversampled_features, oversampled_labels)\n",
        "\n",
        "print(\"Class distribution after balancing:\", Counter(undersampled_labels))\n",
        "print(\"Shape of oversampled features:\", undersampled_labels.shape)\n",
        "print(\"Shape of oversampled labels:\", undersampled_labels.shape)"
      ],
      "metadata": {
        "colab": {
          "base_uri": "https://localhost:8080/"
        },
        "outputId": "8b9d6dda-134c-403d-e034-259ef84fbd27",
        "id": "5geKz9Tm8nB1"
      },
      "execution_count": null,
      "outputs": [
        {
          "output_type": "stream",
          "name": "stdout",
          "text": [
            "Class distribution after balancing: Counter({2: 3300, 1: 3000, 0: 2000, 5: 2000, 3: 800, 4: 500})\n",
            "Shape of oversampled features: (11600,)\n",
            "Shape of oversampled labels: (11600,)\n"
          ]
        }
      ]
    },
    {
      "cell_type": "markdown",
      "source": [
        "## Training"
      ],
      "metadata": {
        "id": "KwgkJxlU8nB1"
      }
    },
    {
      "cell_type": "code",
      "source": [
        "input = Input(shape=(val_data_features.shape[1],))\n",
        "x = Dense(512)(input)\n",
        "x = BatchNormalization()(x)\n",
        "x = Dropout(0.2)(x)\n",
        "x = ReLU()(x)\n",
        "\n",
        "x = Dense(256)(x)\n",
        "x = BatchNormalization()(x)\n",
        "x = Dropout(0.2)(x)\n",
        "x = ReLU()(x)\n",
        "\n",
        "x = Dense(128)(x)\n",
        "x = BatchNormalization()(x)\n",
        "x = Dropout(0.2)(x)\n",
        "x = ReLU()(x)\n",
        "\n",
        "output = Dense(len(np.unique(train_data_labels_n)), activation='softmax', name=f'category_{1}_output')(x)\n",
        "\n",
        "model = Model(inputs=[input], outputs=[output])\n",
        "\n",
        "# Compile the model\n",
        "model.compile(optimizer='adam',\n",
        "              loss='sparse_categorical_crossentropy',\n",
        "              metrics=['accuracy'])"
      ],
      "metadata": {
        "id": "JwSPoRBv8nB1"
      },
      "execution_count": null,
      "outputs": []
    },
    {
      "cell_type": "code",
      "source": [
        "history = model.fit(\n",
        "    undersampled_features, undersampled_labels,\n",
        "    epochs=20,\n",
        "    batch_size=32,\n",
        "    validation_data = (val_data_features, val_data_labels_n)\n",
        ")"
      ],
      "metadata": {
        "colab": {
          "base_uri": "https://localhost:8080/"
        },
        "outputId": "30033598-1e3d-4013-98f3-796fe9e3f172",
        "id": "n8gKjZGb8nB2"
      },
      "execution_count": null,
      "outputs": [
        {
          "output_type": "stream",
          "name": "stdout",
          "text": [
            "Epoch 1/20\n",
            "363/363 [==============================] - 13s 19ms/step - loss: 0.7438 - accuracy: 0.7166 - val_loss: 0.9118 - val_accuracy: 0.6880\n",
            "Epoch 2/20\n",
            "363/363 [==============================] - 6s 15ms/step - loss: 0.2515 - accuracy: 0.9095 - val_loss: 1.0319 - val_accuracy: 0.6890\n",
            "Epoch 3/20\n",
            "363/363 [==============================] - 6s 17ms/step - loss: 0.1408 - accuracy: 0.9528 - val_loss: 1.2860 - val_accuracy: 0.6680\n",
            "Epoch 4/20\n",
            "363/363 [==============================] - 6s 16ms/step - loss: 0.1046 - accuracy: 0.9631 - val_loss: 1.3425 - val_accuracy: 0.6420\n",
            "Epoch 5/20\n",
            "363/363 [==============================] - 6s 16ms/step - loss: 0.0697 - accuracy: 0.9778 - val_loss: 1.4642 - val_accuracy: 0.6910\n",
            "Epoch 6/20\n",
            "363/363 [==============================] - 6s 17ms/step - loss: 0.0657 - accuracy: 0.9773 - val_loss: 1.5526 - val_accuracy: 0.6690\n",
            "Epoch 7/20\n",
            "363/363 [==============================] - 6s 16ms/step - loss: 0.0695 - accuracy: 0.9769 - val_loss: 1.4361 - val_accuracy: 0.6810\n",
            "Epoch 8/20\n",
            "363/363 [==============================] - 6s 17ms/step - loss: 0.0465 - accuracy: 0.9848 - val_loss: 1.6272 - val_accuracy: 0.6920\n",
            "Epoch 9/20\n",
            "363/363 [==============================] - 5s 15ms/step - loss: 0.0434 - accuracy: 0.9850 - val_loss: 1.6777 - val_accuracy: 0.6730\n",
            "Epoch 10/20\n",
            "363/363 [==============================] - 6s 17ms/step - loss: 0.0466 - accuracy: 0.9846 - val_loss: 1.7064 - val_accuracy: 0.7000\n",
            "Epoch 11/20\n",
            "363/363 [==============================] - 6s 15ms/step - loss: 0.0370 - accuracy: 0.9879 - val_loss: 1.7347 - val_accuracy: 0.6560\n",
            "Epoch 12/20\n",
            "363/363 [==============================] - 6s 17ms/step - loss: 0.0348 - accuracy: 0.9880 - val_loss: 1.6838 - val_accuracy: 0.6710\n",
            "Epoch 13/20\n",
            "363/363 [==============================] - 6s 16ms/step - loss: 0.0302 - accuracy: 0.9898 - val_loss: 1.8414 - val_accuracy: 0.6540\n",
            "Epoch 14/20\n",
            "363/363 [==============================] - 6s 16ms/step - loss: 0.0297 - accuracy: 0.9894 - val_loss: 1.7580 - val_accuracy: 0.6850\n",
            "Epoch 15/20\n",
            "363/363 [==============================] - 6s 16ms/step - loss: 0.0361 - accuracy: 0.9879 - val_loss: 1.8244 - val_accuracy: 0.6580\n",
            "Epoch 16/20\n",
            "363/363 [==============================] - 5s 15ms/step - loss: 0.0292 - accuracy: 0.9903 - val_loss: 1.8617 - val_accuracy: 0.6980\n",
            "Epoch 17/20\n",
            "363/363 [==============================] - 6s 17ms/step - loss: 0.0340 - accuracy: 0.9884 - val_loss: 1.8274 - val_accuracy: 0.6910\n",
            "Epoch 18/20\n",
            "363/363 [==============================] - 6s 15ms/step - loss: 0.0223 - accuracy: 0.9935 - val_loss: 1.9413 - val_accuracy: 0.6870\n",
            "Epoch 19/20\n",
            "363/363 [==============================] - 6s 17ms/step - loss: 0.0226 - accuracy: 0.9922 - val_loss: 1.9135 - val_accuracy: 0.6770\n",
            "Epoch 20/20\n",
            "363/363 [==============================] - 6s 16ms/step - loss: 0.0199 - accuracy: 0.9933 - val_loss: 1.9429 - val_accuracy: 0.6940\n"
          ]
        }
      ]
    },
    {
      "cell_type": "code",
      "source": [
        "r = pd.DataFrame(history.history)\n",
        "fig, ax = plt.subplots(1, 2, figsize=(15, 5))\n",
        "ax[0].plot(r.index, r['loss'], label='Train loss')\n",
        "ax[0].plot(r.index, r['val_loss'], label='Validation loss')\n",
        "ax[1].plot(r.index, r['accuracy'], label='Train accuracy')\n",
        "ax[1].plot(r.index, r['val_accuracy'], label='Validation accuracy')\n",
        "ax[0].legend()\n",
        "ax[1].legend()\n",
        "plt.show()"
      ],
      "metadata": {
        "colab": {
          "base_uri": "https://localhost:8080/",
          "height": 318
        },
        "outputId": "e06725f6-ef90-43b3-998d-33d4e18db8dc",
        "id": "fwfe9MUk8nB2"
      },
      "execution_count": null,
      "outputs": [
        {
          "output_type": "display_data",
          "data": {
            "text/plain": [
              "<Figure size 1500x500 with 2 Axes>"
            ],
            "image/png": "[encoded data removed]"
          },
          "metadata": {}
        }
      ]
    },
    {
      "cell_type": "markdown",
      "source": [
        "## Evaluation"
      ],
      "metadata": {
        "id": "T8MMc-108nB3"
      }
    },
    {
      "cell_type": "code",
      "source": [
        "y_pred = model.predict(val_data_features)\n",
        "y_pred = np.argmax(y_pred, axis=1)"
      ],
      "metadata": {
        "colab": {
          "base_uri": "https://localhost:8080/"
        },
        "outputId": "d31401b4-0096-4f77-f1a9-d43b7bdaccef",
        "id": "hGj5QSS08nB3"
      },
      "execution_count": null,
      "outputs": [
        {
          "output_type": "stream",
          "name": "stdout",
          "text": [
            "32/32 [==============================] - 0s 5ms/step\n"
          ]
        }
      ]
    },
    {
      "cell_type": "code",
      "source": [
        "# Calculate precision, recall, and F1 score\n",
        "accuracy = accuracy_score(val_data_labels_n, y_pred)\n",
        "precision = precision_score(val_data_labels_n, y_pred, average='weighted')\n",
        "recall = recall_score(val_data_labels_n, y_pred, average='weighted')\n",
        "f1 = f1_score(val_data_labels_n, y_pred, average='weighted')\n",
        "\n",
        "# Print the results\n",
        "print('Accuracy:', accuracy)\n",
        "print('Precision:', precision)\n",
        "print('Recall:', recall)\n",
        "print('F1 score:', f1)"
      ],
      "metadata": {
        "colab": {
          "base_uri": "https://localhost:8080/"
        },
        "outputId": "bae3d2b2-450e-4570-cadc-b2bb537e2de9",
        "id": "9CH-272z8nB3"
      },
      "execution_count": null,
      "outputs": [
        {
          "output_type": "stream",
          "name": "stdout",
          "text": [
            "Accuracy: 0.694\n",
            "Precision: 0.6757415830173272\n",
            "Recall: 0.694\n",
            "F1 score: 0.6778084501542047\n"
          ]
        }
      ]
    },
    {
      "cell_type": "code",
      "source": [
        "print(classification_report(val_data_labels_n, y_pred))"
      ],
      "metadata": {
        "colab": {
          "base_uri": "https://localhost:8080/"
        },
        "outputId": "1f54a1df-2d60-4c27-c45d-85fb9fb50a66",
        "id": "__xHByGg8nB4"
      },
      "execution_count": null,
      "outputs": [
        {
          "output_type": "stream",
          "name": "stdout",
          "text": [
            "              precision    recall  f1-score   support\n",
            "\n",
            "           0       0.58      0.45      0.51        56\n",
            "           1       0.46      0.39      0.42       146\n",
            "           2       0.77      0.86      0.81       680\n",
            "           3       0.06      0.06      0.06        16\n",
            "           4       0.31      0.50      0.38        10\n",
            "           5       0.52      0.25      0.34        92\n",
            "\n",
            "    accuracy                           0.69      1000\n",
            "   macro avg       0.45      0.42      0.42      1000\n",
            "weighted avg       0.68      0.69      0.68      1000\n",
            "\n"
          ]
        }
      ]
    },
    {
      "cell_type": "markdown",
      "source": [
        "## Retrieving"
      ],
      "metadata": {
        "id": "7WmhY3J7Yui5"
      }
    },
    {
      "cell_type": "code",
      "source": [
        "test_data_features = np.load('data/processed/test/test_data_features.npy')\n",
        "\n",
        "predictions = model.predict(test_data_features)\n",
        "\n",
        "np.save('data/processed/test/output_4.npy', predictions)"
      ],
      "metadata": {
        "colab": {
          "base_uri": "https://localhost:8080/"
        },
        "outputId": "0cd1b231-5718-4ed2-997e-29060ed1cf5d",
        "id": "mxUMlQkDYui6"
      },
      "execution_count": null,
      "outputs": [
        {
          "output_type": "stream",
          "name": "stdout",
          "text": [
            "32/32 [==============================] - 0s 5ms/step\n"
          ]
        }
      ]
    },
    {
      "cell_type": "markdown",
      "source": [
        "# Output 5"
      ],
      "metadata": {
        "id": "JLCd7iQPrUJR"
      }
    },
    {
      "cell_type": "markdown",
      "source": [
        "## Loading Features and Labels"
      ],
      "metadata": {
        "id": "ML6jbjl-T1r6"
      }
    },
    {
      "cell_type": "code",
      "source": [
        "train_data_features = np.load('data/processed/train/train_data_features.npy')\n",
        "train_data_labels = np.load('data/processed/train/train_labels.npy')\n",
        "\n",
        "val_data_features = np.load('data/processed/val/val_data_features.npy')\n",
        "val_data_labels = np.load('data/processed/val/val_labels.npy')"
      ],
      "metadata": {
        "id": "oSJP7VNg1eQP"
      },
      "execution_count": null,
      "outputs": []
    },
    {
      "cell_type": "code",
      "source": [
        "N = 5 # Choosing which label to work with\n",
        "\n",
        "train_data_labels_n = train_data_labels[:, N]\n",
        "print(\"Training distribution:\", Counter(train_data_labels_n))\n",
        "\n",
        "val_data_labels_n = val_data_labels[:, N]\n",
        "print(\"Validation distribution:\", Counter(val_data_labels_n))"
      ],
      "metadata": {
        "colab": {
          "base_uri": "https://localhost:8080/"
        },
        "id": "i_Qtd_nvqsHc",
        "outputId": "41b192d1-f836-40ea-fd4d-67d2d32e12da"
      },
      "execution_count": null,
      "outputs": [
        {
          "output_type": "stream",
          "name": "stdout",
          "text": [
            "Training distribution: Counter({2: 3972, 0: 749, 1: 279})\n",
            "Validation distribution: Counter({2: 801, 0: 129, 1: 70})\n"
          ]
        }
      ]
    },
    {
      "cell_type": "markdown",
      "source": [
        "## Balancing training dataset"
      ],
      "metadata": {
        "id": "5vXpUNX4T6aF"
      }
    },
    {
      "cell_type": "code",
      "source": [
        "# Set the target number of samples for each class\n",
        "target_samples = 1000\n",
        "\n",
        "# Upsampling Minority classes using SMOTE\n",
        "smote = SMOTE(sampling_strategy={\n",
        "    0: 3000,\n",
        "    1: 5000,\n",
        "})\n",
        "\n",
        "oversampled_features, oversampled_labels = smote.fit_resample(train_data_features, train_data_labels_n)\n",
        "\n",
        "# Downsample the majority class using RandomUnderSampler\n",
        "undersampler = RandomUnderSampler(sampling_strategy={\n",
        "    2: 3000\n",
        "})\n",
        "\n",
        "undersampled_features, undersampled_labels = undersampler.fit_resample(oversampled_features, oversampled_labels)\n",
        "\n",
        "print(\"Class distribution after balancing:\", Counter(undersampled_labels))\n",
        "print(\"Shape of oversampled features:\", undersampled_labels.shape)\n",
        "print(\"Shape of oversampled labels:\", undersampled_labels.shape)"
      ],
      "metadata": {
        "colab": {
          "base_uri": "https://localhost:8080/"
        },
        "id": "BtZcB8DTzYYP",
        "outputId": "cf45f4a3-7f2c-4c6a-d8e5-6e8f1be59ad0"
      },
      "execution_count": null,
      "outputs": [
        {
          "output_type": "stream",
          "name": "stderr",
          "text": [
            "/usr/local/lib/python3.10/dist-packages/imblearn/utils/_validation.py:313: UserWarning: After over-sampling, the number of samples (5000) in class 1 will be larger than the number of samples in the majority class (class #2 -> 3972)\n",
            "  warnings.warn(\n"
          ]
        },
        {
          "output_type": "stream",
          "name": "stdout",
          "text": [
            "Class distribution after balancing: Counter({1: 5000, 0: 3000, 2: 3000})\n",
            "Shape of oversampled features: (11000,)\n",
            "Shape of oversampled labels: (11000,)\n"
          ]
        }
      ]
    },
    {
      "cell_type": "markdown",
      "source": [
        "## Training"
      ],
      "metadata": {
        "id": "019SI5k0T_Mm"
      }
    },
    {
      "cell_type": "code",
      "source": [
        "input = Input(shape=(val_data_features.shape[1],))\n",
        "x = Dense(512)(input)\n",
        "x = BatchNormalization()(x)\n",
        "x = Dropout(0.2)(x)\n",
        "x = ReLU()(x)\n",
        "\n",
        "x = Dense(256)(x)\n",
        "x = BatchNormalization()(x)\n",
        "x = Dropout(0.2)(x)\n",
        "x = ReLU()(x)\n",
        "\n",
        "x = Dense(128)(x)\n",
        "x = BatchNormalization()(x)\n",
        "x = Dropout(0.2)(x)\n",
        "x = ReLU()(x)\n",
        "\n",
        "output = Dense(len(np.unique(train_data_labels_n)), activation='softmax', name=f'category_{1}_output')(x)\n",
        "\n",
        "model = Model(inputs=[input], outputs=[output])\n",
        "\n",
        "# Compile the model\n",
        "model.compile(optimizer='adam',\n",
        "              loss='sparse_categorical_crossentropy',\n",
        "              metrics=['accuracy'])"
      ],
      "metadata": {
        "id": "l4eVRbc7qr__"
      },
      "execution_count": null,
      "outputs": []
    },
    {
      "cell_type": "code",
      "source": [
        "history = model.fit(\n",
        "    undersampled_features, undersampled_labels,\n",
        "    epochs=20,\n",
        "    batch_size=32,\n",
        "    validation_data = (val_data_features, val_data_labels_n)\n",
        ")"
      ],
      "metadata": {
        "colab": {
          "base_uri": "https://localhost:8080/"
        },
        "id": "PdbFSD5RvTot",
        "outputId": "0ed744bb-09fc-49e8-9b78-db043ff62621"
      },
      "execution_count": null,
      "outputs": [
        {
          "output_type": "stream",
          "name": "stdout",
          "text": [
            "Epoch 1/20\n",
            "344/344 [==============================] - 13s 18ms/step - loss: 0.4393 - accuracy: 0.8174 - val_loss: 0.7838 - val_accuracy: 0.7100\n",
            "Epoch 2/20\n",
            "344/344 [==============================] - 6s 18ms/step - loss: 0.1524 - accuracy: 0.9460 - val_loss: 0.7813 - val_accuracy: 0.7510\n",
            "Epoch 3/20\n",
            "344/344 [==============================] - 6s 16ms/step - loss: 0.0833 - accuracy: 0.9728 - val_loss: 0.8409 - val_accuracy: 0.8130\n",
            "Epoch 4/20\n",
            "344/344 [==============================] - 6s 16ms/step - loss: 0.0692 - accuracy: 0.9768 - val_loss: 0.8679 - val_accuracy: 0.7840\n",
            "Epoch 5/20\n",
            "344/344 [==============================] - 6s 17ms/step - loss: 0.0502 - accuracy: 0.9830 - val_loss: 0.8986 - val_accuracy: 0.8100\n",
            "Epoch 6/20\n",
            "344/344 [==============================] - 5s 16ms/step - loss: 0.0402 - accuracy: 0.9875 - val_loss: 0.9928 - val_accuracy: 0.7940\n",
            "Epoch 7/20\n",
            "344/344 [==============================] - 6s 18ms/step - loss: 0.0357 - accuracy: 0.9873 - val_loss: 1.0020 - val_accuracy: 0.8010\n",
            "Epoch 8/20\n",
            "344/344 [==============================] - 6s 16ms/step - loss: 0.0342 - accuracy: 0.9881 - val_loss: 1.0977 - val_accuracy: 0.8150\n",
            "Epoch 9/20\n",
            "344/344 [==============================] - 6s 17ms/step - loss: 0.0363 - accuracy: 0.9876 - val_loss: 0.9842 - val_accuracy: 0.7930\n",
            "Epoch 10/20\n",
            "344/344 [==============================] - 5s 16ms/step - loss: 0.0257 - accuracy: 0.9908 - val_loss: 1.0301 - val_accuracy: 0.7960\n",
            "Epoch 11/20\n",
            "344/344 [==============================] - 6s 16ms/step - loss: 0.0225 - accuracy: 0.9937 - val_loss: 1.0657 - val_accuracy: 0.7870\n",
            "Epoch 12/20\n",
            "344/344 [==============================] - 6s 18ms/step - loss: 0.0256 - accuracy: 0.9906 - val_loss: 1.1626 - val_accuracy: 0.8170\n",
            "Epoch 13/20\n",
            "344/344 [==============================] - 5s 16ms/step - loss: 0.0255 - accuracy: 0.9923 - val_loss: 1.2255 - val_accuracy: 0.7710\n",
            "Epoch 14/20\n",
            "344/344 [==============================] - 6s 18ms/step - loss: 0.0259 - accuracy: 0.9917 - val_loss: 1.2637 - val_accuracy: 0.7460\n",
            "Epoch 15/20\n",
            "344/344 [==============================] - 6s 16ms/step - loss: 0.0244 - accuracy: 0.9919 - val_loss: 1.4227 - val_accuracy: 0.7570\n",
            "Epoch 16/20\n",
            "344/344 [==============================] - 6s 18ms/step - loss: 0.0216 - accuracy: 0.9932 - val_loss: 1.2735 - val_accuracy: 0.8080\n",
            "Epoch 17/20\n",
            "344/344 [==============================] - 6s 17ms/step - loss: 0.0200 - accuracy: 0.9935 - val_loss: 1.2208 - val_accuracy: 0.7890\n",
            "Epoch 18/20\n",
            "344/344 [==============================] - 6s 17ms/step - loss: 0.0181 - accuracy: 0.9945 - val_loss: 1.1914 - val_accuracy: 0.7850\n",
            "Epoch 19/20\n",
            "344/344 [==============================] - 6s 17ms/step - loss: 0.0197 - accuracy: 0.9937 - val_loss: 1.2510 - val_accuracy: 0.7900\n",
            "Epoch 20/20\n",
            "344/344 [==============================] - 5s 16ms/step - loss: 0.0107 - accuracy: 0.9968 - val_loss: 1.3606 - val_accuracy: 0.8140\n"
          ]
        }
      ]
    },
    {
      "cell_type": "code",
      "source": [
        "r = pd.DataFrame(history.history)\n",
        "fig, ax = plt.subplots(1, 2, figsize=(15, 5))\n",
        "ax[0].plot(r.index, r['loss'], label='Train loss')\n",
        "ax[0].plot(r.index, r['val_loss'], label='Validation loss')\n",
        "ax[1].plot(r.index, r['accuracy'], label='Train accuracy')\n",
        "ax[1].plot(r.index, r['val_accuracy'], label='Validation accuracy')\n",
        "ax[0].legend()\n",
        "ax[1].legend()\n",
        "plt.show()"
      ],
      "metadata": {
        "colab": {
          "base_uri": "https://localhost:8080/",
          "height": 320
        },
        "id": "83wcCp4evTkX",
        "outputId": "0e8fd9f4-d912-4d60-a2ba-324a3d3fa602"
      },
      "execution_count": null,
      "outputs": [
        {
          "output_type": "display_data",
          "data": {
            "text/plain": [
              "<Figure size 1500x500 with 2 Axes>"
            ],
            "image/png": "[encoded data removed]"
          },
          "metadata": {}
        }
      ]
    },
    {
      "cell_type": "markdown",
      "source": [
        "## Evaluation"
      ],
      "metadata": {
        "id": "yGwZmbGYUDQH"
      }
    },
    {
      "cell_type": "code",
      "source": [
        "y_pred = model.predict(val_data_features)\n",
        "y_pred = np.argmax(y_pred, axis=1)"
      ],
      "metadata": {
        "colab": {
          "base_uri": "https://localhost:8080/"
        },
        "id": "VDSrD9_jvTgt",
        "outputId": "10a2b191-1fcb-483a-8fd7-ca6216b8f199"
      },
      "execution_count": null,
      "outputs": [
        {
          "output_type": "stream",
          "name": "stdout",
          "text": [
            "32/32 [==============================] - 0s 6ms/step\n"
          ]
        }
      ]
    },
    {
      "cell_type": "code",
      "source": [
        "# Calculate precision, recall, and F1 score\n",
        "accuracy = accuracy_score(val_data_labels_n, y_pred)\n",
        "precision = precision_score(val_data_labels_n, y_pred, average='weighted')\n",
        "recall = recall_score(val_data_labels_n, y_pred, average='weighted')\n",
        "f1 = f1_score(val_data_labels_n, y_pred, average='weighted')\n",
        "\n",
        "# Print the results\n",
        "print('Accuracy:', accuracy)\n",
        "print('Precision:', precision)\n",
        "print('Recall:', recall)\n",
        "print('F1 score:', f1)"
      ],
      "metadata": {
        "colab": {
          "base_uri": "https://localhost:8080/"
        },
        "id": "HBTpW8_RvTdE",
        "outputId": "6088092f-630c-4f07-a11a-9efc928ba0d0"
      },
      "execution_count": null,
      "outputs": [
        {
          "output_type": "stream",
          "name": "stdout",
          "text": [
            "Accuracy: 0.814\n",
            "Precision: 0.7692337869419154\n",
            "Recall: 0.814\n",
            "F1 score: 0.7840914700272988\n"
          ]
        }
      ]
    },
    {
      "cell_type": "code",
      "source": [
        "print(classification_report(val_data_labels_n, y_pred))"
      ],
      "metadata": {
        "colab": {
          "base_uri": "https://localhost:8080/"
        },
        "id": "F86LLdabydej",
        "outputId": "ca65fd6f-e60b-4c05-9ff2-69ff8b945dcf"
      },
      "execution_count": null,
      "outputs": [
        {
          "output_type": "stream",
          "name": "stdout",
          "text": [
            "              precision    recall  f1-score   support\n",
            "\n",
            "           0       0.60      0.43      0.50       129\n",
            "           1       0.20      0.04      0.07        70\n",
            "           2       0.85      0.94      0.89       801\n",
            "\n",
            "    accuracy                           0.81      1000\n",
            "   macro avg       0.55      0.47      0.49      1000\n",
            "weighted avg       0.77      0.81      0.78      1000\n",
            "\n"
          ]
        }
      ]
    },
    {
      "cell_type": "markdown",
      "source": [
        "## Retrieving"
      ],
      "metadata": {
        "id": "Qy8c-F1BblYK"
      }
    },
    {
      "cell_type": "code",
      "source": [
        "test_data_features = np.load('data/processed/test/test_data_features.npy')\n",
        "\n",
        "predictions = model.predict(test_data_features)\n",
        "\n",
        "np.save('data/processed/test/output_5.npy', predictions)"
      ],
      "metadata": {
        "colab": {
          "base_uri": "https://localhost:8080/"
        },
        "outputId": "f6741b55-dfe7-434f-b056-3f6027a1cdd1",
        "id": "GGrgmAvTblYK"
      },
      "execution_count": null,
      "outputs": [
        {
          "output_type": "stream",
          "name": "stdout",
          "text": [
            "32/32 [==============================] - 0s 5ms/step\n"
          ]
        }
      ]
    },
    {
      "cell_type": "markdown",
      "source": [
        "# Inference"
      ],
      "metadata": {
        "id": "LSSVXFIala1C"
      }
    },
    {
      "cell_type": "code",
      "source": [
        "# Initialize an empty array to store combined predictions\n",
        "formatted_predictions = []\n",
        "\n",
        "# Load individual npy files and combine them\n",
        "for i in range(6):  # assuming 6 files output_0.npy to output_5.npy\n",
        "    filename = f\"data/processed/test/output_{i}.npy\"\n",
        "    prediction = np.load(filename)\n",
        "    prediction = np.argmax(prediction, axis=1)\n",
        "    formatted_predictions.append(prediction)\n",
        "\n",
        "formatted_predictions = np.array(formatted_predictions).T"
      ],
      "metadata": {
        "id": "KW9Im_TLQEY9"
      },
      "execution_count": null,
      "outputs": []
    },
    {
      "cell_type": "code",
      "source": [
        "# Store the formatted predictions in a text file\n",
        "output_file = 'data/processed/test/predictions.txt'\n",
        "with open(output_file, 'w') as f:\n",
        "    for prediction in formatted_predictions:\n",
        "        f.write(' '.join(map(str, prediction)) + '\\n')\n",
        "\n",
        "print(f\"Formatted predictions saved to {output_file}\")"
      ],
      "metadata": {
        "id": "PwX-azaipnTB",
        "colab": {
          "base_uri": "https://localhost:8080/"
        },
        "outputId": "f016f3ec-77ac-4fc9-edbb-475f0cdf4c69"
      },
      "execution_count": null,
      "outputs": [
        {
          "output_type": "stream",
          "name": "stdout",
          "text": [
            "Formatted predictions saved to /content/drive/MyDrive/predictions.txt\n"
          ]
        }
      ]
    }
  ],
  "metadata": {
    "colab": {
      "provenance": [],
      "gpuType": "T4",
      "include_colab_link": true
    },
    "kernelspec": {
      "display_name": "Python 3",
      "name": "python3"
    },
    "language_info": {
      "name": "python"
    },
    "accelerator": "GPU",
    "widgets": {
      "application/vnd.jupyter.widget-state+json": {
        "3b3a90e01428420da3d93f927343fc3e": {
          "model_module": "@jupyter-widgets/controls",
          "model_name": "HBoxModel",
          "model_module_version": "1.5.0",
          "state": {
            "_dom_classes": [],
            "_model_module": "@jupyter-widgets/controls",
            "_model_module_version": "1.5.0",
            "_model_name": "HBoxModel",
            "_view_count": null,
            "_view_module": "@jupyter-widgets/controls",
            "_view_module_version": "1.5.0",
            "_view_name": "HBoxView",
            "box_style": "",
            "children": [
              "IPY_MODEL_2cda61b69187440d826369883ab564a0",
              "IPY_MODEL_1de529d626a048f4b746e9976c87c677",
              "IPY_MODEL_7bb41d76633742f19b1e079259914410"
            ],
            "layout": "IPY_MODEL_855378fa86c04c7497d1b5712d2a68a0"
          }
        },
        "2cda61b69187440d826369883ab564a0": {
          "model_module": "@jupyter-widgets/controls",
          "model_name": "HTMLModel",
          "model_module_version": "1.5.0",
          "state": {
            "_dom_classes": [],
            "_model_module": "@jupyter-widgets/controls",
            "_model_module_version": "1.5.0",
            "_model_name": "HTMLModel",
            "_view_count": null,
            "_view_module": "@jupyter-widgets/controls",
            "_view_module_version": "1.5.0",
            "_view_name": "HTMLView",
            "description": "",
            "description_tooltip": null,
            "layout": "IPY_MODEL_f5b41be2181a4a94a0c072d06e54ef04",
            "placeholder": "​",
            "style": "IPY_MODEL_246b676e39e14c2a9928a83e2e50d653",
            "value": "Retrieving features: 100%"
          }
        },
        "1de529d626a048f4b746e9976c87c677": {
          "model_module": "@jupyter-widgets/controls",
          "model_name": "FloatProgressModel",
          "model_module_version": "1.5.0",
          "state": {
            "_dom_classes": [],
            "_model_module": "@jupyter-widgets/controls",
            "_model_module_version": "1.5.0",
            "_model_name": "FloatProgressModel",
            "_view_count": null,
            "_view_module": "@jupyter-widgets/controls",
            "_view_module_version": "1.5.0",
            "_view_name": "ProgressView",
            "bar_style": "success",
            "description": "",
            "description_tooltip": null,
            "layout": "IPY_MODEL_ab37b94fd16043488a05c4c71dd323a1",
            "max": 5000,
            "min": 0,
            "orientation": "horizontal",
            "style": "IPY_MODEL_587a9d700a2c4b7ab369b175a33f05fb",
            "value": 5000
          }
        },
        "7bb41d76633742f19b1e079259914410": {
          "model_module": "@jupyter-widgets/controls",
          "model_name": "HTMLModel",
          "model_module_version": "1.5.0",
          "state": {
            "_dom_classes": [],
            "_model_module": "@jupyter-widgets/controls",
            "_model_module_version": "1.5.0",
            "_model_name": "HTMLModel",
            "_view_count": null,
            "_view_module": "@jupyter-widgets/controls",
            "_view_module_version": "1.5.0",
            "_view_name": "HTMLView",
            "description": "",
            "description_tooltip": null,
            "layout": "IPY_MODEL_7ba3750ca600475b88410df786184960",
            "placeholder": "​",
            "style": "IPY_MODEL_c0d6265d31ed4016b4e3d46c23430b85",
            "value": " 5000/5000 [08:25&lt;00:00, 11.38it/s]"
          }
        },
        "855378fa86c04c7497d1b5712d2a68a0": {
          "model_module": "@jupyter-widgets/base",
          "model_name": "LayoutModel",
          "model_module_version": "1.2.0",
          "state": {
            "_model_module": "@jupyter-widgets/base",
            "_model_module_version": "1.2.0",
            "_model_name": "LayoutModel",
            "_view_count": null,
            "_view_module": "@jupyter-widgets/base",
            "_view_module_version": "1.2.0",
            "_view_name": "LayoutView",
            "align_content": null,
            "align_items": null,
            "align_self": null,
            "border": null,
            "bottom": null,
            "display": null,
            "flex": null,
            "flex_flow": null,
            "grid_area": null,
            "grid_auto_columns": null,
            "grid_auto_flow": null,
            "grid_auto_rows": null,
            "grid_column": null,
            "grid_gap": null,
            "grid_row": null,
            "grid_template_areas": null,
            "grid_template_columns": null,
            "grid_template_rows": null,
            "height": null,
            "justify_content": null,
            "justify_items": null,
            "left": null,
            "margin": null,
            "max_height": null,
            "max_width": null,
            "min_height": null,
            "min_width": null,
            "object_fit": null,
            "object_position": null,
            "order": null,
            "overflow": null,
            "overflow_x": null,
            "overflow_y": null,
            "padding": null,
            "right": null,
            "top": null,
            "visibility": null,
            "width": null
          }
        },
        "f5b41be2181a4a94a0c072d06e54ef04": {
          "model_module": "@jupyter-widgets/base",
          "model_name": "LayoutModel",
          "model_module_version": "1.2.0",
          "state": {
            "_model_module": "@jupyter-widgets/base",
            "_model_module_version": "1.2.0",
            "_model_name": "LayoutModel",
            "_view_count": null,
            "_view_module": "@jupyter-widgets/base",
            "_view_module_version": "1.2.0",
            "_view_name": "LayoutView",
            "align_content": null,
            "align_items": null,
            "align_self": null,
            "border": null,
            "bottom": null,
            "display": null,
            "flex": null,
            "flex_flow": null,
            "grid_area": null,
            "grid_auto_columns": null,
            "grid_auto_flow": null,
            "grid_auto_rows": null,
            "grid_column": null,
            "grid_gap": null,
            "grid_row": null,
            "grid_template_areas": null,
            "grid_template_columns": null,
            "grid_template_rows": null,
            "height": null,
            "justify_content": null,
            "justify_items": null,
            "left": null,
            "margin": null,
            "max_height": null,
            "max_width": null,
            "min_height": null,
            "min_width": null,
            "object_fit": null,
            "object_position": null,
            "order": null,
            "overflow": null,
            "overflow_x": null,
            "overflow_y": null,
            "padding": null,
            "right": null,
            "top": null,
            "visibility": null,
            "width": null
          }
        },
        "246b676e39e14c2a9928a83e2e50d653": {
          "model_module": "@jupyter-widgets/controls",
          "model_name": "DescriptionStyleModel",
          "model_module_version": "1.5.0",
          "state": {
            "_model_module": "@jupyter-widgets/controls",
            "_model_module_version": "1.5.0",
            "_model_name": "DescriptionStyleModel",
            "_view_count": null,
            "_view_module": "@jupyter-widgets/base",
            "_view_module_version": "1.2.0",
            "_view_name": "StyleView",
            "description_width": ""
          }
        },
        "ab37b94fd16043488a05c4c71dd323a1": {
          "model_module": "@jupyter-widgets/base",
          "model_name": "LayoutModel",
          "model_module_version": "1.2.0",
          "state": {
            "_model_module": "@jupyter-widgets/base",
            "_model_module_version": "1.2.0",
            "_model_name": "LayoutModel",
            "_view_count": null,
            "_view_module": "@jupyter-widgets/base",
            "_view_module_version": "1.2.0",
            "_view_name": "LayoutView",
            "align_content": null,
            "align_items": null,
            "align_self": null,
            "border": null,
            "bottom": null,
            "display": null,
            "flex": null,
            "flex_flow": null,
            "grid_area": null,
            "grid_auto_columns": null,
            "grid_auto_flow": null,
            "grid_auto_rows": null,
            "grid_column": null,
            "grid_gap": null,
            "grid_row": null,
            "grid_template_areas": null,
            "grid_template_columns": null,
            "grid_template_rows": null,
            "height": null,
            "justify_content": null,
            "justify_items": null,
            "left": null,
            "margin": null,
            "max_height": null,
            "max_width": null,
            "min_height": null,
            "min_width": null,
            "object_fit": null,
            "object_position": null,
            "order": null,
            "overflow": null,
            "overflow_x": null,
            "overflow_y": null,
            "padding": null,
            "right": null,
            "top": null,
            "visibility": null,
            "width": null
          }
        },
        "587a9d700a2c4b7ab369b175a33f05fb": {
          "model_module": "@jupyter-widgets/controls",
          "model_name": "ProgressStyleModel",
          "model_module_version": "1.5.0",
          "state": {
            "_model_module": "@jupyter-widgets/controls",
            "_model_module_version": "1.5.0",
            "_model_name": "ProgressStyleModel",
            "_view_count": null,
            "_view_module": "@jupyter-widgets/base",
            "_view_module_version": "1.2.0",
            "_view_name": "StyleView",
            "bar_color": null,
            "description_width": ""
          }
        },
        "7ba3750ca600475b88410df786184960": {
          "model_module": "@jupyter-widgets/base",
          "model_name": "LayoutModel",
          "model_module_version": "1.2.0",
          "state": {
            "_model_module": "@jupyter-widgets/base",
            "_model_module_version": "1.2.0",
            "_model_name": "LayoutModel",
            "_view_count": null,
            "_view_module": "@jupyter-widgets/base",
            "_view_module_version": "1.2.0",
            "_view_name": "LayoutView",
            "align_content": null,
            "align_items": null,
            "align_self": null,
            "border": null,
            "bottom": null,
            "display": null,
            "flex": null,
            "flex_flow": null,
            "grid_area": null,
            "grid_auto_columns": null,
            "grid_auto_flow": null,
            "grid_auto_rows": null,
            "grid_column": null,
            "grid_gap": null,
            "grid_row": null,
            "grid_template_areas": null,
            "grid_template_columns": null,
            "grid_template_rows": null,
            "height": null,
            "justify_content": null,
            "justify_items": null,
            "left": null,
            "margin": null,
            "max_height": null,
            "max_width": null,
            "min_height": null,
            "min_width": null,
            "object_fit": null,
            "object_position": null,
            "order": null,
            "overflow": null,
            "overflow_x": null,
            "overflow_y": null,
            "padding": null,
            "right": null,
            "top": null,
            "visibility": null,
            "width": null
          }
        },
        "c0d6265d31ed4016b4e3d46c23430b85": {
          "model_module": "@jupyter-widgets/controls",
          "model_name": "DescriptionStyleModel",
          "model_module_version": "1.5.0",
          "state": {
            "_model_module": "@jupyter-widgets/controls",
            "_model_module_version": "1.5.0",
            "_model_name": "DescriptionStyleModel",
            "_view_count": null,
            "_view_module": "@jupyter-widgets/base",
            "_view_module_version": "1.2.0",
            "_view_name": "StyleView",
            "description_width": ""
          }
        },
        "4633445320bf44b4aa890311c161a9cc": {
          "model_module": "@jupyter-widgets/controls",
          "model_name": "HBoxModel",
          "model_module_version": "1.5.0",
          "state": {
            "_dom_classes": [],
            "_model_module": "@jupyter-widgets/controls",
            "_model_module_version": "1.5.0",
            "_model_name": "HBoxModel",
            "_view_count": null,
            "_view_module": "@jupyter-widgets/controls",
            "_view_module_version": "1.5.0",
            "_view_name": "HBoxView",
            "box_style": "",
            "children": [
              "IPY_MODEL_cbe8e41be5e24ad99f544251e42599eb",
              "IPY_MODEL_3d5a59059f504ebabde1ce0377a448ca",
              "IPY_MODEL_d56f892de862458d89a8644db45617f7"
            ],
            "layout": "IPY_MODEL_84312e8462f841d98eb8936493268f94"
          }
        },
        "cbe8e41be5e24ad99f544251e42599eb": {
          "model_module": "@jupyter-widgets/controls",
          "model_name": "HTMLModel",
          "model_module_version": "1.5.0",
          "state": {
            "_dom_classes": [],
            "_model_module": "@jupyter-widgets/controls",
            "_model_module_version": "1.5.0",
            "_model_name": "HTMLModel",
            "_view_count": null,
            "_view_module": "@jupyter-widgets/controls",
            "_view_module_version": "1.5.0",
            "_view_name": "HTMLView",
            "description": "",
            "description_tooltip": null,
            "layout": "IPY_MODEL_20fbd15a7957486fb1728028de329aee",
            "placeholder": "​",
            "style": "IPY_MODEL_90f25d93438f45ec9267c83669a14055",
            "value": "Retrieving features: 100%"
          }
        },
        "3d5a59059f504ebabde1ce0377a448ca": {
          "model_module": "@jupyter-widgets/controls",
          "model_name": "FloatProgressModel",
          "model_module_version": "1.5.0",
          "state": {
            "_dom_classes": [],
            "_model_module": "@jupyter-widgets/controls",
            "_model_module_version": "1.5.0",
            "_model_name": "FloatProgressModel",
            "_view_count": null,
            "_view_module": "@jupyter-widgets/controls",
            "_view_module_version": "1.5.0",
            "_view_name": "ProgressView",
            "bar_style": "success",
            "description": "",
            "description_tooltip": null,
            "layout": "IPY_MODEL_c2e61918d0ba41e9b2e1d0c037267a19",
            "max": 1000,
            "min": 0,
            "orientation": "horizontal",
            "style": "IPY_MODEL_eec859a764cc4a42a64d3e2a99110f56",
            "value": 1000
          }
        },
        "d56f892de862458d89a8644db45617f7": {
          "model_module": "@jupyter-widgets/controls",
          "model_name": "HTMLModel",
          "model_module_version": "1.5.0",
          "state": {
            "_dom_classes": [],
            "_model_module": "@jupyter-widgets/controls",
            "_model_module_version": "1.5.0",
            "_model_name": "HTMLModel",
            "_view_count": null,
            "_view_module": "@jupyter-widgets/controls",
            "_view_module_version": "1.5.0",
            "_view_name": "HTMLView",
            "description": "",
            "description_tooltip": null,
            "layout": "IPY_MODEL_be41c35a324040359a3a0204ed206c55",
            "placeholder": "​",
            "style": "IPY_MODEL_d7e2e248c97641e0a15dabd2ae8bd623",
            "value": " 1000/1000 [01:46&lt;00:00, 10.73it/s]"
          }
        },
        "84312e8462f841d98eb8936493268f94": {
          "model_module": "@jupyter-widgets/base",
          "model_name": "LayoutModel",
          "model_module_version": "1.2.0",
          "state": {
            "_model_module": "@jupyter-widgets/base",
            "_model_module_version": "1.2.0",
            "_model_name": "LayoutModel",
            "_view_count": null,
            "_view_module": "@jupyter-widgets/base",
            "_view_module_version": "1.2.0",
            "_view_name": "LayoutView",
            "align_content": null,
            "align_items": null,
            "align_self": null,
            "border": null,
            "bottom": null,
            "display": null,
            "flex": null,
            "flex_flow": null,
            "grid_area": null,
            "grid_auto_columns": null,
            "grid_auto_flow": null,
            "grid_auto_rows": null,
            "grid_column": null,
            "grid_gap": null,
            "grid_row": null,
            "grid_template_areas": null,
            "grid_template_columns": null,
            "grid_template_rows": null,
            "height": null,
            "justify_content": null,
            "justify_items": null,
            "left": null,
            "margin": null,
            "max_height": null,
            "max_width": null,
            "min_height": null,
            "min_width": null,
            "object_fit": null,
            "object_position": null,
            "order": null,
            "overflow": null,
            "overflow_x": null,
            "overflow_y": null,
            "padding": null,
            "right": null,
            "top": null,
            "visibility": null,
            "width": null
          }
        },
        "20fbd15a7957486fb1728028de329aee": {
          "model_module": "@jupyter-widgets/base",
          "model_name": "LayoutModel",
          "model_module_version": "1.2.0",
          "state": {
            "_model_module": "@jupyter-widgets/base",
            "_model_module_version": "1.2.0",
            "_model_name": "LayoutModel",
            "_view_count": null,
            "_view_module": "@jupyter-widgets/base",
            "_view_module_version": "1.2.0",
            "_view_name": "LayoutView",
            "align_content": null,
            "align_items": null,
            "align_self": null,
            "border": null,
            "bottom": null,
            "display": null,
            "flex": null,
            "flex_flow": null,
            "grid_area": null,
            "grid_auto_columns": null,
            "grid_auto_flow": null,
            "grid_auto_rows": null,
            "grid_column": null,
            "grid_gap": null,
            "grid_row": null,
            "grid_template_areas": null,
            "grid_template_columns": null,
            "grid_template_rows": null,
            "height": null,
            "justify_content": null,
            "justify_items": null,
            "left": null,
            "margin": null,
            "max_height": null,
            "max_width": null,
            "min_height": null,
            "min_width": null,
            "object_fit": null,
            "object_position": null,
            "order": null,
            "overflow": null,
            "overflow_x": null,
            "overflow_y": null,
            "padding": null,
            "right": null,
            "top": null,
            "visibility": null,
            "width": null
          }
        },
        "90f25d93438f45ec9267c83669a14055": {
          "model_module": "@jupyter-widgets/controls",
          "model_name": "DescriptionStyleModel",
          "model_module_version": "1.5.0",
          "state": {
            "_model_module": "@jupyter-widgets/controls",
            "_model_module_version": "1.5.0",
            "_model_name": "DescriptionStyleModel",
            "_view_count": null,
            "_view_module": "@jupyter-widgets/base",
            "_view_module_version": "1.2.0",
            "_view_name": "StyleView",
            "description_width": ""
          }
        },
        "c2e61918d0ba41e9b2e1d0c037267a19": {
          "model_module": "@jupyter-widgets/base",
          "model_name": "LayoutModel",
          "model_module_version": "1.2.0",
          "state": {
            "_model_module": "@jupyter-widgets/base",
            "_model_module_version": "1.2.0",
            "_model_name": "LayoutModel",
            "_view_count": null,
            "_view_module": "@jupyter-widgets/base",
            "_view_module_version": "1.2.0",
            "_view_name": "LayoutView",
            "align_content": null,
            "align_items": null,
            "align_self": null,
            "border": null,
            "bottom": null,
            "display": null,
            "flex": null,
            "flex_flow": null,
            "grid_area": null,
            "grid_auto_columns": null,
            "grid_auto_flow": null,
            "grid_auto_rows": null,
            "grid_column": null,
            "grid_gap": null,
            "grid_row": null,
            "grid_template_areas": null,
            "grid_template_columns": null,
            "grid_template_rows": null,
            "height": null,
            "justify_content": null,
            "justify_items": null,
            "left": null,
            "margin": null,
            "max_height": null,
            "max_width": null,
            "min_height": null,
            "min_width": null,
            "object_fit": null,
            "object_position": null,
            "order": null,
            "overflow": null,
            "overflow_x": null,
            "overflow_y": null,
            "padding": null,
            "right": null,
            "top": null,
            "visibility": null,
            "width": null
          }
        },
        "eec859a764cc4a42a64d3e2a99110f56": {
          "model_module": "@jupyter-widgets/controls",
          "model_name": "ProgressStyleModel",
          "model_module_version": "1.5.0",
          "state": {
            "_model_module": "@jupyter-widgets/controls",
            "_model_module_version": "1.5.0",
            "_model_name": "ProgressStyleModel",
            "_view_count": null,
            "_view_module": "@jupyter-widgets/base",
            "_view_module_version": "1.2.0",
            "_view_name": "StyleView",
            "bar_color": null,
            "description_width": ""
          }
        },
        "be41c35a324040359a3a0204ed206c55": {
          "model_module": "@jupyter-widgets/base",
          "model_name": "LayoutModel",
          "model_module_version": "1.2.0",
          "state": {
            "_model_module": "@jupyter-widgets/base",
            "_model_module_version": "1.2.0",
            "_model_name": "LayoutModel",
            "_view_count": null,
            "_view_module": "@jupyter-widgets/base",
            "_view_module_version": "1.2.0",
            "_view_name": "LayoutView",
            "align_content": null,
            "align_items": null,
            "align_self": null,
            "border": null,
            "bottom": null,
            "display": null,
            "flex": null,
            "flex_flow": null,
            "grid_area": null,
            "grid_auto_columns": null,
            "grid_auto_flow": null,
            "grid_auto_rows": null,
            "grid_column": null,
            "grid_gap": null,
            "grid_row": null,
            "grid_template_areas": null,
            "grid_template_columns": null,
            "grid_template_rows": null,
            "height": null,
            "justify_content": null,
            "justify_items": null,
            "left": null,
            "margin": null,
            "max_height": null,
            "max_width": null,
            "min_height": null,
            "min_width": null,
            "object_fit": null,
            "object_position": null,
            "order": null,
            "overflow": null,
            "overflow_x": null,
            "overflow_y": null,
            "padding": null,
            "right": null,
            "top": null,
            "visibility": null,
            "width": null
          }
        },
        "d7e2e248c97641e0a15dabd2ae8bd623": {
          "model_module": "@jupyter-widgets/controls",
          "model_name": "DescriptionStyleModel",
          "model_module_version": "1.5.0",
          "state": {
            "_model_module": "@jupyter-widgets/controls",
            "_model_module_version": "1.5.0",
            "_model_name": "DescriptionStyleModel",
            "_view_count": null,
            "_view_module": "@jupyter-widgets/base",
            "_view_module_version": "1.2.0",
            "_view_name": "StyleView",
            "description_width": ""
          }
        },
        "a64b5bf4684747a5b618b8acbab62cd6": {
          "model_module": "@jupyter-widgets/controls",
          "model_name": "HBoxModel",
          "model_module_version": "1.5.0",
          "state": {
            "_dom_classes": [],
            "_model_module": "@jupyter-widgets/controls",
            "_model_module_version": "1.5.0",
            "_model_name": "HBoxModel",
            "_view_count": null,
            "_view_module": "@jupyter-widgets/controls",
            "_view_module_version": "1.5.0",
            "_view_name": "HBoxView",
            "box_style": "",
            "children": [
              "IPY_MODEL_51deada61e174ff7bb868be8287a9485",
              "IPY_MODEL_fdd9e1e551f94ab0b2d3cfed6146a287",
              "IPY_MODEL_70030d03b4994116a728d8580edad841"
            ],
            "layout": "IPY_MODEL_e78dedb39ded4a91aa2643944cd97a8d"
          }
        },
        "51deada61e174ff7bb868be8287a9485": {
          "model_module": "@jupyter-widgets/controls",
          "model_name": "HTMLModel",
          "model_module_version": "1.5.0",
          "state": {
            "_dom_classes": [],
            "_model_module": "@jupyter-widgets/controls",
            "_model_module_version": "1.5.0",
            "_model_name": "HTMLModel",
            "_view_count": null,
            "_view_module": "@jupyter-widgets/controls",
            "_view_module_version": "1.5.0",
            "_view_name": "HTMLView",
            "description": "",
            "description_tooltip": null,
            "layout": "IPY_MODEL_5a727373a3524706a21c8cc20b44370f",
            "placeholder": "​",
            "style": "IPY_MODEL_16c06459f6914ec88033ae9986a77c88",
            "value": "Retrieving features: 100%"
          }
        },
        "fdd9e1e551f94ab0b2d3cfed6146a287": {
          "model_module": "@jupyter-widgets/controls",
          "model_name": "FloatProgressModel",
          "model_module_version": "1.5.0",
          "state": {
            "_dom_classes": [],
            "_model_module": "@jupyter-widgets/controls",
            "_model_module_version": "1.5.0",
            "_model_name": "FloatProgressModel",
            "_view_count": null,
            "_view_module": "@jupyter-widgets/controls",
            "_view_module_version": "1.5.0",
            "_view_name": "ProgressView",
            "bar_style": "success",
            "description": "",
            "description_tooltip": null,
            "layout": "IPY_MODEL_5fe6b5bd86ac4a5db1c039f8291fe87b",
            "max": 1000,
            "min": 0,
            "orientation": "horizontal",
            "style": "IPY_MODEL_6b8ed8cef10543bb8735c8a1cd6c7c43",
            "value": 1000
          }
        },
        "70030d03b4994116a728d8580edad841": {
          "model_module": "@jupyter-widgets/controls",
          "model_name": "HTMLModel",
          "model_module_version": "1.5.0",
          "state": {
            "_dom_classes": [],
            "_model_module": "@jupyter-widgets/controls",
            "_model_module_version": "1.5.0",
            "_model_name": "HTMLModel",
            "_view_count": null,
            "_view_module": "@jupyter-widgets/controls",
            "_view_module_version": "1.5.0",
            "_view_name": "HTMLView",
            "description": "",
            "description_tooltip": null,
            "layout": "IPY_MODEL_a3dbe3f13405482a873bc931c125d1cf",
            "placeholder": "​",
            "style": "IPY_MODEL_48198c1a0215477ebc9ca1fc6190d507",
            "value": " 1000/1000 [01:42&lt;00:00,  9.82it/s]"
          }
        },
        "e78dedb39ded4a91aa2643944cd97a8d": {
          "model_module": "@jupyter-widgets/base",
          "model_name": "LayoutModel",
          "model_module_version": "1.2.0",
          "state": {
            "_model_module": "@jupyter-widgets/base",
            "_model_module_version": "1.2.0",
            "_model_name": "LayoutModel",
            "_view_count": null,
            "_view_module": "@jupyter-widgets/base",
            "_view_module_version": "1.2.0",
            "_view_name": "LayoutView",
            "align_content": null,
            "align_items": null,
            "align_self": null,
            "border": null,
            "bottom": null,
            "display": null,
            "flex": null,
            "flex_flow": null,
            "grid_area": null,
            "grid_auto_columns": null,
            "grid_auto_flow": null,
            "grid_auto_rows": null,
            "grid_column": null,
            "grid_gap": null,
            "grid_row": null,
            "grid_template_areas": null,
            "grid_template_columns": null,
            "grid_template_rows": null,
            "height": null,
            "justify_content": null,
            "justify_items": null,
            "left": null,
            "margin": null,
            "max_height": null,
            "max_width": null,
            "min_height": null,
            "min_width": null,
            "object_fit": null,
            "object_position": null,
            "order": null,
            "overflow": null,
            "overflow_x": null,
            "overflow_y": null,
            "padding": null,
            "right": null,
            "top": null,
            "visibility": null,
            "width": null
          }
        },
        "5a727373a3524706a21c8cc20b44370f": {
          "model_module": "@jupyter-widgets/base",
          "model_name": "LayoutModel",
          "model_module_version": "1.2.0",
          "state": {
            "_model_module": "@jupyter-widgets/base",
            "_model_module_version": "1.2.0",
            "_model_name": "LayoutModel",
            "_view_count": null,
            "_view_module": "@jupyter-widgets/base",
            "_view_module_version": "1.2.0",
            "_view_name": "LayoutView",
            "align_content": null,
            "align_items": null,
            "align_self": null,
            "border": null,
            "bottom": null,
            "display": null,
            "flex": null,
            "flex_flow": null,
            "grid_area": null,
            "grid_auto_columns": null,
            "grid_auto_flow": null,
            "grid_auto_rows": null,
            "grid_column": null,
            "grid_gap": null,
            "grid_row": null,
            "grid_template_areas": null,
            "grid_template_columns": null,
            "grid_template_rows": null,
            "height": null,
            "justify_content": null,
            "justify_items": null,
            "left": null,
            "margin": null,
            "max_height": null,
            "max_width": null,
            "min_height": null,
            "min_width": null,
            "object_fit": null,
            "object_position": null,
            "order": null,
            "overflow": null,
            "overflow_x": null,
            "overflow_y": null,
            "padding": null,
            "right": null,
            "top": null,
            "visibility": null,
            "width": null
          }
        },
        "16c06459f6914ec88033ae9986a77c88": {
          "model_module": "@jupyter-widgets/controls",
          "model_name": "DescriptionStyleModel",
          "model_module_version": "1.5.0",
          "state": {
            "_model_module": "@jupyter-widgets/controls",
            "_model_module_version": "1.5.0",
            "_model_name": "DescriptionStyleModel",
            "_view_count": null,
            "_view_module": "@jupyter-widgets/base",
            "_view_module_version": "1.2.0",
            "_view_name": "StyleView",
            "description_width": ""
          }
        },
        "5fe6b5bd86ac4a5db1c039f8291fe87b": {
          "model_module": "@jupyter-widgets/base",
          "model_name": "LayoutModel",
          "model_module_version": "1.2.0",
          "state": {
            "_model_module": "@jupyter-widgets/base",
            "_model_module_version": "1.2.0",
            "_model_name": "LayoutModel",
            "_view_count": null,
            "_view_module": "@jupyter-widgets/base",
            "_view_module_version": "1.2.0",
            "_view_name": "LayoutView",
            "align_content": null,
            "align_items": null,
            "align_self": null,
            "border": null,
            "bottom": null,
            "display": null,
            "flex": null,
            "flex_flow": null,
            "grid_area": null,
            "grid_auto_columns": null,
            "grid_auto_flow": null,
            "grid_auto_rows": null,
            "grid_column": null,
            "grid_gap": null,
            "grid_row": null,
            "grid_template_areas": null,
            "grid_template_columns": null,
            "grid_template_rows": null,
            "height": null,
            "justify_content": null,
            "justify_items": null,
            "left": null,
            "margin": null,
            "max_height": null,
            "max_width": null,
            "min_height": null,
            "min_width": null,
            "object_fit": null,
            "object_position": null,
            "order": null,
            "overflow": null,
            "overflow_x": null,
            "overflow_y": null,
            "padding": null,
            "right": null,
            "top": null,
            "visibility": null,
            "width": null
          }
        },
        "6b8ed8cef10543bb8735c8a1cd6c7c43": {
          "model_module": "@jupyter-widgets/controls",
          "model_name": "ProgressStyleModel",
          "model_module_version": "1.5.0",
          "state": {
            "_model_module": "@jupyter-widgets/controls",
            "_model_module_version": "1.5.0",
            "_model_name": "ProgressStyleModel",
            "_view_count": null,
            "_view_module": "@jupyter-widgets/base",
            "_view_module_version": "1.2.0",
            "_view_name": "StyleView",
            "bar_color": null,
            "description_width": ""
          }
        },
        "a3dbe3f13405482a873bc931c125d1cf": {
          "model_module": "@jupyter-widgets/base",
          "model_name": "LayoutModel",
          "model_module_version": "1.2.0",
          "state": {
            "_model_module": "@jupyter-widgets/base",
            "_model_module_version": "1.2.0",
            "_model_name": "LayoutModel",
            "_view_count": null,
            "_view_module": "@jupyter-widgets/base",
            "_view_module_version": "1.2.0",
            "_view_name": "LayoutView",
            "align_content": null,
            "align_items": null,
            "align_self": null,
            "border": null,
            "bottom": null,
            "display": null,
            "flex": null,
            "flex_flow": null,
            "grid_area": null,
            "grid_auto_columns": null,
            "grid_auto_flow": null,
            "grid_auto_rows": null,
            "grid_column": null,
            "grid_gap": null,
            "grid_row": null,
            "grid_template_areas": null,
            "grid_template_columns": null,
            "grid_template_rows": null,
            "height": null,
            "justify_content": null,
            "justify_items": null,
            "left": null,
            "margin": null,
            "max_height": null,
            "max_width": null,
            "min_height": null,
            "min_width": null,
            "object_fit": null,
            "object_position": null,
            "order": null,
            "overflow": null,
            "overflow_x": null,
            "overflow_y": null,
            "padding": null,
            "right": null,
            "top": null,
            "visibility": null,
            "width": null
          }
        },
        "48198c1a0215477ebc9ca1fc6190d507": {
          "model_module": "@jupyter-widgets/controls",
          "model_name": "DescriptionStyleModel",
          "model_module_version": "1.5.0",
          "state": {
            "_model_module": "@jupyter-widgets/controls",
            "_model_module_version": "1.5.0",
            "_model_name": "DescriptionStyleModel",
            "_view_count": null,
            "_view_module": "@jupyter-widgets/base",
            "_view_module_version": "1.2.0",
            "_view_name": "StyleView",
            "description_width": ""
          }
        }
      }
    }
  },
  "nbformat": 4,
  "nbformat_minor": 0
}