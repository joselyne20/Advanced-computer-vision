{
  "nbformat": 4,
  "nbformat_minor": 0,
  "metadata": {
    "colab": {
      "provenance": [],
      "authorship_tag": "ABX9TyPDrca5jZ4M0F94epa5gCHf",
      "include_colab_link": true
    },
    "kernelspec": {
      "name": "python3",
      "display_name": "Python 3"
    },
    "language_info": {
      "name": "python"
    }
  },
  "cells": [
    {
      "cell_type": "markdown",
      "metadata": {
        "id": "view-in-github",
        "colab_type": "text"
      },
      "source": [
        "<a href=\"https://colab.research.google.com/github/joselyne20/Advanced-computer-vision/blob/main/Backpropagation.ipynb\" target=\"_parent\"><img src=\"https://colab.research.google.com/assets/colab-badge.svg\" alt=\"Open In Colab\"/></a>"
      ]
    },
    {
      "cell_type": "code",
      "execution_count": null,
      "metadata": {
        "id": "iRagxJCfPPdg"
      },
      "outputs": [],
      "source": []
    },
    {
      "cell_type": "markdown",
      "source": [
        "# **BACKPROPAGATION ALGORITHM**"
      ],
      "metadata": {
        "id": "R2R0M3m6PRai"
      }
    },
    {
      "cell_type": "markdown",
      "source": [],
      "metadata": {
        "id": "UMqIPlNRe1AN"
      }
    },
    {
      "cell_type": "code",
      "source": [
        "import torch"
      ],
      "metadata": {
        "id": "fZ1a1VLSPYnV"
      },
      "execution_count": null,
      "outputs": []
    },
    {
      "cell_type": "code",
      "source": [
        "x = torch.tensor(1.0)\n",
        "y = torch.tensor(2.0)\n",
        "\n",
        "\n",
        "w = torch.tensor(1.0, requires_grad= True)\n",
        "\n",
        "y_hat = w*x\n",
        "loss = (y_hat -y)**2\n",
        "\n",
        "print(loss)\n",
        "\n",
        "# backward pass\n",
        "\n",
        "loss.backward() # this will compute the whole backward process anc find gradient for us\n",
        "print(w.grad)"
      ],
      "metadata": {
        "colab": {
          "base_uri": "https://localhost:8080/"
        },
        "id": "BbaPbT1oZh5N",
        "outputId": "4a8b96f8-2046-4aa9-bb35-498566ec9ed7"
      },
      "execution_count": null,
      "outputs": [
        {
          "output_type": "stream",
          "name": "stdout",
          "text": [
            "tensor(1., grad_fn=<PowBackward0>)\n",
            "tensor(-2.)\n"
          ]
        }
      ]
    },
    {
      "cell_type": "markdown",
      "source": [
        "##**GRADIENT DESCENT USING AUTO GRAD**"
      ],
      "metadata": {
        "id": "4wwyS5vMcbd0"
      }
    },
    {
      "cell_type": "code",
      "source": [
        "# manual gradient using numpy\n",
        "\n",
        "import numpy as np\n",
        "\n",
        "# f = w*x\n",
        "#f = 2*x\n",
        "X = np.array([1,2,3,4], dtype = np.float32)\n",
        "Y = np.array([2,4,6,8], dtype = np.float32) # y is equal to 2x so we multiplied each value of x with 2\n",
        "\n",
        "w = 0.0 # initialized our weight\n",
        "\n",
        "# model prediction\n",
        "def forward(x):\n",
        "  return w*x\n",
        "\n",
        "# loss = MSE\n",
        "def loss(y, y_predicted):\n",
        "  return ((y_predicted-y)**2).mean()\n",
        "\n",
        "#gradient\n",
        "#MSE = 1/N *(w*x=y)**2\n",
        "#dJ/dw = 1/N 2x (w*x - y) J is objective function(it is numeraical computed derivative)\n",
        "\n",
        "def gradient(x,y, y_predicted): # calculating the gradient of our loss with respect to our parameters\n",
        "  return np.dot(2*x, y_predicted - y)/len(x)\n",
        "\n",
        "print(f'Prediction before training: f(5) = {forward(5):.3f}')\n",
        "\n",
        "#training\n",
        "\n",
        "learning_rate = 0.01\n",
        "n_iters = 30\n",
        "\n",
        "for epoch in range(n_iters):\n",
        "  #prediction =forward pass\n",
        "  y_pred = forward(X)\n",
        "  # loss\n",
        "  l = loss(Y, y_pred)\n",
        "  #gradients\n",
        "  dw = gradient(X,Y, y_pred)\n",
        "\n",
        "  # update weights\n",
        "\n",
        "  w -= learning_rate *dw\n",
        "\n",
        "  if epoch % 1 ==0:\n",
        "    print(f'epoch {epoch+1}: w = {w:.3f}, loss = {l:.8f}')\n",
        "print(f'Prediction after training: f(5) = {forward(5):.3f}')"
      ],
      "metadata": {
        "colab": {
          "base_uri": "https://localhost:8080/"
        },
        "id": "r5-43jT_Z_e9",
        "outputId": "894b5d57-c1f8-4284-ce85-7fa703912e09"
      },
      "execution_count": null,
      "outputs": [
        {
          "output_type": "stream",
          "name": "stdout",
          "text": [
            "Prediction before training: f(5) = 0.000\n",
            "epoch 1: w = 0.300, loss = 30.00000000\n",
            "epoch 2: w = 0.555, loss = 21.67499924\n",
            "epoch 3: w = 0.772, loss = 15.66018677\n",
            "epoch 4: w = 0.956, loss = 11.31448555\n",
            "epoch 5: w = 1.113, loss = 8.17471600\n",
            "epoch 6: w = 1.246, loss = 5.90623236\n",
            "epoch 7: w = 1.359, loss = 4.26725292\n",
            "epoch 8: w = 1.455, loss = 3.08308983\n",
            "epoch 9: w = 1.537, loss = 2.22753215\n",
            "epoch 10: w = 1.606, loss = 1.60939264\n",
            "epoch 11: w = 1.665, loss = 1.16278565\n",
            "epoch 12: w = 1.716, loss = 0.84011310\n",
            "epoch 13: w = 1.758, loss = 0.60698175\n",
            "epoch 14: w = 1.794, loss = 0.43854439\n",
            "epoch 15: w = 1.825, loss = 0.31684822\n",
            "epoch 16: w = 1.851, loss = 0.22892293\n",
            "epoch 17: w = 1.874, loss = 0.16539653\n",
            "epoch 18: w = 1.893, loss = 0.11949898\n",
            "epoch 19: w = 1.909, loss = 0.08633806\n",
            "epoch 20: w = 1.922, loss = 0.06237932\n",
            "epoch 21: w = 1.934, loss = 0.04506905\n",
            "epoch 22: w = 1.944, loss = 0.03256244\n",
            "epoch 23: w = 1.952, loss = 0.02352631\n",
            "epoch 24: w = 1.960, loss = 0.01699772\n",
            "epoch 25: w = 1.966, loss = 0.01228092\n",
            "epoch 26: w = 1.971, loss = 0.00887291\n",
            "epoch 27: w = 1.975, loss = 0.00641072\n",
            "epoch 28: w = 1.979, loss = 0.00463173\n",
            "epoch 29: w = 1.982, loss = 0.00334642\n",
            "epoch 30: w = 1.985, loss = 0.00241778\n",
            "Prediction after training: f(5) = 9.924\n"
          ]
        }
      ]
    },
    {
      "cell_type": "markdown",
      "source": [
        "###using pytorch to calcute gradient descent"
      ],
      "metadata": {
        "id": "1fQWf9F--_JG"
      }
    },
    {
      "cell_type": "code",
      "source": [
        "import torch\n",
        "\n",
        "# f = w*x\n",
        "#f = 2*x\n",
        "X = torch.tensor([1,2,3,4], dtype = torch.float32)\n",
        "Y = torch.tensor([2,4,6,8], dtype = torch.float32) # y is equal to 2x so we multiplied each value of x with 2\n",
        "\n",
        "w =torch.tensor(0.0, dtype=torch.float32, requires_grad= True) # initialized our weight\n",
        "\n",
        "# model prediction\n",
        "def forward(x):\n",
        "  return w*x\n",
        "\n",
        "# loss = MSE\n",
        "def loss(y, y_predicted):\n",
        "  return ((y_predicted-y)**2).mean()\n",
        "\n",
        "print(f'Prediction before training: f(5) = {forward(5):.3f}')\n",
        "\n",
        "#training\n",
        "\n",
        "learning_rate = 0.01\n",
        "n_iters = 30\n",
        "\n",
        "for epoch in range(n_iters):\n",
        "  #prediction =forward pass\n",
        "  y_pred = forward(X)\n",
        "  # loss\n",
        "  l = loss(Y, y_pred)\n",
        "  #gradients = backward pass\n",
        "  l.backward() # dl/dw this will calculate the gradient of loss with respect to weights\n",
        "\n",
        "  # update weights\n",
        "  with torch.no_grad():\n",
        "    w -= learning_rate *w.grad # this is not a part of our computational graph that's we have to remove requires grad\n",
        "  # Zero gradients\n",
        "  w.grad.zero_() # to make sure our gradient is set to zero in the next iteration\n",
        "\n",
        "  if epoch % 10 ==0:\n",
        "    print(f'epoch {epoch+1}: w = {w:.3f}, loss = {l:.8f}')\n",
        "\n",
        "print(f'Prediction after training: f(5) = {forward(5):.3f}')"
      ],
      "metadata": {
        "colab": {
          "base_uri": "https://localhost:8080/"
        },
        "id": "ML6xEWma7BEP",
        "outputId": "53456f68-7a73-41b8-ff33-6298bc57c90b"
      },
      "execution_count": null,
      "outputs": [
        {
          "output_type": "stream",
          "name": "stdout",
          "text": [
            "Prediction before training: f(5) = 0.000\n",
            "epoch 1: w = 0.300, loss = 30.00000000\n",
            "epoch 11: w = 1.665, loss = 1.16278565\n",
            "epoch 21: w = 1.934, loss = 0.04506890\n",
            "Prediction after training: f(5) = 9.924\n"
          ]
        }
      ]
    },
    {
      "cell_type": "markdown",
      "source": [
        "1. Design model (input, outup size, forward pass)\n",
        "2. construct loss and optimizer\n",
        "3. Training loop\n",
        "*   forward pass: compute prediction\n",
        "*   backward pass: gradients\n",
        "*   update weights\n",
        "\n",
        "\n",
        "\n",
        "\n"
      ],
      "metadata": {
        "id": "A60lH8igCkbb"
      }
    },
    {
      "cell_type": "code",
      "source": [
        "import torch\n",
        "import torch.nn as nn\n",
        "# f = w*x\n",
        "#f = 2*x\n",
        "X = torch.tensor([1,2,3,4], dtype = torch.float32)\n",
        "Y = torch.tensor([2,4,6,8], dtype = torch.float32) # y is equal to 2x so we multiplied each value of x with 2\n",
        "\n",
        "w =torch.tensor(0.0, dtype=torch.float32, requires_grad= True) # initialized our weight\n",
        "\n",
        "# model prediction\n",
        "def forward(x):\n",
        "  return w*x\n",
        "\n",
        "print(f'Prediction before training: f(5) = {forward(5):.3f}')\n",
        "\n",
        "#training\n",
        "\n",
        "learning_rate = 0.01\n",
        "n_iters = 100\n",
        "\n",
        "loss = nn.MSELoss() # Calling function to calculate loss\n",
        "optimizer = torch.optim.SGD([w], lr = learning_rate)\n",
        "\n",
        "for epoch in range(n_iters):\n",
        "  #prediction =forward pass\n",
        "  y_pred = forward(X)\n",
        "  # loss\n",
        "  l = loss(Y, y_pred)\n",
        "  #gradients = backward pass\n",
        "  l.backward() # dl/dw this will calculate the gradient of loss with respect to weights\n",
        "\n",
        "  # automatically update weights\n",
        "  optimizer.step()\n",
        "  # set back Zero gradients\n",
        "  optimizer.zero_grad() # to make sure our gradient is set to zero in the next iteration\n",
        "\n",
        "  if epoch % 10 ==0:\n",
        "    print(f'epoch {epoch+1}: w = {w:.3f}, loss = {l:.8f}')\n",
        "\n",
        "print(f'Prediction after training: f(5) = {forward(5):.3f}')"
      ],
      "metadata": {
        "colab": {
          "base_uri": "https://localhost:8080/"
        },
        "id": "2PdEGhl2BabC",
        "outputId": "b5bf86e0-03a1-44aa-fcbd-59f4b847b55e"
      },
      "execution_count": null,
      "outputs": [
        {
          "output_type": "stream",
          "name": "stdout",
          "text": [
            "Prediction before training: f(5) = 0.000\n",
            "epoch 1: w = 0.300, loss = 30.00000000\n",
            "epoch 11: w = 1.665, loss = 1.16278565\n",
            "epoch 21: w = 1.934, loss = 0.04506890\n",
            "epoch 31: w = 1.987, loss = 0.00174685\n",
            "epoch 41: w = 1.997, loss = 0.00006770\n",
            "epoch 51: w = 1.999, loss = 0.00000262\n",
            "epoch 61: w = 2.000, loss = 0.00000010\n",
            "epoch 71: w = 2.000, loss = 0.00000000\n",
            "epoch 81: w = 2.000, loss = 0.00000000\n",
            "epoch 91: w = 2.000, loss = 0.00000000\n",
            "Prediction after training: f(5) = 10.000\n"
          ]
        }
      ]
    },
    {
      "cell_type": "markdown",
      "source": [
        "###Step 4"
      ],
      "metadata": {
        "id": "cjpyWqqeEuys"
      }
    },
    {
      "cell_type": "code",
      "source": [
        "import torch\n",
        "import torch.nn as nn\n",
        "# f = w*x\n",
        "#f = 2*x\n",
        "X = torch.tensor([[1],[2],[3],[4]], dtype = torch.float32)\n",
        "Y = torch.tensor([[2],[4],[6],[8]], dtype = torch.float32) # y is equal to 2x so we multiplied each value of x with 2\n",
        "\n",
        "X_test = torch.tensor([5], dtype=torch.float32)\n",
        "\n",
        "n_samples, n_features = X.shape # we have 4 smaple and one feature for each sample\n",
        "print(n_samples, n_features)\n",
        "\n",
        "input_size = n_features\n",
        "output_size = n_features\n",
        "\n",
        "#model = nn.Linear(input_size, output_size)\n",
        "\n",
        "class LinearRegression(nn.Module):\n",
        "  def __init__(self, input_dim, output_dim):\n",
        "    super(LinearRegression, self).__init__()\n",
        "\n",
        "    # define layers\n",
        "    self.lin = nn.Linear(input_dim, output_dim)\n",
        "\n",
        "  def forward(self, x):\n",
        "    return self.lin(x)\n",
        "\n",
        "model = LinearRegression(input_size, output_size)\n",
        "\n",
        "print(f'Prediction before training: f(5) = {model(X_test).item():.3f}')\n",
        "\n",
        "#training\n",
        "\n",
        "learning_rate = 0.01\n",
        "n_iters = 100\n",
        "\n",
        "loss = nn.MSELoss() # Calling function to calculate loss\n",
        "optimizer = torch.optim.SGD(model.parameters(), lr = learning_rate)\n",
        "\n",
        "for epoch in range(n_iters):\n",
        "  #prediction =forward pass\n",
        "  y_pred = model(X)\n",
        "  # loss\n",
        "  l = loss(Y, y_pred)\n",
        "  #gradients = backward pass\n",
        "  l.backward() # dl/dw this will calculate the gradient of loss with respect to weights\n",
        "\n",
        "  # automatically update weights\n",
        "  optimizer.step()\n",
        "  # set back Zero gradients\n",
        "  optimizer.zero_grad() # to make sure our gradient is set to zero in the next iteration\n",
        "\n",
        "  if epoch % 10 ==0:\n",
        "    [w, b] =model.parameters()\n",
        "    print(f'epoch {epoch+1}: w = {w[0][0].item():.3f}, loss = {l:.8f}')\n",
        "\n",
        "print(f'Prediction after training: f(5) = {model(X_test).item():.3f}')"
      ],
      "metadata": {
        "colab": {
          "base_uri": "https://localhost:8080/"
        },
        "id": "DGiR3eD_EVJc",
        "outputId": "2a926339-8f8c-4828-8a16-a2fc19ad2d36"
      },
      "execution_count": null,
      "outputs": [
        {
          "output_type": "stream",
          "name": "stdout",
          "text": [
            "4 1\n",
            "Prediction before training: f(5) = 2.970\n",
            "epoch 1: w = 0.651, loss = 13.00693035\n",
            "epoch 11: w = 1.481, loss = 0.52112138\n",
            "epoch 21: w = 1.624, loss = 0.18733896\n",
            "epoch 31: w = 1.655, loss = 0.16858393\n",
            "epoch 41: w = 1.669, loss = 0.15856823\n",
            "epoch 51: w = 1.679, loss = 0.14933354\n",
            "epoch 61: w = 1.689, loss = 0.14064141\n",
            "epoch 71: w = 1.698, loss = 0.13245529\n",
            "epoch 81: w = 1.707, loss = 0.12474579\n",
            "epoch 91: w = 1.716, loss = 0.11748492\n",
            "Prediction after training: f(5) = 9.430\n"
          ]
        }
      ]
    },
    {
      "cell_type": "markdown",
      "source": [
        "#LINEAR REGRESSION\n",
        "\n",
        "We generated a regression datasets from sklearn with 100 sample and 1 feature each using numpy and converted numpy to torch tensor using \"from_numpy function\" and the we reshaped y to a column vector using \"view \" function\n",
        "\n",
        "we created a model using built_in \"nn.Linear\" ans passes required parameters nd then created loss in this case we used MSE and SGD optimizer then trained our model with 100 epochs to see the results"
      ],
      "metadata": {
        "id": "1kb2-vFiSduD"
      }
    },
    {
      "cell_type": "code",
      "source": [
        "import torch\n",
        "import torch.nn as nn\n",
        "import numpy as np\n",
        "from sklearn import datasets\n",
        "import matplotlib.pyplot as plt\n",
        "\n",
        "#0. prepare data\n",
        "\n",
        "x_numpy, y_numpy = datasets.make_regression(n_samples=100, n_features=1, noise=20, random_state=1)\n",
        "\n",
        "x = torch.from_numpy(x_numpy.astype(np.float32))\n",
        "y = torch.from_numpy(y_numpy.astype(np.float32))\n",
        "y = y.view(y.shape[0], 1) # reshape our  tensor\n",
        "n_samples, n_features = x.shape\n",
        "# Model\n",
        "input_size =n_features\n",
        "output_size = 1\n",
        "model = nn.Linear(input_size, output_size)\n",
        "\n",
        "# loss and optimizer\n",
        "learning_rate = 0.01\n",
        "criterion = nn.MSELoss() # calculate mean square error\n",
        "optimizer = torch.optim.SGD(model.parameters(), lr = learning_rate)\n",
        "\n",
        "#training loop\n",
        "\n",
        "num_epoch = 5000\n",
        "for epoch in range(num_epoch):\n",
        "\n",
        "  # forward pass and loss\n",
        "  y_predicted = model(x)\n",
        "  loss= criterion(y_predicted, y)\n",
        "\n",
        "  #backward pass\n",
        "  loss.backward()\n",
        "  # update\n",
        "  optimizer.step()\n",
        "\n",
        "  optimizer.zero_grad()\n",
        "\n",
        "  if (epoch+1) % 500 == 0:\n",
        "    print(f'epoch: {epoch+1}, loss = {loss.item():.4f}')\n",
        "\n",
        "# plotting\n",
        "\n",
        "predicted = model(x).detach().numpy()\n",
        "plt.plot(x_numpy, y_numpy, 'ro')\n",
        "plt.plot(x_numpy, predicted, 'b')\n",
        "plt.show()\n",
        "\n",
        "\n"
      ],
      "metadata": {
        "id": "ca9cqPgVFaBE",
        "colab": {
          "base_uri": "https://localhost:8080/",
          "height": 606
        },
        "outputId": "5e2906f0-1cb0-43e0-dd87-fbd2cf94b9c8"
      },
      "execution_count": null,
      "outputs": [
        {
          "output_type": "stream",
          "name": "stdout",
          "text": [
            "epoch: 500, loss = 332.5685\n",
            "epoch: 1000, loss = 332.5676\n",
            "epoch: 1500, loss = 332.5676\n",
            "epoch: 2000, loss = 332.5676\n",
            "epoch: 2500, loss = 332.5676\n",
            "epoch: 3000, loss = 332.5676\n",
            "epoch: 3500, loss = 332.5676\n",
            "epoch: 4000, loss = 332.5676\n",
            "epoch: 4500, loss = 332.5676\n",
            "epoch: 5000, loss = 332.5676\n"
          ]
        },
        {
          "output_type": "display_data",
          "data": {
            "text/plain": [
              "<Figure size 640x480 with 1 Axes>"
            ],
            "image/png": "[encoded data removed]"
          },
          "metadata": {}
        }
      ]
    },
    {
      "cell_type": "markdown",
      "source": [
        "# LOGISTIC REGRESSION\n",
        "\n",
        "we used the same process as the Linear regression\n",
        "\n",
        "1. Design model (input, outup size, forward pass)\n",
        "2. construct loss and optimizer\n",
        "3. Training loop\n",
        "*   forward pass: compute prediction\n",
        "*   backward pass: gradients\n",
        "*   update weights\n",
        "\n",
        "We are going train a model with binary classification problem to predict the breast cancer based on the input features"
      ],
      "metadata": {
        "id": "BVkv2Heb9GM6"
      }
    },
    {
      "cell_type": "code",
      "source": [
        "import torch\n",
        "import torch.nn as nn\n",
        "import numpy as np\n",
        "from sklearn import datasets\n",
        "from sklearn.preprocessing import StandardScaler\n",
        "from sklearn.model_selection import train_test_split\n",
        "import matplotlib.pyplot as plt\n",
        "\n",
        "#data processing\n",
        "\n",
        "bc =datasets.load_breast_cancer()\n",
        "\n",
        "x,y =bc.data, bc.target\n",
        "\n",
        "n_samples, n_features = x.shape\n",
        "x_train, x_test, y_train, y_test = train_test_split(x, y, test_size=0.2, random_state=1234)\n",
        "\n",
        "#scale our data\n",
        "\n",
        "sc = StandardScaler()\n",
        "x_train = sc.fit_transform(x_train)\n",
        "x_test = sc.fit_transform(x_test)\n",
        "\n",
        "x_train = torch.from_numpy(x_train.astype(np.float32))\n",
        "x_test = torch.from_numpy(x_test.astype(np.float32))\n",
        "y_train = torch.from_numpy(y_train.astype(np.float32))\n",
        "y_test = torch.from_numpy(y_test.astype(np.float32))\n",
        "\n",
        "y_train = y_train.view(y_train.shape[0], 1)\n",
        "y_test =y_test.view(y_test.shape[0], 1)\n",
        "\n",
        "# model\n",
        "# f = mx +b, sigmoid function at the end\n",
        "\n",
        "class LogisticRegression(nn.Module):\n",
        "  def __init__(self, n_input_features):\n",
        "    super(LogisticRegression, self).__init__()\n",
        "    self.linear = nn.Linear(n_input_features, 1)  # Linear layer added\n",
        "  def forward(self, x):\n",
        "    y_predicted = torch.sigmoid(self.linear(x))\n",
        "    return y_predicted\n",
        "\n",
        "model =LogisticRegression(n_features)\n",
        "\n",
        "# loss and optimizer\n",
        "learning_rate = 0.01\n",
        "criterion = nn.BCELoss() # calculate mean square error\n",
        "optimizer = torch.optim.SGD(model.parameters(), lr = learning_rate)\n",
        "\n",
        "#training loop\n",
        "\n",
        "num_epoch = 100\n",
        "for epoch in range(num_epoch):\n",
        "\n",
        "  # forward pass and loss\n",
        "  y_predicted = model(x_train) # call model and pass training data\n",
        "  loss= criterion(y_predicted, y_train)\n",
        "\n",
        "  #backward pass\n",
        "  loss.backward()\n",
        "\n",
        "  # updating weights\n",
        "  optimizer.step()\n",
        "\n",
        "  optimizer.zero_grad()\n",
        "\n",
        "  if (epoch+1) % 10 == 0:\n",
        "    print(f'epoch: {epoch+1}, loss = {loss.item():.4f}')\n",
        "\n",
        "# #Evaluating our model\n",
        "\n",
        "with torch.no_grad():\n",
        "  y_predicted = model(x_test)\n",
        "  y_predicted_cls = y_predicted.round()\n",
        "\n",
        "  acc = y_predicted_cls.eq(y_test).sum()/float(y_test.shape[0]) # this will return the number of test samples\n",
        "  print(f'accuracy = {acc:.4f}')\n"
      ],
      "metadata": {
        "colab": {
          "base_uri": "https://localhost:8080/"
        },
        "id": "OqgcCPzv9RX0",
        "outputId": "4a01697a-caf1-4614-de28-25bf83a8eede"
      },
      "execution_count": null,
      "outputs": [
        {
          "output_type": "stream",
          "name": "stdout",
          "text": [
            "epoch: 10, loss = 0.4986\n",
            "epoch: 20, loss = 0.4285\n",
            "epoch: 30, loss = 0.3809\n",
            "epoch: 40, loss = 0.3461\n",
            "epoch: 50, loss = 0.3193\n",
            "epoch: 60, loss = 0.2980\n",
            "epoch: 70, loss = 0.2805\n",
            "epoch: 80, loss = 0.2658\n",
            "epoch: 90, loss = 0.2532\n",
            "epoch: 100, loss = 0.2423\n",
            "accuracy = 0.9123\n"
          ]
        }
      ]
    },
    {
      "cell_type": "code",
      "source": [],
      "metadata": {
        "id": "8fnZKL4jTGxj"
      },
      "execution_count": null,
      "outputs": []
    }
  ]
}