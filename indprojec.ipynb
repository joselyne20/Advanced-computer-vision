{
  "nbformat": 4,
  "nbformat_minor": 0,
  "metadata": {
    "colab": {
      "provenance": [],
      "gpuType": "T4",
      "mount_file_id": "1sLymAGF9FfKyoW-SYtgscXg-16trE8yh",
      "authorship_tag": "ABX9TyOiGAsHJ/WtvAYdeX81zSfT",
      "include_colab_link": true
    },
    "kernelspec": {
      "name": "python3",
      "display_name": "Python 3"
    },
    "language_info": {
      "name": "python"
    },
    "accelerator": "GPU"
  },
  "cells": [
    {
      "cell_type": "markdown",
      "metadata": {
        "id": "view-in-github",
        "colab_type": "text"
      },
      "source": [
        "<a href=\"https://colab.research.google.com/github/joselyne20/Advanced-computer-vision/blob/main/indprojec.ipynb\" target=\"_parent\"><img src=\"https://colab.research.google.com/assets/colab-badge.svg\" alt=\"Open In Colab\"/></a>"
      ]
    },
    {
      "cell_type": "code",
      "source": [],
      "metadata": {
        "id": "jz34sgNpAV6o"
      },
      "execution_count": null,
      "outputs": []
    },
    {
      "cell_type": "markdown",
      "source": [
        "##changing working directory"
      ],
      "metadata": {
        "id": "m9vvk43cAZ0_"
      }
    },
    {
      "cell_type": "code",
      "execution_count": 19,
      "metadata": {
        "id": "lbHXilQellXY"
      },
      "outputs": [],
      "source": [
        "import os\n",
        "os.chdir('/content/drive/MyDrive/sem 2/advanced cv/project 2/Real-ESRGAN')"
      ]
    },
    {
      "cell_type": "code",
      "source": [
        "!git clone https://github.com/xinntao/Real-ESRGAN.git"
      ],
      "metadata": {
        "colab": {
          "base_uri": "https://localhost:8080/"
        },
        "id": "n33TUqHIl7DS",
        "outputId": "ea72831b-54f8-4624-d1d3-1cc1cb1c06fe"
      },
      "execution_count": 24,
      "outputs": [
        {
          "output_type": "stream",
          "name": "stdout",
          "text": [
            "Cloning into 'Real-ESRGAN'...\n",
            "remote: Enumerating objects: 755, done.\u001b[K\n",
            "remote: Total 755 (delta 0), reused 0 (delta 0), pack-reused 755\u001b[K\n",
            "Receiving objects: 100% (755/755), 5.38 MiB | 9.14 MiB/s, done.\n",
            "Resolving deltas: 100% (406/406), done.\n"
          ]
        }
      ]
    },
    {
      "cell_type": "markdown",
      "source": [
        "#Install Reqirements"
      ],
      "metadata": {
        "id": "0Y2XrAnTuSbb"
      }
    },
    {
      "cell_type": "code",
      "source": [
        "# Install basicsr - https://github.com/xinntao/BasicSR\n",
        "# We use BasicSR for both training and inference\n",
        "!pip install basicsr\n",
        "# facexlib and gfpgan are for face enhancement\n",
        "!pip install facexlib\n",
        "!pip install gfpgan\n",
        "!pip install -r requirements.txt\n",
        "!python setup.py develop"
      ],
      "metadata": {
        "id": "jhvI-1c__4VC"
      },
      "execution_count": null,
      "outputs": []
    },
    {
      "cell_type": "markdown",
      "source": [
        "##Modification"
      ],
      "metadata": {
        "id": "r7crJSqz_8LK"
      }
    },
    {
      "cell_type": "code",
      "source": [
        "!sed -i 's/from torchvision.transforms.functional_tensor import rgb_to_grayscale/from torchvision.transforms.functional import rgb_to_grayscale/' /usr/local/lib/python3.10/dist-packages/basicsr/data/degradations.py"
      ],
      "metadata": {
        "id": "nVs1_5lw_7dC"
      },
      "execution_count": null,
      "outputs": []
    },
    {
      "cell_type": "markdown",
      "source": [
        "#Run"
      ],
      "metadata": {
        "id": "QZ9La0P_AOFq"
      }
    },
    {
      "cell_type": "code",
      "source": [
        "!python realesrgan/train.py -opt options/train_SRResNet_x4_FFHQ_300k.yml"
      ],
      "metadata": {
        "id": "OuSJ_OMznBqB"
      },
      "execution_count": null,
      "outputs": []
    },
    {
      "cell_type": "code",
      "source": [
        "# Create the VERSION file with the correct version number\n",
        "with open('/content/drive/MyDrive/sem 2/advanced cv/project 2/Real-ESRGAN/VERSION.txt', 'w') as version_file:\n",
        "    version_file.write('0.3.0')\n"
      ],
      "metadata": {
        "id": "WidoOumJw1jz"
      },
      "execution_count": 38,
      "outputs": []
    },
    {
      "cell_type": "code",
      "source": [
        "with open('/content/drive/MyDrive/sem 2/advanced cv/project 2/Real-ESRGAN/VERSION', 'r') as f:\n",
        "  ver=f.read()\n",
        "  print(ver)"
      ],
      "metadata": {
        "colab": {
          "base_uri": "https://localhost:8080/"
        },
        "id": "W5uNkmutywnw",
        "outputId": "1a95c8be-5b10-49d7-d93f-f7830602757a"
      },
      "execution_count": 41,
      "outputs": [
        {
          "output_type": "stream",
          "name": "stdout",
          "text": [
            "0.3.0\n"
          ]
        }
      ]
    },
    {
      "cell_type": "code",
      "source": [],
      "metadata": {
        "id": "8fkbRfDX0dKp"
      },
      "execution_count": null,
      "outputs": []
    }
  ]
}