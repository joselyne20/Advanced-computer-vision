{
  "nbformat": 4,
  "nbformat_minor": 0,
  "metadata": {
    "colab": {
      "provenance": [],
      "gpuType": "T4",
      "include_colab_link": true
    },
    "kernelspec": {
      "name": "python3",
      "display_name": "Python 3"
    },
    "language_info": {
      "name": "python"
    },
    "accelerator": "GPU"
  },
  "cells": [
    {
      "cell_type": "markdown",
      "metadata": {
        "id": "view-in-github",
        "colab_type": "text"
      },
      "source": [
        "<a href=\"https://colab.research.google.com/github/joselyne20/Advanced-computer-vision/blob/main/tutorial_1b_mnist1d_classification.ipynb\" target=\"_parent\"><img src=\"https://colab.research.google.com/assets/colab-badge.svg\" alt=\"Open In Colab\"/></a>"
      ]
    },
    {
      "cell_type": "markdown",
      "source": [
        "# **Tutorial 1b: MNIST-1D Classification**\n",
        "\n",
        "This tutorial designs a network for MNIST-1D classification. MNIST-1D dataset is a simplified version of the famous MNIST dataset but with one-dimensional data. This is useful for understanding and visualizing machine learning concepts in a more tractable setting. See more details about the dataset [here](https://github.com/greydanus/mnist1d).\n",
        "\n",
        "Work through the cells below, running each cell in turn.\n",
        "\n",
        "The code is adapted from https://github.com/udlbook/udlbook/blob/main/Notebooks/Chap11/11_2_Residual_Networks.ipynb\n"
      ],
      "metadata": {
        "id": "t9vk9Elugvmi"
      }
    },
    {
      "cell_type": "code",
      "source": [
        "# Run this if you're in a Colab to make a local copy of the MNIST 1D repository\n",
        "!git clone https://github.com/greydanus/mnist1d"
      ],
      "metadata": {
        "id": "D5yLObtZCi9J",
        "outputId": "71eb5bac-cfd6-4e8e-a83e-15adea920ec8",
        "colab": {
          "base_uri": "https://localhost:8080/"
        }
      },
      "execution_count": null,
      "outputs": [
        {
          "output_type": "stream",
          "name": "stdout",
          "text": [
            "Cloning into 'mnist1d'...\n",
            "remote: Enumerating objects: 155, done.\u001b[K\n",
            "remote: Counting objects: 100% (155/155), done.\u001b[K\n",
            "remote: Compressing objects: 100% (129/129), done.\u001b[K\n",
            "remote: Total 155 (delta 52), reused 124 (delta 26), pack-reused 0\u001b[K\n",
            "Receiving objects: 100% (155/155), 6.48 MiB | 26.11 MiB/s, done.\n",
            "Resolving deltas: 100% (52/52), done.\n"
          ]
        }
      ]
    },
    {
      "cell_type": "code",
      "source": [
        "import numpy as np\n",
        "import os\n",
        "import torch, torch.nn as nn\n",
        "from torch.utils.data import TensorDataset, DataLoader\n",
        "from torch.optim.lr_scheduler import StepLR\n",
        "import matplotlib.pyplot as plt\n",
        "import mnist1d\n",
        "import torch.nn.functional as F\n",
        "import random"
      ],
      "metadata": {
        "id": "YrXWAH7sUWvU"
      },
      "execution_count": null,
      "outputs": []
    },
    {
      "cell_type": "code",
      "source": [
        "from google.colab import drive\n",
        "drive.mount('/content/drive')"
      ],
      "metadata": {
        "colab": {
          "base_uri": "https://localhost:8080/"
        },
        "id": "g5yNLQ1p4Uo3",
        "outputId": "17959c95-8779-41cc-875f-0a9122509acf"
      },
      "execution_count": null,
      "outputs": [
        {
          "output_type": "stream",
          "name": "stdout",
          "text": [
            "Mounted at /content/drive\n"
          ]
        }
      ]
    },
    {
      "cell_type": "markdown",
      "source": [
        "## Loading and Inspecting the MNIST-1D Dataset\n",
        "\n",
        "In this section, we are working with the MNIST-1D dataset.\n",
        "\n",
        "### Loading the Dataset\n",
        "- **Retrieve Dataset Arguments:**\n",
        "  - `args = mnist1d.data.get_dataset_args()`: This line gets the default arguments required for loading the MNIST-1D dataset. These arguments could include specifics like batch size, normalization factors, etc.\n",
        "- **Get Dataset:**\n",
        "  - `data = mnist1d.data.get_dataset(args, path='./mnist1d_data.pkl', download=False, regenerate=False)`: Here, the dataset is loaded with the specified arguments. The parameters include:\n",
        "    - `path='./mnist1d_data.pkl'`: Indicates where the dataset should be loaded from or saved to.\n",
        "    - `download=False`: This specifies that the dataset should not be downloaded if it's not found at the given path.\n",
        "    - `regenerate=False`: Indicates that the dataset should not be regenerated if it already exists.\n",
        "\n",
        "### Dataset Structure\n",
        "- The MNIST-1D dataset contains training and test data, split into inputs (`x` and `x_test`) and outputs (`y` and `y_test`):\n",
        "  - `data['x']`: Training inputs.\n",
        "  - `data['y']`: Training outputs (labels).\n",
        "  - `data['x_test']`: Test inputs.\n",
        "  - `data['y_test']`: Test outputs (labels).\n",
        "\n",
        "### Inspecting the Data\n",
        "- **Training Set Size:**\n",
        "  - `print(\"Examples in training set: {}\".format(len(data['y'])))`: This line prints the number of examples in the training set by checking the length of the training labels.\n",
        "- **Test Set Size:**\n",
        "  - `print(\"Examples in test set: {}\".format(len(data['y_test'])))`: Similarly, this line prints the number of examples in the test set.\n",
        "- **Length of Each Example:**\n",
        "  - `print(\"Length of each example: {}\".format(data['x'].shape[-1]))`: This line prints the length of each example in the dataset. Since the data is one-dimensional, the length refers to the number of features in each example.\n"
      ],
      "metadata": {
        "id": "pbvKFsd38k9O"
      }
    },
    {
      "cell_type": "code",
      "source": [
        "args = mnist1d.data.get_dataset_args()\n",
        "data = mnist1d.data.get_dataset(args, path='./mnist1d_data.pkl', download=False, regenerate=False)\n",
        "\n",
        "# The training and test input and outputs are in\n",
        "# data['x'], data['y'], data['x_test'], and data['y_test']\n",
        "print(\"Examples in training set: {}\".format(len(data['y'])))\n",
        "print(\"Examples in test set: {}\".format(len(data['y_test'])))\n",
        "print(\"Length of each example: {}\".format(data['x'].shape[-1]))"
      ],
      "metadata": {
        "id": "twI72ZCrCt5z",
        "colab": {
          "base_uri": "https://localhost:8080/"
        },
        "outputId": "5c539174-b5ed-4c91-8fde-8a9a005ac644"
      },
      "execution_count": null,
      "outputs": [
        {
          "output_type": "stream",
          "name": "stdout",
          "text": [
            "Successfully loaded data from ./mnist1d_data.pkl\n",
            "Examples in training set: 4000\n",
            "Examples in test set: 1000\n",
            "Length of each example: 40\n"
          ]
        }
      ]
    },
    {
      "cell_type": "code",
      "source": [
        "data['x'][:]\n"
      ],
      "metadata": {
        "colab": {
          "base_uri": "https://localhost:8080/"
        },
        "id": "C16G2rL35Trr",
        "outputId": "955ce7b4-69c5-4d05-d901-a9ea5d8869cb"
      },
      "execution_count": null,
      "outputs": [
        {
          "output_type": "execute_result",
          "data": {
            "text/plain": [
              "array([[-0.33200567, -0.47191037, -0.77869708, ..., -0.7167305 ,\n",
              "        -0.96195825, -0.89016639],\n",
              "       [ 1.96548088,  2.30021254,  2.21339278, ..., -1.68751297,\n",
              "        -1.42642212, -1.36421511],\n",
              "       [-0.01930303,  0.07863308,  0.62488909, ..., -1.08555748,\n",
              "        -1.79809121, -2.3153282 ],\n",
              "       ...,\n",
              "       [-1.69449348, -1.2805858 , -0.65125255, ..., -0.72365942,\n",
              "        -0.38266551, -0.03165042],\n",
              "       [ 0.99646721,  0.80844603,  0.1553411 , ..., -0.30286571,\n",
              "        -0.28555128, -0.1183879 ],\n",
              "       [-0.6939948 , -0.27532169,  0.29267968, ..., -1.21624513,\n",
              "        -1.4649417 , -1.65099286]])"
            ]
          },
          "metadata": {},
          "execution_count": 16
        }
      ]
    },
    {
      "cell_type": "code",
      "source": [
        " # Load in the data\n",
        "train_data_x = data['x'].transpose()\n",
        "train_data_y = data['y']\n",
        "val_data_x = data['x_test'].transpose()\n",
        "val_data_y = data['y_test']\n",
        "# Print out sizes\n",
        "print(\"Train data: %d examples (columns), each of which has %d dimensions (rows)\"%((train_data_x.shape[1],train_data_x.shape[0])))\n",
        "print(\"Validation data: %d examples (columns), each of which has %d dimensions (rows)\"%((val_data_x.shape[1],val_data_x.shape[0])))"
      ],
      "metadata": {
        "id": "8bKADvLHbiV5",
        "colab": {
          "base_uri": "https://localhost:8080/"
        },
        "outputId": "ac2abd5b-454e-4cf4-fc35-46ccfd6a4d13"
      },
      "execution_count": 24,
      "outputs": [
        {
          "output_type": "stream",
          "name": "stdout",
          "text": [
            "Train data: 4000 examples (columns), each of which has 40 dimensions (rows)\n",
            "Validation data: 1000 examples (columns), each of which has 40 dimensions (rows)\n"
          ]
        }
      ]
    },
    {
      "cell_type": "markdown",
      "source": [
        "## Implementing a Residual Network for MNIST-1D Data\n",
        "\n",
        "In this code snippet, we define a `ResidualNetwork` class, which is a type of neural network model suited for handling the MNIST-1D dataset. This dataset involves 40 input dimensions corresponding to offsets in the MNIST1D template and 10 output dimensions corresponding to the 10 digit classes.\n",
        "\n",
        "### Network Dimensions\n",
        "- `D_i = 40`: Represents the number of input dimensions (40 offsets in the MNIST1D template).\n",
        "- `D_o = 10`: Represents the number of output dimensions (10 digits).\n",
        "\n",
        "### ResidualNetwork Class\n",
        "- **Inheritance:** The `ResidualNetwork` class inherits from `torch.nn.Module`, the base class for all neural network modules in PyTorch.\n",
        "- **Constructor (`__init__`):**\n",
        "  - Parameters:\n",
        "    - `input_size`: The size of the input layer (number of input features).\n",
        "    - `output_size`: The size of the output layer (number of classes).\n",
        "    - `hidden_size=100`: The size of the hidden layers, defaulted to 100.\n",
        "  - Layers:\n",
        "    - `self.linear1`: The first linear layer maps from `input_size` to `hidden_size`.\n",
        "    - `self.linear2` and `self.linear3`: Two additional linear layers, each mapping from `hidden_size` to `hidden_size`.\n",
        "    - `self.linear4`: The final linear layer maps from `hidden_size` to `output_size`.\n",
        "  - `print(\"Initialized MLPBase model with {} parameters\".format(self.count_params()))`: This prints out the total number of parameters in the model, calculated by the `count_params` method.\n",
        "- **count_params Method:**\n",
        "  - Returns the total number of trainable parameters in the model.\n",
        "- **Forward Pass (`forward`):**\n",
        "  - Defines how the input `x` flows through the network.\n",
        "  - `h1 = self.linear1(x)`: First linear transformation.\n",
        "  - `h2 = F.relu(self.linear2(h1))` and `h3 = F.relu(self.linear3(h2))`: Two hidden layers with ReLU activation functions.\n",
        "  - `return self.linear4(h3)`: The output is obtained after the final linear transformation.\n",
        "\n"
      ],
      "metadata": {
        "id": "_sFvRDGrl4qe"
      }
    },
    {
      "cell_type": "code",
      "source": [
        "class ResidualBlock(nn.Module):\n",
        "    def __init__(self, in_features, out_features):\n",
        "        super(ResidualBlock, self).__init__()\n",
        "        self.linear1 = nn.Linear(in_features, out_features)\n",
        "        self.linear2 = nn.Linear(out_features, out_features)\n",
        "\n",
        "    def forward(self, x):\n",
        "        residual = x\n",
        "        x = F.relu(self.linear1(x))\n",
        "        x = self.linear2(x)\n",
        "        return F.relu(x + residual)\n",
        "\n",
        "class ResidualNetwork(nn.Module):\n",
        "    def __init__(self, input_size, output_size, hidden_size=100, num_blocks=3):\n",
        "        super(ResidualNetwork, self).__init__()\n",
        "        self.linear_in = nn.Linear(input_size, hidden_size)\n",
        "        self.residual_blocks = nn.ModuleList([ResidualBlock(hidden_size, hidden_size) for _ in range(num_blocks)])\n",
        "        self.linear_out = nn.Linear(hidden_size, output_size)\n",
        "        print(\"Initialized ResidualNetwork model with {} parameters\".format(self.count_params()))\n",
        "\n",
        "    def count_params(self):\n",
        "        return sum(p.numel() for p in self.parameters())\n",
        "\n",
        "    def forward(self, x):\n",
        "        x = F.relu(self.linear_in(x))\n",
        "        for block in self.residual_blocks:\n",
        "            x = block(x)\n",
        "        return self.linear_out(x)\n",
        "\n",
        "# Example usage:\n",
        "D_i = 40\n",
        "D_o = 10\n",
        "#resnet_model = ResidualNetwork(input_size=D_i, output_size=D_o)\n"
      ],
      "metadata": {
        "id": "ueLEGrCKYY02"
      },
      "execution_count": 55,
      "outputs": []
    },
    {
      "cell_type": "code",
      "source": [
        "# There are 40 input dimensions and 10 output dimensions for this data\n",
        "# The inputs correspond to the 40 offsets in the MNIST1D template.\n",
        "D_i = 40\n",
        "# The outputs correspond to the 10 digits\n",
        "D_o = 10\n",
        "\n",
        "class ResidualNetwork(torch.nn.Module):\n",
        "  def __init__(self, input_size, output_size, hidden_size=100):\n",
        "    super(ResidualNetwork, self).__init__()\n",
        "    self.linear1 = nn.Linear(input_size, hidden_size)\n",
        "    self.linear2 = nn.Linear(hidden_size, hidden_size)\n",
        "    self.linear3 = nn.Linear(hidden_size, hidden_size)\n",
        "    self.linear4 = nn.Linear(hidden_size, output_size)\n",
        "    print(\"Initialized MLPBase model with {} parameters\".format(self.count_params()))\n",
        "\n",
        "  def count_params(self):\n",
        "    return sum([p.view(-1).shape[0] for p in self.parameters()])\n",
        "\n",
        "  # This is not yet a residual network, we need to revise this part in tutorial_1c\n",
        "  def forward(self, x):\n",
        "    h1 = self.linear1(x)\n",
        "    h2 = F.relu(self.linear2(h1))\n",
        "    h3 = F.relu(self.linear3(h2))\n",
        "    return self.linear4(h3)\n"
      ],
      "metadata": {
        "id": "FslroPJJffrh"
      },
      "execution_count": 38,
      "outputs": []
    },
    {
      "cell_type": "code",
      "source": [
        "# He initialization of weights\n",
        "def weights_init(layer_in):\n",
        "  if isinstance(layer_in, nn.Linear):\n",
        "    nn.init.kaiming_uniform_(layer_in.weight)\n",
        "    layer_in.bias.data.fill_(0.0)"
      ],
      "metadata": {
        "id": "YgLaex1pfhqz"
      },
      "execution_count": 56,
      "outputs": []
    },
    {
      "cell_type": "markdown",
      "source": [
        "## Setting Up the Neural Network for MNIST-1D Classification\n",
        "\n",
        "In this segment, we initialize and configure the neural network model, loss function, optimizer, learning rate scheduler, and data for the MNIST-1D dataset.\n",
        "\n",
        "### Model Initialization\n",
        "- `model = ResidualNetwork(40, 10)`: Creates an instance of the `ResidualNetwork` class with 40 input dimensions and 10 output dimensions. This model will be used for the MNIST-1D digit classification task.\n",
        "\n",
        "### Loss Function\n",
        "- **Cross Entropy Loss:**\n",
        "  - `loss_function = nn.CrossEntropyLoss()`: Defines the loss function as Cross Entropy Loss, which is commonly used for classification tasks. It combines Log Softmax and Negative Log-Likelihood Loss in one single class.\n",
        "\n",
        "### Optimizer\n",
        "- **Stochastic Gradient Descent (SGD):**\n",
        "  - `optimizer = torch.optim.SGD(model.parameters(), lr = 0.05, momentum=0.9)`: Initializes an SGD optimizer. It updates the model's weights based on the computed gradients.\n",
        "    - `model.parameters()`: Passes the parameters of the model to the optimizer.\n",
        "    - `lr = 0.05`: Sets the learning rate to 0.05.\n",
        "    - `momentum=0.9`: Sets the momentum factor to 0.9, which helps in accelerating the optimizer in the direction of consistent gradients.\n",
        "\n",
        "### Learning Rate Scheduler\n",
        "- **Step Learning Rate Decay:**\n",
        "  - `scheduler = StepLR(optimizer, step_size=20, gamma=0.5)`: Implements a learning rate decay scheduler.\n",
        "    - `step_size=20`: The learning rate is decreased every 20 epochs.\n",
        "    - `gamma=0.5`: The factor by which the learning rate is reduced. Here, it is halved.\n",
        "\n",
        "### Data Preparation\n",
        "- **Converting Data to Torch Tensors:**\n",
        "  - The input data (`train_data_x` and `val_data_x`) and labels (`train_data_y` and `val_data_y`) are converted to PyTorch tensors. This conversion is necessary to utilize PyTorch's efficient tensor operations during training.\n",
        "    - `x_train = torch.tensor(train_data_x.transpose().astype('float32'))`: Transposes and converts the training data to float32 tensors.\n",
        "    - `y_train = torch.tensor(train_data_y.astype('long'))`: Converts the training labels to long tensors.\n",
        "    - `x_val = torch.tensor(val_data_x.transpose().astype('float32'))`: Transposes and converts the validation data to float32 tensors.\n",
        "    - `y_val = torch.tensor(val_data_y.astype('long'))`: Converts the validation labels to long tensors."
      ],
      "metadata": {
        "id": "IrhZeFeyMbT9"
      }
    },
    {
      "cell_type": "code",
      "source": [
        "#Define the model\n",
        "model = ResidualNetwork(40, 10)\n",
        "\n",
        "# Choose cross entropy loss function\n",
        "loss_function = nn.CrossEntropyLoss()\n",
        "# Construct SGD optimizer and initialize learning rate and momentum\n",
        "optimizer = torch.optim.SGD(model.parameters(), lr = 0.05, momentum=0.9)\n",
        "# Object that decreases learning rate by half every 20 epochs\n",
        "scheduler = StepLR(optimizer, step_size=20, gamma=0.5)\n",
        "# Convert data to torch tensors\n",
        "x_train = torch.tensor(train_data_x.transpose().astype('float32'))\n",
        "y_train = torch.tensor(train_data_y.astype('long'))\n",
        "x_val= torch.tensor(val_data_x.transpose().astype('float32'))\n",
        "y_val = torch.tensor(val_data_y.astype('long'))"
      ],
      "metadata": {
        "id": "zE4N3FACMMVI",
        "colab": {
          "base_uri": "https://localhost:8080/"
        },
        "outputId": "13a12c2c-e43c-4bd8-da5a-e58ad2f51e53"
      },
      "execution_count": 57,
      "outputs": [
        {
          "output_type": "stream",
          "name": "stdout",
          "text": [
            "Initialized ResidualNetwork model with 65710 parameters\n"
          ]
        }
      ]
    },
    {
      "cell_type": "markdown",
      "source": [
        "## Training Loop for the Neural Network\n",
        "\n",
        "In this section, we define the training loop for our neural network model. This loop iterates over the dataset multiple times (epochs), updating the model's parameters based on the loss computed from the predictions and the actual data.\n",
        "\n",
        "### Data Loader Setup\n",
        "- `data_loader = DataLoader(TensorDataset(x_train,y_train), batch_size=100, shuffle=True, worker_init_fn=np.random.seed(1))`: This line creates a data loader for the training data.\n",
        "  - `TensorDataset(x_train, y_train)`: Wraps tensors into a dataset.\n",
        "  - `batch_size=100`: Each batch will contain 100 samples.\n",
        "  - `shuffle=True`: Shuffles the data every epoch to prevent the model from learning the order of the data.\n",
        "  - `worker_init_fn=np.random.seed(1)`: Ensures reproducibility by setting a seed for the random number generator in each worker.\n",
        "\n",
        "### Model Weight Initialization\n",
        "- `model.apply(weights_init)`: Initializes the model's weights using the `weights_init` function defined earlier.\n",
        "\n",
        "### Training Loop Setup\n",
        "- `n_epoch = 100`: The model will be trained for 100 epochs.\n",
        "- Arrays to store losses and error rates for both training and validation data are initialized.\n",
        "\n",
        "### Epoch Loop\n",
        "- **Outer Loop Over Epochs:**\n",
        "  - `for epoch in range(n_epoch)`: Iterates over the number of epochs.\n",
        "- **Batch Loop:**\n",
        "  - `for i, data in enumerate(data_loader)`: Iterates over each batch in the data loader.\n",
        "  - `x_batch, y_batch = data`: Retrieves inputs and labels for the current batch.\n",
        "  - `optimizer.zero_grad()`: Resets gradient information to zero.\n",
        "  - `pred = model(x_batch)`: Forward pass - computes the predicted outputs.\n",
        "  - `loss = loss_function(pred, y_batch)`: Computes the loss.\n",
        "  - `loss.backward()`: Backward pass - computes the gradients.\n",
        "  - `optimizer.step()`: Performs a single optimization step (parameter update).\n",
        "\n",
        "### Evaluation and Statistics\n",
        "- After each epoch, the model's performance is evaluated on both the training and validation datasets.\n",
        "- The error rate and loss for both training and validation sets are calculated and stored.\n",
        "- The performance metrics for each epoch are printed out.\n",
        "- `scheduler.step()`: Adjusts the learning rate according to the scheduler.\n"
      ],
      "metadata": {
        "id": "vldKM53nNZhe"
      }
    },
    {
      "cell_type": "code",
      "source": [
        "# Load the data into a class that creates the batches\n",
        "data_loader = DataLoader(TensorDataset(x_train,y_train), batch_size=100, shuffle=True, worker_init_fn=np.random.seed(1))\n",
        "\n",
        "# Initialize model weights\n",
        "model.apply(weights_init)\n",
        "\n",
        "# Loop over the dataset n_epoch times\n",
        "n_epoch = 100\n",
        "# Store the loss and the % correct at each epoch\n",
        "losses_train = np.zeros((n_epoch))\n",
        "errors_train = np.zeros((n_epoch))\n",
        "losses_val = np.zeros((n_epoch))\n",
        "errors_val = np.zeros((n_epoch))\n",
        "\n",
        "for epoch in range(n_epoch):\n",
        "  # Loop over batches\n",
        "  for i, data in enumerate(data_loader):\n",
        "    # Retrieve inputs and labels for this batch\n",
        "    x_batch, y_batch = data\n",
        "    # Zero the parameter gradients\n",
        "    optimizer.zero_grad()\n",
        "    # Forward pass -- calculate model output\n",
        "    pred = model(x_batch)\n",
        "    # Compute the loss\n",
        "    loss = loss_function(pred, y_batch)\n",
        "    # Backward pass\n",
        "    loss.backward()\n",
        "    # SGD update\n",
        "    optimizer.step()\n",
        "\n",
        "  # Run whole dataset to get statistics -- normally wouldn't do this\n",
        "  pred_train = model(x_train)\n",
        "  pred_val = model(x_val)\n",
        "  _, predicted_train_class = torch.max(pred_train.data, 1)\n",
        "  _, predicted_val_class = torch.max(pred_val.data, 1)\n",
        "  errors_train[epoch] = 100 - 100 * (predicted_train_class == y_train).float().sum() / len(y_train)\n",
        "  errors_val[epoch]= 100 - 100 * (predicted_val_class == y_val).float().sum() / len(y_val)\n",
        "  losses_train[epoch] = loss_function(pred_train, y_train).item()\n",
        "  losses_val[epoch]= loss_function(pred_val, y_val).item()\n",
        "  print(f'Epoch {epoch:5d}, train loss {losses_train[epoch]:.6f}, train error {errors_train[epoch]:3.2f},  val loss {losses_val[epoch]:.6f}, percent error {errors_val[epoch]:3.2f}')\n",
        "\n",
        "  # Tell scheduler to consider updating learning rate\n",
        "  scheduler.step()"
      ],
      "metadata": {
        "id": "NYw8I_3mmX5c",
        "colab": {
          "base_uri": "https://localhost:8080/"
        },
        "outputId": "3b602a1a-74c2-409b-8944-5a8c3cd45dea"
      },
      "execution_count": 58,
      "outputs": [
        {
          "output_type": "stream",
          "name": "stdout",
          "text": [
            "Epoch     0, train loss 1.732187, train error 70.28,  val loss 1.758264, percent error 72.00\n",
            "Epoch     1, train loss 1.598942, train error 65.03,  val loss 1.646047, percent error 67.50\n",
            "Epoch     2, train loss 1.473980, train error 59.25,  val loss 1.519214, percent error 64.30\n",
            "Epoch     3, train loss 1.246361, train error 49.90,  val loss 1.350332, percent error 55.30\n",
            "Epoch     4, train loss 1.161279, train error 45.60,  val loss 1.284395, percent error 52.00\n",
            "Epoch     5, train loss 1.178181, train error 46.72,  val loss 1.380627, percent error 54.80\n",
            "Epoch     6, train loss 0.960919, train error 37.28,  val loss 1.234987, percent error 49.40\n",
            "Epoch     7, train loss 0.895267, train error 35.07,  val loss 1.225174, percent error 47.60\n",
            "Epoch     8, train loss 0.803277, train error 31.55,  val loss 1.143896, percent error 44.70\n",
            "Epoch     9, train loss 0.725611, train error 27.93,  val loss 1.162935, percent error 45.10\n",
            "Epoch    10, train loss 0.718211, train error 28.15,  val loss 1.171820, percent error 43.40\n",
            "Epoch    11, train loss 0.669410, train error 25.15,  val loss 1.233362, percent error 45.10\n",
            "Epoch    12, train loss 0.624162, train error 24.12,  val loss 1.205979, percent error 43.60\n",
            "Epoch    13, train loss 0.555623, train error 20.88,  val loss 1.177172, percent error 38.70\n",
            "Epoch    14, train loss 0.589184, train error 22.15,  val loss 1.143071, percent error 39.90\n",
            "Epoch    15, train loss 0.551265, train error 21.05,  val loss 1.217799, percent error 40.80\n",
            "Epoch    16, train loss 0.408882, train error 15.00,  val loss 1.093065, percent error 37.00\n",
            "Epoch    17, train loss 0.349302, train error 12.32,  val loss 1.102609, percent error 36.00\n",
            "Epoch    18, train loss 0.342409, train error 12.68,  val loss 1.101047, percent error 35.60\n",
            "Epoch    19, train loss 0.374261, train error 13.38,  val loss 1.270294, percent error 39.00\n",
            "Epoch    20, train loss 0.164805, train error 4.88,  val loss 1.183602, percent error 35.90\n",
            "Epoch    21, train loss 0.114213, train error 3.05,  val loss 1.266282, percent error 34.50\n",
            "Epoch    22, train loss 0.076434, train error 1.80,  val loss 1.443972, percent error 35.00\n",
            "Epoch    23, train loss 0.050416, train error 0.93,  val loss 1.544277, percent error 35.00\n",
            "Epoch    24, train loss 0.030253, train error 0.45,  val loss 1.696281, percent error 35.30\n",
            "Epoch    25, train loss 0.020090, train error 0.07,  val loss 1.809907, percent error 35.40\n",
            "Epoch    26, train loss 0.015236, train error 0.10,  val loss 1.889409, percent error 35.10\n",
            "Epoch    27, train loss 0.008748, train error 0.00,  val loss 1.980613, percent error 35.60\n",
            "Epoch    28, train loss 0.005601, train error 0.00,  val loss 2.050347, percent error 35.10\n",
            "Epoch    29, train loss 0.004183, train error 0.00,  val loss 2.131462, percent error 34.70\n",
            "Epoch    30, train loss 0.003342, train error 0.00,  val loss 2.189772, percent error 34.40\n",
            "Epoch    31, train loss 0.002869, train error 0.00,  val loss 2.240210, percent error 34.70\n",
            "Epoch    32, train loss 0.002467, train error 0.00,  val loss 2.283718, percent error 34.80\n",
            "Epoch    33, train loss 0.002202, train error 0.00,  val loss 2.319711, percent error 34.50\n",
            "Epoch    34, train loss 0.001959, train error 0.00,  val loss 2.350649, percent error 34.80\n",
            "Epoch    35, train loss 0.001770, train error 0.00,  val loss 2.391077, percent error 34.70\n",
            "Epoch    36, train loss 0.001607, train error 0.00,  val loss 2.415784, percent error 34.80\n",
            "Epoch    37, train loss 0.001472, train error 0.00,  val loss 2.445340, percent error 34.60\n",
            "Epoch    38, train loss 0.001373, train error 0.00,  val loss 2.472074, percent error 34.70\n",
            "Epoch    39, train loss 0.001260, train error 0.00,  val loss 2.495777, percent error 34.80\n",
            "Epoch    40, train loss 0.001213, train error 0.00,  val loss 2.507752, percent error 34.90\n",
            "Epoch    41, train loss 0.001171, train error 0.00,  val loss 2.520318, percent error 34.80\n",
            "Epoch    42, train loss 0.001131, train error 0.00,  val loss 2.530915, percent error 35.00\n",
            "Epoch    43, train loss 0.001095, train error 0.00,  val loss 2.543597, percent error 35.10\n",
            "Epoch    44, train loss 0.001061, train error 0.00,  val loss 2.554080, percent error 35.00\n",
            "Epoch    45, train loss 0.001028, train error 0.00,  val loss 2.563939, percent error 35.30\n",
            "Epoch    46, train loss 0.000998, train error 0.00,  val loss 2.574188, percent error 35.30\n",
            "Epoch    47, train loss 0.000969, train error 0.00,  val loss 2.583156, percent error 35.20\n",
            "Epoch    48, train loss 0.000943, train error 0.00,  val loss 2.592964, percent error 35.10\n",
            "Epoch    49, train loss 0.000915, train error 0.00,  val loss 2.602024, percent error 35.20\n",
            "Epoch    50, train loss 0.000891, train error 0.00,  val loss 2.612278, percent error 35.30\n",
            "Epoch    51, train loss 0.000867, train error 0.00,  val loss 2.619262, percent error 35.10\n",
            "Epoch    52, train loss 0.000844, train error 0.00,  val loss 2.628832, percent error 35.10\n",
            "Epoch    53, train loss 0.000823, train error 0.00,  val loss 2.638269, percent error 35.30\n",
            "Epoch    54, train loss 0.000802, train error 0.00,  val loss 2.645206, percent error 35.10\n",
            "Epoch    55, train loss 0.000783, train error 0.00,  val loss 2.656030, percent error 35.20\n",
            "Epoch    56, train loss 0.000764, train error 0.00,  val loss 2.662344, percent error 35.10\n",
            "Epoch    57, train loss 0.000746, train error 0.00,  val loss 2.670977, percent error 35.20\n",
            "Epoch    58, train loss 0.000728, train error 0.00,  val loss 2.678092, percent error 35.20\n",
            "Epoch    59, train loss 0.000712, train error 0.00,  val loss 2.686080, percent error 35.20\n",
            "Epoch    60, train loss 0.000704, train error 0.00,  val loss 2.689330, percent error 35.20\n",
            "Epoch    61, train loss 0.000696, train error 0.00,  val loss 2.693243, percent error 35.20\n",
            "Epoch    62, train loss 0.000688, train error 0.00,  val loss 2.697141, percent error 35.20\n",
            "Epoch    63, train loss 0.000681, train error 0.00,  val loss 2.700417, percent error 35.20\n",
            "Epoch    64, train loss 0.000673, train error 0.00,  val loss 2.704285, percent error 35.30\n",
            "Epoch    65, train loss 0.000666, train error 0.00,  val loss 2.707681, percent error 35.20\n",
            "Epoch    66, train loss 0.000659, train error 0.00,  val loss 2.711339, percent error 35.20\n",
            "Epoch    67, train loss 0.000652, train error 0.00,  val loss 2.715082, percent error 35.30\n",
            "Epoch    68, train loss 0.000645, train error 0.00,  val loss 2.718793, percent error 35.30\n",
            "Epoch    69, train loss 0.000639, train error 0.00,  val loss 2.721559, percent error 35.30\n",
            "Epoch    70, train loss 0.000632, train error 0.00,  val loss 2.725429, percent error 35.30\n",
            "Epoch    71, train loss 0.000626, train error 0.00,  val loss 2.728684, percent error 35.30\n",
            "Epoch    72, train loss 0.000619, train error 0.00,  val loss 2.731808, percent error 35.40\n",
            "Epoch    73, train loss 0.000613, train error 0.00,  val loss 2.734937, percent error 35.30\n",
            "Epoch    74, train loss 0.000607, train error 0.00,  val loss 2.738484, percent error 35.30\n",
            "Epoch    75, train loss 0.000601, train error 0.00,  val loss 2.742287, percent error 35.30\n",
            "Epoch    76, train loss 0.000595, train error 0.00,  val loss 2.744837, percent error 35.40\n",
            "Epoch    77, train loss 0.000589, train error 0.00,  val loss 2.747949, percent error 35.40\n",
            "Epoch    78, train loss 0.000584, train error 0.00,  val loss 2.751837, percent error 35.30\n",
            "Epoch    79, train loss 0.000578, train error 0.00,  val loss 2.754570, percent error 35.30\n",
            "Epoch    80, train loss 0.000575, train error 0.00,  val loss 2.756291, percent error 35.30\n",
            "Epoch    81, train loss 0.000572, train error 0.00,  val loss 2.757737, percent error 35.30\n",
            "Epoch    82, train loss 0.000570, train error 0.00,  val loss 2.759438, percent error 35.30\n",
            "Epoch    83, train loss 0.000567, train error 0.00,  val loss 2.761120, percent error 35.30\n",
            "Epoch    84, train loss 0.000564, train error 0.00,  val loss 2.762655, percent error 35.30\n",
            "Epoch    85, train loss 0.000562, train error 0.00,  val loss 2.764086, percent error 35.20\n",
            "Epoch    86, train loss 0.000559, train error 0.00,  val loss 2.765788, percent error 35.30\n",
            "Epoch    87, train loss 0.000557, train error 0.00,  val loss 2.767262, percent error 35.30\n",
            "Epoch    88, train loss 0.000554, train error 0.00,  val loss 2.768900, percent error 35.20\n",
            "Epoch    89, train loss 0.000552, train error 0.00,  val loss 2.770308, percent error 35.20\n",
            "Epoch    90, train loss 0.000549, train error 0.00,  val loss 2.771863, percent error 35.20\n",
            "Epoch    91, train loss 0.000546, train error 0.00,  val loss 2.773502, percent error 35.20\n",
            "Epoch    92, train loss 0.000544, train error 0.00,  val loss 2.775108, percent error 35.20\n",
            "Epoch    93, train loss 0.000541, train error 0.00,  val loss 2.776420, percent error 35.20\n",
            "Epoch    94, train loss 0.000539, train error 0.00,  val loss 2.777903, percent error 35.20\n",
            "Epoch    95, train loss 0.000537, train error 0.00,  val loss 2.779552, percent error 35.10\n",
            "Epoch    96, train loss 0.000534, train error 0.00,  val loss 2.780860, percent error 35.10\n",
            "Epoch    97, train loss 0.000532, train error 0.00,  val loss 2.782508, percent error 35.20\n",
            "Epoch    98, train loss 0.000529, train error 0.00,  val loss 2.783889, percent error 35.20\n",
            "Epoch    99, train loss 0.000527, train error 0.00,  val loss 2.785424, percent error 35.10\n"
          ]
        }
      ]
    },
    {
      "cell_type": "code",
      "source": [
        " # Plot the results\n",
        "fig, ax = plt.subplots()\n",
        "ax.plot(errors_train,'r-',label='train')\n",
        "ax.plot(errors_val,'b-',label='test')\n",
        "ax.set_ylim(0,100); ax.set_xlim(0,n_epoch)\n",
        "ax.set_xlabel('Epoch'); ax.set_ylabel('Error')\n",
        "ax.set_title('TrainError %3.2f, Val Error %3.2f'%(errors_train[-1],errors_val[-1]))\n",
        "ax.legend()\n",
        "plt.show()"
      ],
      "metadata": {
        "id": "CcP_VyEmE2sv",
        "colab": {
          "base_uri": "https://localhost:8080/",
          "height": 472
        },
        "outputId": "21eabf38-0253-473c-9077-5609de430a95"
      },
      "execution_count": 59,
      "outputs": [
        {
          "output_type": "display_data",
          "data": {
            "text/plain": [
              "<Figure size 640x480 with 1 Axes>"
            ],
            "image/png": "[encoded data removed]"
          },
          "metadata": {}
        }
      ]
    },
    {
      "cell_type": "code",
      "source": [
        "ire"
      ],
      "metadata": {
        "id": "4Y7e6Y2sPSym"
      },
      "execution_count": null,
      "outputs": []
    },
    {
      "cell_type": "code",
      "source": [],
      "metadata": {
        "id": "dqdTsKI1PSBu"
      },
      "execution_count": null,
      "outputs": []
    },
    {
      "cell_type": "markdown",
      "source": [
        "## What's Next?\n",
        "\n",
        "The primary motivation of residual networks is to allow training of much deeper networks. Change the network structure to become a residual network.\n",
        "\n",
        "TODO: Try running this network with and without the residual connections.  Does adding the residual connections change the performance?"
      ],
      "metadata": {
        "id": "wMmqhmxuAx0M"
      }
    },
    {
      "cell_type": "markdown",
      "source": [
        "#draft ↓"
      ],
      "metadata": {
        "id": "hQvu5jmkRTl1"
      }
    },
    {
      "cell_type": "code",
      "source": [
        "x = np.array([i for i in range(30)])\n",
        "x.shape, x"
      ],
      "metadata": {
        "colab": {
          "base_uri": "https://localhost:8080/"
        },
        "id": "5hhT2IwYRTDL",
        "outputId": "93fe319e-fd8f-4b04-9df8-9fe253412800"
      },
      "execution_count": null,
      "outputs": [
        {
          "output_type": "execute_result",
          "data": {
            "text/plain": [
              "((30,),\n",
              " array([ 0,  1,  2,  3,  4,  5,  6,  7,  8,  9, 10, 11, 12, 13, 14, 15, 16,\n",
              "        17, 18, 19, 20, 21, 22, 23, 24, 25, 26, 27, 28, 29]))"
            ]
          },
          "metadata": {},
          "execution_count": 4
        }
      ]
    },
    {
      "cell_type": "code",
      "source": [
        "y = x.reshape(30, 1)\n",
        "y.shape, y"
      ],
      "metadata": {
        "id": "a_AXhFDWR--4"
      },
      "execution_count": null,
      "outputs": []
    },
    {
      "cell_type": "code",
      "source": [
        "n = np.array([1,2,4,5,6])\n",
        "n.reshape\n",
        "n"
      ],
      "metadata": {
        "id": "FxVkoRM8TZpK",
        "colab": {
          "base_uri": "https://localhost:8080/",
          "height": 211
        },
        "outputId": "103bd269-ff10-4778-bd75-ad0ce46a7198"
      },
      "execution_count": 23,
      "outputs": [
        {
          "output_type": "error",
          "ename": "TypeError",
          "evalue": "only integer scalar arrays can be converted to a scalar index",
          "traceback": [
            "\u001b[0;31m---------------------------------------------------------------------------\u001b[0m",
            "\u001b[0;31mTypeError\u001b[0m                                 Traceback (most recent call last)",
            "\u001b[0;32m<ipython-input-23-a5fd8959bb01>\u001b[0m in \u001b[0;36m<cell line: 2>\u001b[0;34m()\u001b[0m\n\u001b[1;32m      1\u001b[0m \u001b[0mn\u001b[0m \u001b[0;34m=\u001b[0m \u001b[0mnp\u001b[0m\u001b[0;34m.\u001b[0m\u001b[0marray\u001b[0m\u001b[0;34m(\u001b[0m\u001b[0;34m[\u001b[0m\u001b[0;36m1\u001b[0m\u001b[0;34m,\u001b[0m\u001b[0;36m2\u001b[0m\u001b[0;34m,\u001b[0m\u001b[0;36m4\u001b[0m\u001b[0;34m,\u001b[0m\u001b[0;36m5\u001b[0m\u001b[0;34m,\u001b[0m\u001b[0;36m6\u001b[0m\u001b[0;34m]\u001b[0m\u001b[0;34m)\u001b[0m\u001b[0;34m\u001b[0m\u001b[0;34m\u001b[0m\u001b[0m\n\u001b[0;32m----> 2\u001b[0;31m \u001b[0mn\u001b[0m\u001b[0;34m.\u001b[0m\u001b[0mreshape\u001b[0m\u001b[0;34m(\u001b[0m\u001b[0mn\u001b[0m\u001b[0;34m,\u001b[0m\u001b[0;36m1\u001b[0m\u001b[0;34m)\u001b[0m\u001b[0;34m\u001b[0m\u001b[0;34m\u001b[0m\u001b[0m\n\u001b[0m\u001b[1;32m      3\u001b[0m \u001b[0mn\u001b[0m\u001b[0;34m\u001b[0m\u001b[0;34m\u001b[0m\u001b[0m\n",
            "\u001b[0;31mTypeError\u001b[0m: only integer scalar arrays can be converted to a scalar index"
          ]
        }
      ]
    },
    {
      "cell_type": "code",
      "source": [],
      "metadata": {
        "id": "_hnyLIPUT9w2"
      },
      "execution_count": null,
      "outputs": []
    }
  ]
}